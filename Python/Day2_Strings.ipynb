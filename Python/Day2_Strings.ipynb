{
 "cells": [
  {
   "cell_type": "code",
   "execution_count": 4,
   "id": "c67028d3-2cea-453d-97cf-746c32d26acf",
   "metadata": {},
   "outputs": [],
   "source": [
    "string=\"Data science\""
   ]
  },
  {
   "cell_type": "code",
   "execution_count": 2,
   "id": "2dd3b203-79fb-439f-8248-b3fd30a7ede9",
   "metadata": {},
   "outputs": [
    {
     "name": "stdout",
     "output_type": "stream",
     "text": [
      "DATA SCIENCE\n"
     ]
    }
   ],
   "source": [
    "print(string.upper())"
   ]
  },
  {
   "cell_type": "code",
   "execution_count": 5,
   "id": "65bce482-3486-44ab-bbc7-e8c1c6ea9ed1",
   "metadata": {},
   "outputs": [
    {
     "data": {
      "text/plain": [
       "'data science'"
      ]
     },
     "execution_count": 5,
     "metadata": {},
     "output_type": "execute_result"
    }
   ],
   "source": [
    "string.lower()"
   ]
  },
  {
   "cell_type": "code",
   "execution_count": 8,
   "id": "b786d78f-606c-4211-a221-ec7541b88e13",
   "metadata": {},
   "outputs": [
    {
     "data": {
      "text/plain": [
       "True"
      ]
     },
     "execution_count": 8,
     "metadata": {},
     "output_type": "execute_result"
    }
   ],
   "source": [
    "string=\"DATA \"\n",
    "string.isupper()"
   ]
  },
  {
   "cell_type": "code",
   "execution_count": 10,
   "id": "2fcfc044-1aa5-4a44-9948-8c394ad8a408",
   "metadata": {},
   "outputs": [
    {
     "data": {
      "text/plain": [
       "False"
      ]
     },
     "execution_count": 10,
     "metadata": {},
     "output_type": "execute_result"
    }
   ],
   "source": [
    "string=\"Data\"\n",
    "string.islower()"
   ]
  },
  {
   "cell_type": "code",
   "execution_count": 11,
   "id": "7d752ba9-1323-4065-8e3b-0fc23ef51d8b",
   "metadata": {},
   "outputs": [
    {
     "data": {
      "text/plain": [
       "'Data science'"
      ]
     },
     "execution_count": 11,
     "metadata": {},
     "output_type": "execute_result"
    }
   ],
   "source": [
    "string=\"data science\"\n",
    "string.capitalize()"
   ]
  },
  {
   "cell_type": "code",
   "execution_count": 12,
   "id": "16565ef7-df8e-43a8-8ac8-18fa566f2c1e",
   "metadata": {},
   "outputs": [
    {
     "data": {
      "text/plain": [
       "'Data Science'"
      ]
     },
     "execution_count": 12,
     "metadata": {},
     "output_type": "execute_result"
    }
   ],
   "source": [
    "string=\"data science\"\n",
    "string.title()"
   ]
  },
  {
   "cell_type": "code",
   "execution_count": 13,
   "id": "5a0dcb87-32de-45df-ba73-124ed723ca0e",
   "metadata": {},
   "outputs": [
    {
     "data": {
      "text/plain": [
       "'data SCIENCE'"
      ]
     },
     "execution_count": 13,
     "metadata": {},
     "output_type": "execute_result"
    }
   ],
   "source": [
    "string=\"DATA science\"\n",
    "string.swapcase()"
   ]
  },
  {
   "cell_type": "code",
   "execution_count": 15,
   "id": "d924492a-0763-4fc8-b0ad-a3a5d133f833",
   "metadata": {},
   "outputs": [],
   "source": [
    "string=\" data \""
   ]
  },
  {
   "cell_type": "code",
   "execution_count": 16,
   "id": "485fd6a4-5bf9-4547-b239-4e246878740d",
   "metadata": {},
   "outputs": [
    {
     "data": {
      "text/plain": [
       "'data'"
      ]
     },
     "execution_count": 16,
     "metadata": {},
     "output_type": "execute_result"
    }
   ],
   "source": [
    "string.strip()"
   ]
  },
  {
   "cell_type": "code",
   "execution_count": 17,
   "id": "3c354e58-6cdd-44ea-a6a6-2435eb7ee2af",
   "metadata": {},
   "outputs": [
    {
     "data": {
      "text/plain": [
       "'data '"
      ]
     },
     "execution_count": 17,
     "metadata": {},
     "output_type": "execute_result"
    }
   ],
   "source": [
    "string.lstrip()"
   ]
  },
  {
   "cell_type": "code",
   "execution_count": 18,
   "id": "8abfdf2d-6c9e-4f2a-a530-5d9b17e2a215",
   "metadata": {},
   "outputs": [
    {
     "data": {
      "text/plain": [
       "' data'"
      ]
     },
     "execution_count": 18,
     "metadata": {},
     "output_type": "execute_result"
    }
   ],
   "source": [
    "string.rstrip()"
   ]
  },
  {
   "cell_type": "code",
   "execution_count": 20,
   "id": "b86cdda5-d803-422e-95b9-2dfdedc866a0",
   "metadata": {},
   "outputs": [],
   "source": [
    "string=\"data science\""
   ]
  },
  {
   "cell_type": "code",
   "execution_count": 21,
   "id": "88014dc8-9add-4b93-bbd1-eeb367627906",
   "metadata": {},
   "outputs": [
    {
     "data": {
      "text/plain": [
       "'dxyztxyz science'"
      ]
     },
     "execution_count": 21,
     "metadata": {},
     "output_type": "execute_result"
    }
   ],
   "source": [
    "string.replace(\"a\",\"xyz\")"
   ]
  },
  {
   "cell_type": "code",
   "execution_count": 23,
   "id": "f6f03bbd-e4b4-43d2-8d47-78a5deae46c8",
   "metadata": {},
   "outputs": [
    {
     "data": {
      "text/plain": [
       "'91-7338339898'"
      ]
     },
     "execution_count": 23,
     "metadata": {},
     "output_type": "execute_result"
    }
   ],
   "source": [
    "string=\"91 7338339898\"\n",
    "string.replace(\" \",\"-\")"
   ]
  },
  {
   "cell_type": "code",
   "execution_count": 25,
   "id": "0562ff40-d324-4cf5-ad6c-9b9c44e717a1",
   "metadata": {},
   "outputs": [],
   "source": [
    "string=\"data science\""
   ]
  },
  {
   "cell_type": "code",
   "execution_count": 28,
   "id": "f05764bf-b302-41cb-bc67-a7361e6754f9",
   "metadata": {},
   "outputs": [
    {
     "data": {
      "text/plain": [
       "1"
      ]
     },
     "execution_count": 28,
     "metadata": {},
     "output_type": "execute_result"
    }
   ],
   "source": [
    "string.count('a',1,2)  ##3 start:end"
   ]
  },
  {
   "cell_type": "code",
   "execution_count": 29,
   "id": "00877fd0-f7ce-404e-b38f-2ad071018978",
   "metadata": {},
   "outputs": [
    {
     "data": {
      "text/plain": [
       "'data science'"
      ]
     },
     "execution_count": 29,
     "metadata": {},
     "output_type": "execute_result"
    }
   ],
   "source": [
    "string"
   ]
  },
  {
   "cell_type": "code",
   "execution_count": 32,
   "id": "d6b31894-ad34-4093-8aef-34d34e892fdf",
   "metadata": {},
   "outputs": [
    {
     "ename": "ValueError",
     "evalue": "substring not found",
     "output_type": "error",
     "traceback": [
      "\u001b[1;31m---------------------------------------------------------------------------\u001b[0m",
      "\u001b[1;31mValueError\u001b[0m                                Traceback (most recent call last)",
      "Cell \u001b[1;32mIn[32], line 1\u001b[0m\n\u001b[1;32m----> 1\u001b[0m \u001b[43mstring\u001b[49m\u001b[38;5;241;43m.\u001b[39;49m\u001b[43mindex\u001b[49m\u001b[43m(\u001b[49m\u001b[38;5;124;43m\"\u001b[39;49m\u001b[38;5;124;43mx\u001b[39;49m\u001b[38;5;124;43m\"\u001b[39;49m\u001b[43m)\u001b[49m\n",
      "\u001b[1;31mValueError\u001b[0m: substring not found"
     ]
    }
   ],
   "source": [
    "string.index(\"x\")"
   ]
  },
  {
   "cell_type": "code",
   "execution_count": 33,
   "id": "7f1f88aa-7186-4f45-887d-e89ce71164ea",
   "metadata": {},
   "outputs": [
    {
     "data": {
      "text/plain": [
       "-1"
      ]
     },
     "execution_count": 33,
     "metadata": {},
     "output_type": "execute_result"
    }
   ],
   "source": [
    "string.find(\"x\")"
   ]
  },
  {
   "cell_type": "code",
   "execution_count": 34,
   "id": "c83cbe6e-ac33-403a-b8c2-5fdadf7dd7c1",
   "metadata": {},
   "outputs": [],
   "source": [
    "string=\"data science\""
   ]
  },
  {
   "cell_type": "code",
   "execution_count": 35,
   "id": "5b633593-1324-4c3d-828b-cefb4c36c461",
   "metadata": {},
   "outputs": [
    {
     "data": {
      "text/plain": [
       "False"
      ]
     },
     "execution_count": 35,
     "metadata": {},
     "output_type": "execute_result"
    }
   ],
   "source": [
    "string.isupper()"
   ]
  },
  {
   "cell_type": "code",
   "execution_count": 36,
   "id": "e3236c18-8af6-46e1-8a29-07d394f50cb4",
   "metadata": {},
   "outputs": [
    {
     "data": {
      "text/plain": [
       "True"
      ]
     },
     "execution_count": 36,
     "metadata": {},
     "output_type": "execute_result"
    }
   ],
   "source": [
    "string.islower()"
   ]
  },
  {
   "cell_type": "code",
   "execution_count": 38,
   "id": "3e5508d6-cf64-428e-8252-1fed9084c8a3",
   "metadata": {},
   "outputs": [
    {
     "data": {
      "text/plain": [
       "'data science'"
      ]
     },
     "execution_count": 38,
     "metadata": {},
     "output_type": "execute_result"
    }
   ],
   "source": [
    "string"
   ]
  },
  {
   "cell_type": "code",
   "execution_count": 41,
   "id": "96633f85-8ba4-4063-a77e-32d196538cd4",
   "metadata": {},
   "outputs": [
    {
     "data": {
      "text/plain": [
       "True"
      ]
     },
     "execution_count": 41,
     "metadata": {},
     "output_type": "execute_result"
    }
   ],
   "source": [
    "string.endswith(\"ce\")"
   ]
  },
  {
   "cell_type": "code",
   "execution_count": 45,
   "id": "79c305ee-3621-4862-aa15-791d74f828f4",
   "metadata": {},
   "outputs": [
    {
     "data": {
      "text/plain": [
       "False"
      ]
     },
     "execution_count": 45,
     "metadata": {},
     "output_type": "execute_result"
    }
   ],
   "source": [
    "string.startswith(\"datas\")"
   ]
  },
  {
   "cell_type": "code",
   "execution_count": 46,
   "id": "3e794338-0c56-46ce-8e06-81fd1fff2846",
   "metadata": {},
   "outputs": [
    {
     "data": {
      "text/plain": [
       "'data science'"
      ]
     },
     "execution_count": 46,
     "metadata": {},
     "output_type": "execute_result"
    }
   ],
   "source": [
    "string"
   ]
  },
  {
   "cell_type": "code",
   "execution_count": 53,
   "id": "0c2e1165-09fd-49f7-b787-edfaa295e815",
   "metadata": {},
   "outputs": [],
   "source": [
    "string=\"733833a\""
   ]
  },
  {
   "cell_type": "code",
   "execution_count": 54,
   "id": "eed18674-0784-4352-8a76-1258a589ca71",
   "metadata": {},
   "outputs": [
    {
     "data": {
      "text/plain": [
       "False"
      ]
     },
     "execution_count": 54,
     "metadata": {},
     "output_type": "execute_result"
    }
   ],
   "source": [
    "string.isnumeric()"
   ]
  },
  {
   "cell_type": "code",
   "execution_count": 58,
   "id": "1790333d-e13c-455e-b84c-3629a220a4ff",
   "metadata": {},
   "outputs": [
    {
     "data": {
      "text/plain": [
       "True"
      ]
     },
     "execution_count": 58,
     "metadata": {},
     "output_type": "execute_result"
    }
   ],
   "source": [
    "string=\"data\"\n",
    "string.isalpha()"
   ]
  },
  {
   "cell_type": "code",
   "execution_count": 62,
   "id": "32b5e70d-2fbc-42c8-97ff-845d3ea1da6b",
   "metadata": {},
   "outputs": [
    {
     "data": {
      "text/plain": [
       "False"
      ]
     },
     "execution_count": 62,
     "metadata": {},
     "output_type": "execute_result"
    }
   ],
   "source": [
    "string=\"7\"\n",
    "string.isalnum()  ### Either alpha or numeric"
   ]
  },
  {
   "cell_type": "code",
   "execution_count": null,
   "id": "077854e7-b702-4388-bb91-4c189a30f3d7",
   "metadata": {},
   "outputs": [],
   "source": []
  },
  {
   "cell_type": "code",
   "execution_count": null,
   "id": "99a2a076-cee6-4774-aa59-d04a7872c40f",
   "metadata": {},
   "outputs": [],
   "source": []
  },
  {
   "cell_type": "code",
   "execution_count": 64,
   "id": "0e63473e-3bb0-49f2-9228-d738002ccdb1",
   "metadata": {},
   "outputs": [],
   "source": [
    "string=\"Data 723 science\""
   ]
  },
  {
   "cell_type": "code",
   "execution_count": 65,
   "id": "b3b723bb-a1fb-4225-8997-703103ad9563",
   "metadata": {},
   "outputs": [
    {
     "data": {
      "text/plain": [
       "'Data 723 science'"
      ]
     },
     "execution_count": 65,
     "metadata": {},
     "output_type": "execute_result"
    }
   ],
   "source": [
    "string"
   ]
  },
  {
   "cell_type": "code",
   "execution_count": 66,
   "id": "6760f03c-9b64-44dc-82c7-dc627d4fda90",
   "metadata": {},
   "outputs": [
    {
     "data": {
      "text/plain": [
       "False"
      ]
     },
     "execution_count": 66,
     "metadata": {},
     "output_type": "execute_result"
    }
   ],
   "source": [
    "string[0:4].isupper()"
   ]
  },
  {
   "cell_type": "code",
   "execution_count": 67,
   "id": "854e0543-859c-486b-b22c-6bcc44c8c020",
   "metadata": {},
   "outputs": [
    {
     "data": {
      "text/plain": [
       "True"
      ]
     },
     "execution_count": 67,
     "metadata": {},
     "output_type": "execute_result"
    }
   ],
   "source": [
    "string[-3:-1].islower()"
   ]
  },
  {
   "cell_type": "code",
   "execution_count": 68,
   "id": "984b70bc-47d2-499e-aff9-a2827af21073",
   "metadata": {},
   "outputs": [
    {
     "data": {
      "text/plain": [
       "'NC'"
      ]
     },
     "execution_count": 68,
     "metadata": {},
     "output_type": "execute_result"
    }
   ],
   "source": [
    "string[-3:-1].swapcase()"
   ]
  },
  {
   "cell_type": "code",
   "execution_count": null,
   "id": "f204a847-aee9-46b8-86f3-04bd276cf846",
   "metadata": {},
   "outputs": [],
   "source": []
  },
  {
   "cell_type": "code",
   "execution_count": 69,
   "id": "a72cfb40-776d-4f0d-910b-1d6a25d9fee6",
   "metadata": {},
   "outputs": [
    {
     "data": {
      "text/plain": [
       "'Data 723 science'"
      ]
     },
     "execution_count": 69,
     "metadata": {},
     "output_type": "execute_result"
    }
   ],
   "source": [
    "string"
   ]
  },
  {
   "cell_type": "code",
   "execution_count": 70,
   "id": "b738bcf1-d417-4ee3-aca4-602625f70c0c",
   "metadata": {},
   "outputs": [
    {
     "data": {
      "text/plain": [
       "'Dat'"
      ]
     },
     "execution_count": 70,
     "metadata": {},
     "output_type": "execute_result"
    }
   ],
   "source": [
    "string[0:3].title()"
   ]
  },
  {
   "cell_type": "code",
   "execution_count": null,
   "id": "6d0b5c47-c843-4948-9c52-598c4abcbee8",
   "metadata": {},
   "outputs": [],
   "source": []
  },
  {
   "cell_type": "code",
   "execution_count": 75,
   "id": "863d1be5-f182-436c-8343-c8b3c574016b",
   "metadata": {},
   "outputs": [
    {
     "data": {
      "text/plain": [
       "'00000000data'"
      ]
     },
     "execution_count": 75,
     "metadata": {},
     "output_type": "execute_result"
    }
   ],
   "source": [
    "string=\"data\"\n",
    "string.zfill(12)"
   ]
  },
  {
   "cell_type": "code",
   "execution_count": 76,
   "id": "596be692-6a74-497f-a1ce-ab8ca26459b5",
   "metadata": {},
   "outputs": [
    {
     "data": {
      "text/plain": [
       "'data'"
      ]
     },
     "execution_count": 76,
     "metadata": {},
     "output_type": "execute_result"
    }
   ],
   "source": [
    "string"
   ]
  },
  {
   "cell_type": "code",
   "execution_count": 79,
   "id": "258f83b1-d6a0-47dc-8d67-b933d27017b5",
   "metadata": {},
   "outputs": [
    {
     "data": {
      "text/plain": [
       "'   data  '"
      ]
     },
     "execution_count": 79,
     "metadata": {},
     "output_type": "execute_result"
    }
   ],
   "source": [
    "string.center(9,\" \")"
   ]
  },
  {
   "cell_type": "code",
   "execution_count": 83,
   "id": "4fa1aa3a-884b-4587-93cf-627c11cf9cc6",
   "metadata": {},
   "outputs": [
    {
     "data": {
      "text/plain": [
       "['d', 't', '-science']"
      ]
     },
     "execution_count": 83,
     "metadata": {},
     "output_type": "execute_result"
    }
   ],
   "source": [
    "string=\"data-science\"\n",
    "string.split(\"a\")"
   ]
  },
  {
   "cell_type": "code",
   "execution_count": 84,
   "id": "dfdd4708-88cb-4d68-b494-2e05c5dc9064",
   "metadata": {},
   "outputs": [
    {
     "data": {
      "text/plain": [
       "['data-sci', 'nc', '']"
      ]
     },
     "execution_count": 84,
     "metadata": {},
     "output_type": "execute_result"
    }
   ],
   "source": [
    "string=\"data-science\"\n",
    "string.split(\"e\")"
   ]
  },
  {
   "cell_type": "code",
   "execution_count": 85,
   "id": "447c6220-b1c4-483b-88c7-5c7ddb4f1dd0",
   "metadata": {},
   "outputs": [
    {
     "data": {
      "text/plain": [
       "'datascience'"
      ]
     },
     "execution_count": 85,
     "metadata": {},
     "output_type": "execute_result"
    }
   ],
   "source": [
    "\"data\"+\"science\""
   ]
  },
  {
   "cell_type": "code",
   "execution_count": 89,
   "id": "319b91e4-1a4c-4365-8a66-3fd23ddd1358",
   "metadata": {},
   "outputs": [
    {
     "data": {
      "text/plain": [
       "'data data data data data '"
      ]
     },
     "execution_count": 89,
     "metadata": {},
     "output_type": "execute_result"
    }
   ],
   "source": [
    "\"data \"*5"
   ]
  },
  {
   "cell_type": "code",
   "execution_count": null,
   "id": "27155836-5e60-4d00-b1ee-ad09e21ec504",
   "metadata": {},
   "outputs": [],
   "source": []
  },
  {
   "cell_type": "code",
   "execution_count": null,
   "id": "1353493c-c7e2-4324-ad59-4770b25aed15",
   "metadata": {},
   "outputs": [],
   "source": []
  },
  {
   "cell_type": "code",
   "execution_count": null,
   "id": "378bb5f6-77c6-4017-814f-ffa3a4faef54",
   "metadata": {},
   "outputs": [],
   "source": []
  },
  {
   "cell_type": "code",
   "execution_count": 90,
   "id": "478bbe4c-ecb6-47f5-a802-9916d935eb55",
   "metadata": {},
   "outputs": [],
   "source": [
    "x=\"data science\""
   ]
  },
  {
   "cell_type": "code",
   "execution_count": 95,
   "id": "bd2d587e-f6ea-4a73-8659-afd80efc65e0",
   "metadata": {},
   "outputs": [
    {
     "data": {
      "text/plain": [
       "'Da'"
      ]
     },
     "execution_count": 95,
     "metadata": {},
     "output_type": "execute_result"
    }
   ],
   "source": [
    "x[0:2].capitalize()"
   ]
  },
  {
   "cell_type": "code",
   "execution_count": 92,
   "id": "4c148a91-e9df-4b5f-b786-25715f475ab2",
   "metadata": {},
   "outputs": [
    {
     "data": {
      "text/plain": [
       "'dA'"
      ]
     },
     "execution_count": 92,
     "metadata": {},
     "output_type": "execute_result"
    }
   ],
   "source": [
    "\"dA\""
   ]
  },
  {
   "cell_type": "code",
   "execution_count": null,
   "id": "a771a15e-5750-4801-a4e3-030e96fb1171",
   "metadata": {},
   "outputs": [],
   "source": []
  },
  {
   "cell_type": "code",
   "execution_count": 96,
   "id": "dadc36ae-a94f-4f71-8a70-a3e168c7ecbc",
   "metadata": {},
   "outputs": [],
   "source": [
    "x=\"Data science\"\n",
    "y=\"data engineering\""
   ]
  },
  {
   "cell_type": "code",
   "execution_count": null,
   "id": "3e53d64f-520b-4d19-9c92-a1e4aad88c49",
   "metadata": {},
   "outputs": [],
   "source": [
    "output : \"DATA Engineering\""
   ]
  },
  {
   "cell_type": "code",
   "execution_count": 102,
   "id": "e29aa0b0-f54e-423e-ab8f-d45643056fe9",
   "metadata": {},
   "outputs": [
    {
     "data": {
      "text/plain": [
       "'DATA Engineering'"
      ]
     },
     "execution_count": 102,
     "metadata": {},
     "output_type": "execute_result"
    }
   ],
   "source": [
    "x[0:4].upper()+' '+y[5:].capitalize()"
   ]
  },
  {
   "cell_type": "code",
   "execution_count": 100,
   "id": "a13626ee-ea3a-48a2-90a3-b5928cd60567",
   "metadata": {},
   "outputs": [
    {
     "data": {
      "text/plain": [
       "'Engineering'"
      ]
     },
     "execution_count": 100,
     "metadata": {},
     "output_type": "execute_result"
    }
   ],
   "source": [
    "y[5:].capitalize()"
   ]
  },
  {
   "cell_type": "code",
   "execution_count": 105,
   "id": "28254cb9-3fcf-437d-bff8-08be30b71dc5",
   "metadata": {},
   "outputs": [
    {
     "data": {
      "text/plain": [
       "str"
      ]
     },
     "execution_count": 105,
     "metadata": {},
     "output_type": "execute_result"
    }
   ],
   "source": [
    "x=''' '''\n",
    "type(x)"
   ]
  },
  {
   "cell_type": "code",
   "execution_count": 106,
   "id": "4286f726-624f-4f63-beab-f94577436b17",
   "metadata": {},
   "outputs": [],
   "source": [
    "### list"
   ]
  },
  {
   "cell_type": "code",
   "execution_count": 107,
   "id": "c5a63f2a-cbed-42d3-9918-2df34368f4e6",
   "metadata": {},
   "outputs": [
    {
     "data": {
      "text/plain": [
       "list"
      ]
     },
     "execution_count": 107,
     "metadata": {},
     "output_type": "execute_result"
    }
   ],
   "source": [
    "x=[]\n",
    "type(x)"
   ]
  },
  {
   "cell_type": "code",
   "execution_count": 108,
   "id": "d0f996de-6a8a-4030-902c-171f03a95770",
   "metadata": {},
   "outputs": [],
   "source": [
    "x=[1,2,3,4,5]"
   ]
  },
  {
   "cell_type": "code",
   "execution_count": 109,
   "id": "52d1f185-526c-4535-b4d8-59fe7399cc76",
   "metadata": {},
   "outputs": [
    {
     "data": {
      "text/plain": [
       "[1, 2, 3, 4, 5]"
      ]
     },
     "execution_count": 109,
     "metadata": {},
     "output_type": "execute_result"
    }
   ],
   "source": [
    "x"
   ]
  },
  {
   "cell_type": "code",
   "execution_count": 110,
   "id": "36ea2956-e265-4d61-9378-4e7dabb8643d",
   "metadata": {},
   "outputs": [],
   "source": [
    "x=[1,2.6,3+4j,\"data\"]"
   ]
  },
  {
   "cell_type": "code",
   "execution_count": 111,
   "id": "e7032d99-1a26-48e7-839c-e026083d2489",
   "metadata": {},
   "outputs": [
    {
     "data": {
      "text/plain": [
       "[1, 2.6, (3+4j), 'data']"
      ]
     },
     "execution_count": 111,
     "metadata": {},
     "output_type": "execute_result"
    }
   ],
   "source": [
    "x"
   ]
  },
  {
   "cell_type": "code",
   "execution_count": 115,
   "id": "2dcd1ffd-1e6a-4265-9f72-8144f42d0090",
   "metadata": {},
   "outputs": [
    {
     "data": {
      "text/plain": [
       "(complex, int, float, str)"
      ]
     },
     "execution_count": 115,
     "metadata": {},
     "output_type": "execute_result"
    }
   ],
   "source": [
    "type(x[2]),type(x[0]),type(x[1]),type(x[3])"
   ]
  },
  {
   "cell_type": "code",
   "execution_count": null,
   "id": "e91486a9-1930-4cf7-97c0-1c82c4fe84ce",
   "metadata": {},
   "outputs": [],
   "source": []
  },
  {
   "cell_type": "code",
   "execution_count": 116,
   "id": "0fcaeed1-42d0-47e8-81d6-753aa08210cb",
   "metadata": {},
   "outputs": [],
   "source": [
    "x=[\"data science\",\"data analytics\"]"
   ]
  },
  {
   "cell_type": "code",
   "execution_count": 117,
   "id": "2ba23581-3c24-4952-91c3-3167d95f5073",
   "metadata": {},
   "outputs": [
    {
     "data": {
      "text/plain": [
       "['data science', 'data analytics']"
      ]
     },
     "execution_count": 117,
     "metadata": {},
     "output_type": "execute_result"
    }
   ],
   "source": [
    "x"
   ]
  },
  {
   "cell_type": "code",
   "execution_count": 119,
   "id": "c6483324-980b-462c-9768-88f5c45a5932",
   "metadata": {},
   "outputs": [
    {
     "data": {
      "text/plain": [
       "'nc'"
      ]
     },
     "execution_count": 119,
     "metadata": {},
     "output_type": "execute_result"
    }
   ],
   "source": [
    "x[0][-3:-1]"
   ]
  },
  {
   "cell_type": "code",
   "execution_count": null,
   "id": "48ac12de-24d3-4120-a425-3849e6dcc386",
   "metadata": {},
   "outputs": [],
   "source": [
    "[1,\"data\",3,4,[1,2,3]]  # nested list"
   ]
  },
  {
   "cell_type": "code",
   "execution_count": null,
   "id": "308eb5c5-327e-4544-a10a-ccf98f9e8283",
   "metadata": {},
   "outputs": [],
   "source": []
  },
  {
   "cell_type": "code",
   "execution_count": 121,
   "id": "34857909-fc80-4e7e-bd55-c9438907b322",
   "metadata": {},
   "outputs": [],
   "source": [
    "class_groups = [\n",
    "    [\"Aarav\", \"Vivaan\"],\n",
    "    [\"Kavya\", \"Ishita\"],\n",
    "    [\"Ananya\", \"Rohan\"]\n",
    "]"
   ]
  },
  {
   "cell_type": "code",
   "execution_count": 122,
   "id": "287de7ef-ebdc-4a3d-b1c1-6c455491fc5b",
   "metadata": {},
   "outputs": [
    {
     "data": {
      "text/plain": [
       "[['Aarav', 'Vivaan'], ['Kavya', 'Ishita'], ['Ananya', 'Rohan']]"
      ]
     },
     "execution_count": 122,
     "metadata": {},
     "output_type": "execute_result"
    }
   ],
   "source": [
    "class_groups"
   ]
  },
  {
   "cell_type": "code",
   "execution_count": 124,
   "id": "f40a44b0-00c6-425e-a98f-fbdce68e57d2",
   "metadata": {},
   "outputs": [
    {
     "data": {
      "text/plain": [
       "'Ananya'"
      ]
     },
     "execution_count": 124,
     "metadata": {},
     "output_type": "execute_result"
    }
   ],
   "source": [
    "class_groups[2][0]"
   ]
  },
  {
   "cell_type": "code",
   "execution_count": 133,
   "id": "70cb6c13-08ec-42d0-9e35-0c2d2de23fdd",
   "metadata": {},
   "outputs": [],
   "source": [
    "list1=[1,2,3,4,5]"
   ]
  },
  {
   "cell_type": "code",
   "execution_count": 134,
   "id": "87892584-4175-4a99-8347-c1ce249f1829",
   "metadata": {},
   "outputs": [],
   "source": [
    "list1.append(10)"
   ]
  },
  {
   "cell_type": "code",
   "execution_count": 135,
   "id": "613118e9-c1d0-48d2-b452-5e4c0548dbc5",
   "metadata": {},
   "outputs": [
    {
     "data": {
      "text/plain": [
       "[1, 2, 3, 4, 5, 10]"
      ]
     },
     "execution_count": 135,
     "metadata": {},
     "output_type": "execute_result"
    }
   ],
   "source": [
    "list1"
   ]
  },
  {
   "cell_type": "code",
   "execution_count": 136,
   "id": "11e37aa4-2547-4829-947d-0dc55686f94a",
   "metadata": {},
   "outputs": [],
   "source": [
    "list1.append(10)"
   ]
  },
  {
   "cell_type": "code",
   "execution_count": 137,
   "id": "c16e9ef1-6731-4e38-b3b3-0e7133fa04ab",
   "metadata": {},
   "outputs": [
    {
     "data": {
      "text/plain": [
       "[1, 2, 3, 4, 5, 10, 10]"
      ]
     },
     "execution_count": 137,
     "metadata": {},
     "output_type": "execute_result"
    }
   ],
   "source": [
    "list1"
   ]
  },
  {
   "cell_type": "code",
   "execution_count": 141,
   "id": "b0889005-c962-4927-a4d9-41f6be67be81",
   "metadata": {},
   "outputs": [],
   "source": [
    "list1.insert(2,\"data\")"
   ]
  },
  {
   "cell_type": "code",
   "execution_count": 142,
   "id": "1a982d5d-b65c-40cc-8c7b-417eda5e9ae3",
   "metadata": {},
   "outputs": [
    {
     "data": {
      "text/plain": [
       "[1, 2, 'data', 100, 3, 4, 5, 10, 10]"
      ]
     },
     "execution_count": 142,
     "metadata": {},
     "output_type": "execute_result"
    }
   ],
   "source": [
    "list1"
   ]
  },
  {
   "cell_type": "code",
   "execution_count": 146,
   "id": "ff76b0ec-5b78-4e76-9ea8-0ae42be9707b",
   "metadata": {},
   "outputs": [
    {
     "data": {
      "text/plain": [
       "100"
      ]
     },
     "execution_count": 146,
     "metadata": {},
     "output_type": "execute_result"
    }
   ],
   "source": [
    "list1.pop(2)"
   ]
  },
  {
   "cell_type": "code",
   "execution_count": 147,
   "id": "fffd055c-5e15-4325-afc1-8c4bc20ec177",
   "metadata": {},
   "outputs": [
    {
     "data": {
      "text/plain": [
       "[1, 2, 3, 4, 5, 10, 10]"
      ]
     },
     "execution_count": 147,
     "metadata": {},
     "output_type": "execute_result"
    }
   ],
   "source": [
    "list1"
   ]
  },
  {
   "cell_type": "code",
   "execution_count": 148,
   "id": "6887992b-8431-4d07-8809-84508bd8fc7d",
   "metadata": {},
   "outputs": [
    {
     "data": {
      "text/plain": [
       "[1, 2, 3, 4, 5, 10, 10]"
      ]
     },
     "execution_count": 148,
     "metadata": {},
     "output_type": "execute_result"
    }
   ],
   "source": [
    "list1"
   ]
  },
  {
   "cell_type": "code",
   "execution_count": 151,
   "id": "8f9a3b25-5b94-42b2-bfb8-e0d9f48a7a2c",
   "metadata": {},
   "outputs": [],
   "source": [
    "del list1"
   ]
  },
  {
   "cell_type": "code",
   "execution_count": 152,
   "id": "d403835d-60c8-4273-b906-163376a70544",
   "metadata": {},
   "outputs": [
    {
     "ename": "NameError",
     "evalue": "name 'list1' is not defined",
     "output_type": "error",
     "traceback": [
      "\u001b[1;31m---------------------------------------------------------------------------\u001b[0m",
      "\u001b[1;31mNameError\u001b[0m                                 Traceback (most recent call last)",
      "Cell \u001b[1;32mIn[152], line 1\u001b[0m\n\u001b[1;32m----> 1\u001b[0m \u001b[43mlist1\u001b[49m\n",
      "\u001b[1;31mNameError\u001b[0m: name 'list1' is not defined"
     ]
    }
   ],
   "source": [
    "list1"
   ]
  },
  {
   "cell_type": "code",
   "execution_count": null,
   "id": "98ce5990-b4a9-4915-847b-ed706826aad0",
   "metadata": {},
   "outputs": [],
   "source": []
  },
  {
   "cell_type": "code",
   "execution_count": 154,
   "id": "5114e1b1-b43e-42aa-9bc8-4103500e8d19",
   "metadata": {},
   "outputs": [],
   "source": [
    "list1=[1,2,3,4,5,2,2,2]"
   ]
  },
  {
   "cell_type": "code",
   "execution_count": 155,
   "id": "e17fddc1-5840-4cc5-b826-838edfc3e242",
   "metadata": {},
   "outputs": [
    {
     "data": {
      "text/plain": [
       "4"
      ]
     },
     "execution_count": 155,
     "metadata": {},
     "output_type": "execute_result"
    }
   ],
   "source": [
    "list1.count(2)"
   ]
  },
  {
   "cell_type": "code",
   "execution_count": 156,
   "id": "104e0bba-c2a0-46fb-93b0-0f5061897a22",
   "metadata": {},
   "outputs": [
    {
     "data": {
      "text/plain": [
       "1"
      ]
     },
     "execution_count": 156,
     "metadata": {},
     "output_type": "execute_result"
    }
   ],
   "source": [
    "list1.index(2)"
   ]
  },
  {
   "cell_type": "code",
   "execution_count": 157,
   "id": "34168208-6d4d-4c15-8df9-a8353a7872c8",
   "metadata": {},
   "outputs": [
    {
     "data": {
      "text/plain": [
       "[1, 2, 3, 4, 5, 2, 2, 2]"
      ]
     },
     "execution_count": 157,
     "metadata": {},
     "output_type": "execute_result"
    }
   ],
   "source": [
    "list1"
   ]
  },
  {
   "cell_type": "code",
   "execution_count": 158,
   "id": "b044017c-2a1e-4008-91c9-dc64fa36d0d4",
   "metadata": {},
   "outputs": [],
   "source": [
    "list1.remove(4)"
   ]
  },
  {
   "cell_type": "code",
   "execution_count": 159,
   "id": "4937f08b-c343-4d5b-b5e4-1051979322df",
   "metadata": {},
   "outputs": [
    {
     "data": {
      "text/plain": [
       "[1, 2, 3, 5, 2, 2, 2]"
      ]
     },
     "execution_count": 159,
     "metadata": {},
     "output_type": "execute_result"
    }
   ],
   "source": [
    "list1"
   ]
  },
  {
   "cell_type": "code",
   "execution_count": 160,
   "id": "1b8eae47-c7e1-4e4d-a5ac-03475acfdd79",
   "metadata": {},
   "outputs": [],
   "source": [
    "list1.clear()"
   ]
  },
  {
   "cell_type": "code",
   "execution_count": 161,
   "id": "8266e8e8-1d4c-42e2-8603-5cdcf34a7a71",
   "metadata": {},
   "outputs": [
    {
     "data": {
      "text/plain": [
       "[]"
      ]
     },
     "execution_count": 161,
     "metadata": {},
     "output_type": "execute_result"
    }
   ],
   "source": [
    "list1"
   ]
  },
  {
   "cell_type": "code",
   "execution_count": 162,
   "id": "76891c3a-7fdb-4bd3-9747-0e93ccfb45b2",
   "metadata": {},
   "outputs": [],
   "source": [
    "list1=[1,2,3,4,5,6]"
   ]
  },
  {
   "cell_type": "code",
   "execution_count": 164,
   "id": "5d5c31aa-0ffe-4523-940c-5c82f12c6853",
   "metadata": {},
   "outputs": [],
   "source": [
    "list1.reverse()"
   ]
  },
  {
   "cell_type": "code",
   "execution_count": 165,
   "id": "d462f17b-55f9-4f1e-a77d-6b4a6cec1951",
   "metadata": {},
   "outputs": [
    {
     "data": {
      "text/plain": [
       "[6, 5, 4, 3, 2, 1]"
      ]
     },
     "execution_count": 165,
     "metadata": {},
     "output_type": "execute_result"
    }
   ],
   "source": [
    "list1"
   ]
  },
  {
   "cell_type": "code",
   "execution_count": 171,
   "id": "cee1438f-05b3-430b-a89d-fa6073e2876b",
   "metadata": {},
   "outputs": [],
   "source": [
    "list1=[\"Anc\",\"xyz\",\"anc\"]"
   ]
  },
  {
   "cell_type": "code",
   "execution_count": 174,
   "id": "dc38fc63-89bd-483b-8e35-dc9f6c8db18a",
   "metadata": {},
   "outputs": [],
   "source": [
    "list1.sort(reverse=True)"
   ]
  },
  {
   "cell_type": "code",
   "execution_count": 175,
   "id": "71090456-abf2-47ff-828e-6481b1f597eb",
   "metadata": {},
   "outputs": [
    {
     "data": {
      "text/plain": [
       "['xyz', 'anc', 'Anc']"
      ]
     },
     "execution_count": 175,
     "metadata": {},
     "output_type": "execute_result"
    }
   ],
   "source": [
    "list1"
   ]
  },
  {
   "cell_type": "code",
   "execution_count": 176,
   "id": "dc366a38-5ad2-4d9b-b5df-e800c543d845",
   "metadata": {},
   "outputs": [],
   "source": [
    "list1=[11,9,23,12]"
   ]
  },
  {
   "cell_type": "code",
   "execution_count": 181,
   "id": "08d29927-ef84-4101-85f6-53de8ed6ff97",
   "metadata": {},
   "outputs": [
    {
     "data": {
      "text/plain": [
       "[23, 12, 11, 9]"
      ]
     },
     "execution_count": 181,
     "metadata": {},
     "output_type": "execute_result"
    }
   ],
   "source": [
    "list1.sort(reverse=True)\n",
    "list1"
   ]
  },
  {
   "cell_type": "code",
   "execution_count": null,
   "id": "9ef0b12c-2c6d-48b1-ade9-3abb0ee753fa",
   "metadata": {},
   "outputs": [],
   "source": []
  },
  {
   "cell_type": "code",
   "execution_count": null,
   "id": "3e811628-b825-4f0c-ac2d-1108f49691d1",
   "metadata": {},
   "outputs": [],
   "source": []
  },
  {
   "cell_type": "code",
   "execution_count": null,
   "id": "96fdee75-1785-4dd1-8712-ee7d1f658f4a",
   "metadata": {},
   "outputs": [],
   "source": []
  },
  {
   "cell_type": "code",
   "execution_count": 182,
   "id": "9ce717b9-1266-4642-b963-437b17cdcb5c",
   "metadata": {},
   "outputs": [],
   "source": [
    "x=[1,2,3,4,5]"
   ]
  },
  {
   "cell_type": "code",
   "execution_count": 183,
   "id": "ecfbb8cd-40f4-4319-904a-ab4cc9c2721e",
   "metadata": {},
   "outputs": [
    {
     "data": {
      "text/plain": [
       "[1, 2, 3, 4, 5]"
      ]
     },
     "execution_count": 183,
     "metadata": {},
     "output_type": "execute_result"
    }
   ],
   "source": [
    "x"
   ]
  },
  {
   "cell_type": "code",
   "execution_count": 184,
   "id": "46e45893-949a-46ed-9157-a24c6d6807ec",
   "metadata": {},
   "outputs": [],
   "source": [
    "y=x"
   ]
  },
  {
   "cell_type": "code",
   "execution_count": 185,
   "id": "03f0a38e-2245-4919-90d9-12a3372d2f14",
   "metadata": {},
   "outputs": [
    {
     "data": {
      "text/plain": [
       "[1, 2, 3, 4, 5]"
      ]
     },
     "execution_count": 185,
     "metadata": {},
     "output_type": "execute_result"
    }
   ],
   "source": [
    "y"
   ]
  },
  {
   "cell_type": "code",
   "execution_count": 186,
   "id": "c579b217-afed-44c0-bc30-021f832b3d2f",
   "metadata": {},
   "outputs": [],
   "source": [
    "y[2]=22222"
   ]
  },
  {
   "cell_type": "code",
   "execution_count": 187,
   "id": "c28b1bbb-4ce1-4f3e-b301-f7619ce5902c",
   "metadata": {},
   "outputs": [
    {
     "data": {
      "text/plain": [
       "[1, 2, 22222, 4, 5]"
      ]
     },
     "execution_count": 187,
     "metadata": {},
     "output_type": "execute_result"
    }
   ],
   "source": [
    "y"
   ]
  },
  {
   "cell_type": "code",
   "execution_count": 188,
   "id": "2e0364e1-404f-439d-bc97-c25ecf0ea1d2",
   "metadata": {},
   "outputs": [
    {
     "data": {
      "text/plain": [
       "[1, 2, 22222, 4, 5]"
      ]
     },
     "execution_count": 188,
     "metadata": {},
     "output_type": "execute_result"
    }
   ],
   "source": [
    "x"
   ]
  },
  {
   "cell_type": "code",
   "execution_count": null,
   "id": "00775f6a-139b-43f9-9d90-2dad42059016",
   "metadata": {},
   "outputs": [],
   "source": []
  },
  {
   "cell_type": "code",
   "execution_count": 189,
   "id": "4f461ef5-9fb9-4085-a34b-c6282fe32b8b",
   "metadata": {},
   "outputs": [],
   "source": [
    "x=[1,2,3,4,5]"
   ]
  },
  {
   "cell_type": "code",
   "execution_count": 190,
   "id": "bcde0d6e-bf22-4076-8bca-76438fc65ca0",
   "metadata": {},
   "outputs": [
    {
     "data": {
      "text/plain": [
       "[1, 2, 3, 4, 5]"
      ]
     },
     "execution_count": 190,
     "metadata": {},
     "output_type": "execute_result"
    }
   ],
   "source": [
    "x"
   ]
  },
  {
   "cell_type": "code",
   "execution_count": 191,
   "id": "e180438b-2cfd-4e06-8308-375128755016",
   "metadata": {},
   "outputs": [],
   "source": [
    "y=x.copy()"
   ]
  },
  {
   "cell_type": "code",
   "execution_count": 192,
   "id": "89bd0479-4a9d-4d63-8b00-315dbfcc5511",
   "metadata": {},
   "outputs": [
    {
     "data": {
      "text/plain": [
       "[1, 2, 3, 4, 5]"
      ]
     },
     "execution_count": 192,
     "metadata": {},
     "output_type": "execute_result"
    }
   ],
   "source": [
    "y"
   ]
  },
  {
   "cell_type": "code",
   "execution_count": 193,
   "id": "0a66d082-ccb6-41f4-912c-a72a2f13289f",
   "metadata": {},
   "outputs": [],
   "source": [
    "y[2]=22222"
   ]
  },
  {
   "cell_type": "code",
   "execution_count": 194,
   "id": "72d2f315-07ac-40c9-83f9-9aa525752ac5",
   "metadata": {},
   "outputs": [
    {
     "data": {
      "text/plain": [
       "[1, 2, 22222, 4, 5]"
      ]
     },
     "execution_count": 194,
     "metadata": {},
     "output_type": "execute_result"
    }
   ],
   "source": [
    "y"
   ]
  },
  {
   "cell_type": "code",
   "execution_count": 195,
   "id": "ca72917e-5967-44d7-950e-19cbdf3704ad",
   "metadata": {},
   "outputs": [
    {
     "data": {
      "text/plain": [
       "[1, 2, 3, 4, 5]"
      ]
     },
     "execution_count": 195,
     "metadata": {},
     "output_type": "execute_result"
    }
   ],
   "source": [
    "x"
   ]
  },
  {
   "cell_type": "code",
   "execution_count": null,
   "id": "000da355-cfdd-4a42-b366-a295da338c74",
   "metadata": {},
   "outputs": [],
   "source": []
  },
  {
   "cell_type": "code",
   "execution_count": null,
   "id": "4640d9ba-4174-4786-b50a-f4afd045dd4a",
   "metadata": {},
   "outputs": [],
   "source": []
  },
  {
   "cell_type": "code",
   "execution_count": null,
   "id": "4649efd6-92db-4ae2-a5a5-c49637dbdeaa",
   "metadata": {},
   "outputs": [],
   "source": []
  },
  {
   "cell_type": "code",
   "execution_count": null,
   "id": "14e1df4d-2397-4837-9879-d5e799d9ff4f",
   "metadata": {},
   "outputs": [],
   "source": []
  }
 ],
 "metadata": {
  "kernelspec": {
   "display_name": "Python 3 (ipykernel)",
   "language": "python",
   "name": "python3"
  },
  "language_info": {
   "codemirror_mode": {
    "name": "ipython",
    "version": 3
   },
   "file_extension": ".py",
   "mimetype": "text/x-python",
   "name": "python",
   "nbconvert_exporter": "python",
   "pygments_lexer": "ipython3",
   "version": "3.13.2"
  }
 },
 "nbformat": 4,
 "nbformat_minor": 5
}
