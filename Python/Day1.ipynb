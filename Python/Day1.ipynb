{
 "cells": [
  {
   "cell_type": "code",
   "execution_count": 8,
   "id": "cca74c7e-9131-4eaa-90a5-a4f371e451dd",
   "metadata": {},
   "outputs": [
    {
     "data": {
      "text/plain": [
       "3"
      ]
     },
     "execution_count": 8,
     "metadata": {},
     "output_type": "execute_result"
    }
   ],
   "source": [
    "1+2"
   ]
  },
  {
   "cell_type": "code",
   "execution_count": null,
   "id": "8171aa64-6378-4388-8ec8-b44be7a964be",
   "metadata": {},
   "outputs": [],
   "source": [
    "x : delete a cell\n",
    "a : create a cell above\n",
    "b : create a cell below\n",
    "ctrl+entr: execution\n",
    "shift+entr : for execution and create a new cell"
   ]
  },
  {
   "cell_type": "code",
   "execution_count": null,
   "id": "3cfa0968-6714-4ce5-a7c7-c866bd4ff6d1",
   "metadata": {},
   "outputs": [],
   "source": [
    "ipynb : interactive python notebook\n",
    ".py : python "
   ]
  },
  {
   "cell_type": "code",
   "execution_count": 9,
   "id": "ce8df830-e5b7-42f5-8189-47f7f9c2a682",
   "metadata": {},
   "outputs": [
    {
     "data": {
      "text/plain": [
       "'C:\\\\Users\\\\bhara'"
      ]
     },
     "execution_count": 9,
     "metadata": {},
     "output_type": "execute_result"
    }
   ],
   "source": [
    "pwd"
   ]
  },
  {
   "cell_type": "code",
   "execution_count": null,
   "id": "b92273d2-bbe3-40d3-b7fc-7b63875c2311",
   "metadata": {},
   "outputs": [],
   "source": []
  },
  {
   "cell_type": "code",
   "execution_count": null,
   "id": "7a238288-32a1-4d5b-80ed-48f6b7f2f7ae",
   "metadata": {},
   "outputs": [],
   "source": [
    "variables\n",
    "datatypes\n",
    "operators"
   ]
  },
  {
   "cell_type": "code",
   "execution_count": null,
   "id": "274e763a-51b7-42d0-9d3a-514142b50f08",
   "metadata": {},
   "outputs": [],
   "source": []
  },
  {
   "cell_type": "markdown",
   "id": "6fdccb1d-14bd-4599-b7ab-4cc39b25b439",
   "metadata": {},
   "source": [
    "## headings"
   ]
  },
  {
   "cell_type": "code",
   "execution_count": null,
   "id": "fc87ee9b-8a2c-4a3b-a41a-77481db721e3",
   "metadata": {},
   "outputs": [],
   "source": [
    "#### headings\n"
   ]
  },
  {
   "cell_type": "code",
   "execution_count": null,
   "id": "4215519e-6797-451e-8704-bf7f91a32b05",
   "metadata": {},
   "outputs": [],
   "source": []
  },
  {
   "cell_type": "code",
   "execution_count": null,
   "id": "254f06a7-5a78-4501-b73d-7b9eca174f00",
   "metadata": {},
   "outputs": [],
   "source": []
  },
  {
   "cell_type": "code",
   "execution_count": null,
   "id": "53de34c0-ebb6-408d-a850-9dd299112036",
   "metadata": {},
   "outputs": [],
   "source": []
  },
  {
   "cell_type": "code",
   "execution_count": null,
   "id": "13fe14fb-96d2-45a0-9efd-678409cde418",
   "metadata": {},
   "outputs": [],
   "source": []
  },
  {
   "cell_type": "code",
   "execution_count": 10,
   "id": "227b835f-b4a9-4e43-92a1-d134a7026bb5",
   "metadata": {},
   "outputs": [
    {
     "data": {
      "text/plain": [
       "5"
      ]
     },
     "execution_count": 10,
     "metadata": {},
     "output_type": "execute_result"
    }
   ],
   "source": [
    "2+3"
   ]
  },
  {
   "cell_type": "code",
   "execution_count": null,
   "id": "2c63f70e-299d-4107-88fe-b31df3e37402",
   "metadata": {},
   "outputs": [],
   "source": []
  },
  {
   "cell_type": "code",
   "execution_count": null,
   "id": "9cf81435-28c9-416d-a3c9-8e6256625eeb",
   "metadata": {},
   "outputs": [],
   "source": [
    "variables\n",
    "datatypes\n",
    "operators"
   ]
  },
  {
   "cell_type": "code",
   "execution_count": null,
   "id": "9e27f938-50cf-4ca5-a60f-de3e58fc044c",
   "metadata": {},
   "outputs": [],
   "source": []
  },
  {
   "cell_type": "code",
   "execution_count": 11,
   "id": "e6caa211-c401-484c-a097-f6514d8b8632",
   "metadata": {},
   "outputs": [],
   "source": [
    "name='data science'"
   ]
  },
  {
   "cell_type": "code",
   "execution_count": 12,
   "id": "b8666284-b7b4-474a-8169-6acdfafb0e0b",
   "metadata": {},
   "outputs": [],
   "source": [
    "duration=4"
   ]
  },
  {
   "cell_type": "code",
   "execution_count": 13,
   "id": "c3159b8c-dd2a-48d3-a407-d38703e10353",
   "metadata": {},
   "outputs": [
    {
     "data": {
      "text/plain": [
       "'data science'"
      ]
     },
     "execution_count": 13,
     "metadata": {},
     "output_type": "execute_result"
    }
   ],
   "source": [
    "name"
   ]
  },
  {
   "cell_type": "code",
   "execution_count": 14,
   "id": "1c10ec03-f5a4-493d-bb89-abb1b2c2236b",
   "metadata": {},
   "outputs": [
    {
     "data": {
      "text/plain": [
       "4"
      ]
     },
     "execution_count": 14,
     "metadata": {},
     "output_type": "execute_result"
    }
   ],
   "source": [
    "duration"
   ]
  },
  {
   "cell_type": "markdown",
   "id": "af335287-66ce-4011-a3c6-08f604654049",
   "metadata": {},
   "source": [
    "### Variable name"
   ]
  },
  {
   "cell_type": "code",
   "execution_count": 19,
   "id": "d5eb79a0-ce4c-4f5d-8eb2-460404982d8d",
   "metadata": {},
   "outputs": [
    {
     "ename": "SyntaxError",
     "evalue": "invalid decimal literal (1231623547.py, line 1)",
     "output_type": "error",
     "traceback": [
      "\u001b[1;36m  Cell \u001b[1;32mIn[19], line 1\u001b[1;36m\u001b[0m\n\u001b[1;33m    7name=\"data science\"\u001b[0m\n\u001b[1;37m    ^\u001b[0m\n\u001b[1;31mSyntaxError\u001b[0m\u001b[1;31m:\u001b[0m invalid decimal literal\n"
     ]
    }
   ],
   "source": [
    "7name=\"data science\""
   ]
  },
  {
   "cell_type": "code",
   "execution_count": 21,
   "id": "d6b16710-434d-48e1-a2f4-0e11de6a5997",
   "metadata": {},
   "outputs": [],
   "source": [
    "n9ame=10"
   ]
  },
  {
   "cell_type": "code",
   "execution_count": null,
   "id": "dd12fb7f-f471-43d4-be7a-1c1cff143273",
   "metadata": {},
   "outputs": [],
   "source": [
    "#### number should not be at the begining of the variable name"
   ]
  },
  {
   "cell_type": "code",
   "execution_count": 23,
   "id": "8007fb2e-4bae-4cd4-aabc-6671eb13335a",
   "metadata": {},
   "outputs": [],
   "source": [
    "name='data'"
   ]
  },
  {
   "cell_type": "code",
   "execution_count": 24,
   "id": "90976049-31f8-4fc5-bc8d-0d5e48684c8e",
   "metadata": {},
   "outputs": [
    {
     "data": {
      "text/plain": [
       "'data'"
      ]
     },
     "execution_count": 24,
     "metadata": {},
     "output_type": "execute_result"
    }
   ],
   "source": [
    "name"
   ]
  },
  {
   "cell_type": "code",
   "execution_count": 29,
   "id": "8116a734-af6d-4ba6-9356-7919e91d6526",
   "metadata": {},
   "outputs": [],
   "source": [
    "_name='data'"
   ]
  },
  {
   "cell_type": "code",
   "execution_count": 30,
   "id": "4d9e4fde-8cf6-415f-bb57-13139811c42b",
   "metadata": {},
   "outputs": [
    {
     "ename": "SyntaxError",
     "evalue": "invalid syntax (579311859.py, line 1)",
     "output_type": "error",
     "traceback": [
      "\u001b[1;36m  Cell \u001b[1;32mIn[30], line 1\u001b[1;36m\u001b[0m\n\u001b[1;33m    n$ame='data'\u001b[0m\n\u001b[1;37m     ^\u001b[0m\n\u001b[1;31mSyntaxError\u001b[0m\u001b[1;31m:\u001b[0m invalid syntax\n"
     ]
    }
   ],
   "source": [
    "n$ame='data'"
   ]
  },
  {
   "cell_type": "code",
   "execution_count": 32,
   "id": "08b2276e-1938-4388-ba40-71a9e5a57db7",
   "metadata": {},
   "outputs": [],
   "source": [
    "import keyword"
   ]
  },
  {
   "cell_type": "code",
   "execution_count": 34,
   "id": "cc930af2-f06c-4805-a7b6-244b5b5a8c60",
   "metadata": {},
   "outputs": [
    {
     "name": "stdout",
     "output_type": "stream",
     "text": [
      "['False', 'None', 'True', 'and', 'as', 'assert', 'async', 'await', 'break', 'class', 'continue', 'def', 'del', 'elif', 'else', 'except', 'finally', 'for', 'from', 'global', 'if', 'import', 'in', 'is', 'lambda', 'nonlocal', 'not', 'or', 'pass', 'raise', 'return', 'try', 'while', 'with', 'yield']\n"
     ]
    }
   ],
   "source": [
    "print(keyword.kwlist)"
   ]
  },
  {
   "cell_type": "code",
   "execution_count": 36,
   "id": "327f6e52-38a3-49b1-9b8d-1c684a0dff02",
   "metadata": {},
   "outputs": [
    {
     "ename": "SyntaxError",
     "evalue": "invalid syntax (3666246725.py, line 1)",
     "output_type": "error",
     "traceback": [
      "\u001b[1;36m  Cell \u001b[1;32mIn[36], line 1\u001b[1;36m\u001b[0m\n\u001b[1;33m    elif='data'\u001b[0m\n\u001b[1;37m    ^\u001b[0m\n\u001b[1;31mSyntaxError\u001b[0m\u001b[1;31m:\u001b[0m invalid syntax\n"
     ]
    }
   ],
   "source": [
    "elif='data'"
   ]
  },
  {
   "cell_type": "code",
   "execution_count": null,
   "id": "dc76697e-abcd-4f1e-97ec-9c24cd059d40",
   "metadata": {},
   "outputs": [],
   "source": [
    "### starting letter shoud not be a number\n",
    "### no special characters any where except _\n",
    "### no inbuilt keywords"
   ]
  },
  {
   "cell_type": "code",
   "execution_count": 37,
   "id": "a9c0f82d-5d73-43c7-a549-2c48e751e413",
   "metadata": {},
   "outputs": [],
   "source": [
    "sales_txn_amount\n",
    "sales_text_units\n",
    "user_name\n"
   ]
  },
  {
   "cell_type": "code",
   "execution_count": null,
   "id": "5780f669-9b89-43e4-b875-63c5ab7e3899",
   "metadata": {},
   "outputs": [],
   "source": [
    "### Variables "
   ]
  },
  {
   "cell_type": "code",
   "execution_count": 38,
   "id": "c7463c26-735c-4721-a0fb-25ff93847958",
   "metadata": {},
   "outputs": [
    {
     "ename": "SyntaxError",
     "evalue": "invalid syntax (609214733.py, line 1)",
     "output_type": "error",
     "traceback": [
      "\u001b[1;36m  Cell \u001b[1;32mIn[38], line 1\u001b[1;36m\u001b[0m\n\u001b[1;33m    data types\u001b[0m\n\u001b[1;37m         ^\u001b[0m\n\u001b[1;31mSyntaxError\u001b[0m\u001b[1;31m:\u001b[0m invalid syntax\n"
     ]
    }
   ],
   "source": [
    "data types"
   ]
  },
  {
   "cell_type": "code",
   "execution_count": null,
   "id": "5229ceb1-9682-47b3-ad7c-cfe759d0a045",
   "metadata": {},
   "outputs": [],
   "source": []
  },
  {
   "cell_type": "code",
   "execution_count": null,
   "id": "1f997c47-6b60-4fe4-9bb6-3b895cd676cb",
   "metadata": {},
   "outputs": [],
   "source": [
    "numbers\n",
    "string"
   ]
  },
  {
   "cell_type": "code",
   "execution_count": null,
   "id": "2c199cdb-9b24-4e27-bc0b-13015b7b7299",
   "metadata": {},
   "outputs": [],
   "source": []
  },
  {
   "cell_type": "code",
   "execution_count": 43,
   "id": "582b6ef8-c276-455d-abd9-ea16755485f7",
   "metadata": {},
   "outputs": [],
   "source": [
    "age=10.7+3j"
   ]
  },
  {
   "cell_type": "code",
   "execution_count": 44,
   "id": "4376c93d-3738-4ab1-9138-c3904362e756",
   "metadata": {},
   "outputs": [
    {
     "data": {
      "text/plain": [
       "complex"
      ]
     },
     "execution_count": 44,
     "metadata": {},
     "output_type": "execute_result"
    }
   ],
   "source": [
    "type(age)"
   ]
  },
  {
   "cell_type": "code",
   "execution_count": 45,
   "id": "4a1481c8-f370-41b2-8614-a25443e7c749",
   "metadata": {},
   "outputs": [],
   "source": [
    "name='edukron'"
   ]
  },
  {
   "cell_type": "code",
   "execution_count": 46,
   "id": "946ebc60-d961-4cf9-87e5-175f447dd57a",
   "metadata": {},
   "outputs": [
    {
     "data": {
      "text/plain": [
       "str"
      ]
     },
     "execution_count": 46,
     "metadata": {},
     "output_type": "execute_result"
    }
   ],
   "source": [
    "type(name)"
   ]
  },
  {
   "cell_type": "code",
   "execution_count": 51,
   "id": "b1684fb1-57de-4942-abc0-6c585030d88e",
   "metadata": {},
   "outputs": [
    {
     "name": "stdout",
     "output_type": "stream",
     "text": [
      "2000 <class 'int'>\n",
      "edukron <class 'str'>\n",
      "3.6 <class 'float'>\n",
      "(3+2j) <class 'complex'>\n"
     ]
    }
   ],
   "source": [
    "salary=2000\n",
    "name='edukron'\n",
    "exp=3.6\n",
    "randomnumbers=3+2j\n",
    "print(salary,type(salary))\n",
    "print(name,type(name))\n",
    "print(exp,type(exp))\n",
    "print(randomnumbers,type(randomnumbers))"
   ]
  },
  {
   "cell_type": "code",
   "execution_count": 52,
   "id": "fd63718d-8917-49f5-bf0e-5d40a6f0d052",
   "metadata": {},
   "outputs": [
    {
     "data": {
      "text/plain": [
       "'edukron'"
      ]
     },
     "execution_count": 52,
     "metadata": {},
     "output_type": "execute_result"
    }
   ],
   "source": [
    "name"
   ]
  },
  {
   "cell_type": "code",
   "execution_count": 53,
   "id": "d1d0f7fb-9f4d-45b9-9e39-dd5f67677c45",
   "metadata": {},
   "outputs": [],
   "source": [
    "x=\"Data science\""
   ]
  },
  {
   "cell_type": "code",
   "execution_count": 56,
   "id": "89a903bb-d4f5-4378-a721-489653a76dde",
   "metadata": {},
   "outputs": [
    {
     "data": {
      "text/plain": [
       "('e', 'D', 'a', 'n')"
      ]
     },
     "execution_count": 56,
     "metadata": {},
     "output_type": "execute_result"
    }
   ],
   "source": [
    "x[-1],x[0],x[3],x[-3]"
   ]
  },
  {
   "cell_type": "code",
   "execution_count": 61,
   "id": "17823f37-30d0-4ce2-881a-21067522aa4a",
   "metadata": {},
   "outputs": [
    {
     "data": {
      "text/plain": [
       "'Data science'"
      ]
     },
     "execution_count": 61,
     "metadata": {},
     "output_type": "execute_result"
    }
   ],
   "source": [
    "x"
   ]
  },
  {
   "cell_type": "code",
   "execution_count": 60,
   "id": "56c7837f-d5f6-4447-ade9-28045f1c8f89",
   "metadata": {},
   "outputs": [
    {
     "data": {
      "text/plain": [
       "'ta '"
      ]
     },
     "execution_count": 60,
     "metadata": {},
     "output_type": "execute_result"
    }
   ],
   "source": [
    "x[2:5]  ## Range operator , left side in inclusive, right side \n",
    "### exclusive"
   ]
  },
  {
   "cell_type": "code",
   "execution_count": 63,
   "id": "b9cfb198-04d4-4f8f-8a80-4b421477f47f",
   "metadata": {},
   "outputs": [],
   "source": [
    "x=\"machine learning\""
   ]
  },
  {
   "cell_type": "code",
   "execution_count": 64,
   "id": "f5a2d647-8099-40cd-88a2-72640319fb83",
   "metadata": {},
   "outputs": [
    {
     "data": {
      "text/plain": [
       "'machine learning'"
      ]
     },
     "execution_count": 64,
     "metadata": {},
     "output_type": "execute_result"
    }
   ],
   "source": [
    "'machine learning'"
   ]
  },
  {
   "cell_type": "code",
   "execution_count": 67,
   "id": "3a915cc7-383a-48f1-a7ed-a8cf404c43eb",
   "metadata": {},
   "outputs": [
    {
     "data": {
      "text/plain": [
       "str"
      ]
     },
     "execution_count": 67,
     "metadata": {},
     "output_type": "execute_result"
    }
   ],
   "source": [
    "x='''machine\n",
    "learning'''\n",
    "type(x)"
   ]
  },
  {
   "cell_type": "code",
   "execution_count": null,
   "id": "19eda2e3-abf4-4cb5-97d4-c6dce9ba60cd",
   "metadata": {},
   "outputs": [],
   "source": []
  },
  {
   "cell_type": "code",
   "execution_count": 68,
   "id": "b479ff00-7efb-4cc7-ba91-08b006666f07",
   "metadata": {},
   "outputs": [],
   "source": [
    "x=\"machine learning\""
   ]
  },
  {
   "cell_type": "code",
   "execution_count": 71,
   "id": "bbd39755-e073-4467-ad4e-70bbe4882c9e",
   "metadata": {},
   "outputs": [
    {
     "data": {
      "text/plain": [
       "' le'"
      ]
     },
     "execution_count": 71,
     "metadata": {},
     "output_type": "execute_result"
    }
   ],
   "source": [
    "x[7:10]"
   ]
  },
  {
   "cell_type": "code",
   "execution_count": 74,
   "id": "f206d675-cd02-4150-8cd3-aba15c609aa8",
   "metadata": {},
   "outputs": [],
   "source": [
    "x=\"machine\""
   ]
  },
  {
   "cell_type": "code",
   "execution_count": 75,
   "id": "511af812-5f5d-4a51-a79b-4e71a0465bc2",
   "metadata": {},
   "outputs": [
    {
     "data": {
      "text/plain": [
       "'chi'"
      ]
     },
     "execution_count": 75,
     "metadata": {},
     "output_type": "execute_result"
    }
   ],
   "source": [
    "x[-5:-2]"
   ]
  },
  {
   "cell_type": "code",
   "execution_count": 76,
   "id": "574254f3-ca7d-4bae-9d2d-6567913db6c4",
   "metadata": {},
   "outputs": [
    {
     "data": {
      "text/plain": [
       "''"
      ]
     },
     "execution_count": 76,
     "metadata": {},
     "output_type": "execute_result"
    }
   ],
   "source": [
    "x[-2:-5]"
   ]
  },
  {
   "cell_type": "code",
   "execution_count": 77,
   "id": "d3c3b530-734e-49c6-a52a-2665ebf9b942",
   "metadata": {},
   "outputs": [
    {
     "data": {
      "text/plain": [
       "''"
      ]
     },
     "execution_count": 77,
     "metadata": {},
     "output_type": "execute_result"
    }
   ],
   "source": [
    "x[5:2]"
   ]
  },
  {
   "cell_type": "code",
   "execution_count": 78,
   "id": "15780f34-f105-4825-ad17-770a65442c41",
   "metadata": {},
   "outputs": [],
   "source": [
    "x=\"abcdefghij\""
   ]
  },
  {
   "cell_type": "code",
   "execution_count": null,
   "id": "f7812e8e-4266-4d1d-bfb3-8127617d5fbf",
   "metadata": {},
   "outputs": [],
   "source": [
    "x[start:end:step]\n",
    "start : 0 index\n",
    "end : len(x)\n",
    "step  : positive , forward ,negative reverse"
   ]
  },
  {
   "cell_type": "code",
   "execution_count": 79,
   "id": "b0d34a19-62c1-4f49-958d-26f1546537ac",
   "metadata": {},
   "outputs": [
    {
     "data": {
      "text/plain": [
       "'abcdefghij'"
      ]
     },
     "execution_count": 79,
     "metadata": {},
     "output_type": "execute_result"
    }
   ],
   "source": [
    "x"
   ]
  },
  {
   "cell_type": "code",
   "execution_count": 81,
   "id": "40d66115-acce-4a13-9f37-a92c0543e628",
   "metadata": {},
   "outputs": [
    {
     "data": {
      "text/plain": [
       "'abc'"
      ]
     },
     "execution_count": 81,
     "metadata": {},
     "output_type": "execute_result"
    }
   ],
   "source": [
    "x[:3:1]"
   ]
  },
  {
   "cell_type": "code",
   "execution_count": 83,
   "id": "6b7c5a38-0ab3-4a53-b21d-6201b297bed3",
   "metadata": {},
   "outputs": [],
   "source": [
    "x='python'"
   ]
  },
  {
   "cell_type": "code",
   "execution_count": 84,
   "id": "58c941af-c178-4b80-84c8-fa2be9532342",
   "metadata": {},
   "outputs": [
    {
     "data": {
      "text/plain": [
       "'pto'"
      ]
     },
     "execution_count": 84,
     "metadata": {},
     "output_type": "execute_result"
    }
   ],
   "source": [
    "x[::2]"
   ]
  },
  {
   "cell_type": "code",
   "execution_count": 85,
   "id": "2ec89bb9-87b8-47df-991d-5aa61493a8c1",
   "metadata": {},
   "outputs": [],
   "source": [
    "x=\"abcdefghij\""
   ]
  },
  {
   "cell_type": "code",
   "execution_count": 86,
   "id": "29c0e1ad-f7a7-4e5c-b7b1-61397a426476",
   "metadata": {},
   "outputs": [
    {
     "data": {
      "text/plain": [
       "'adgj'"
      ]
     },
     "execution_count": 86,
     "metadata": {},
     "output_type": "execute_result"
    }
   ],
   "source": [
    "x[::3]"
   ]
  },
  {
   "cell_type": "code",
   "execution_count": 87,
   "id": "7803c7f7-f6d5-4235-b112-f9e8b641ece9",
   "metadata": {},
   "outputs": [
    {
     "data": {
      "text/plain": [
       "'abcdefghij'"
      ]
     },
     "execution_count": 87,
     "metadata": {},
     "output_type": "execute_result"
    }
   ],
   "source": [
    "x"
   ]
  },
  {
   "cell_type": "code",
   "execution_count": 88,
   "id": "6e63899c-539c-4e1b-9895-9d4ef2ef28de",
   "metadata": {},
   "outputs": [
    {
     "data": {
      "text/plain": [
       "'ceg'"
      ]
     },
     "execution_count": 88,
     "metadata": {},
     "output_type": "execute_result"
    }
   ],
   "source": [
    "x[2:8:2]"
   ]
  },
  {
   "cell_type": "code",
   "execution_count": null,
   "id": "f9168b2b-aa90-4655-97c8-e827f30ee2bb",
   "metadata": {},
   "outputs": [],
   "source": []
  },
  {
   "cell_type": "code",
   "execution_count": 89,
   "id": "2fb6ee77-a20d-4791-b798-9841ce5f44f5",
   "metadata": {},
   "outputs": [
    {
     "data": {
      "text/plain": [
       "'abcdefghij'"
      ]
     },
     "execution_count": 89,
     "metadata": {},
     "output_type": "execute_result"
    }
   ],
   "source": [
    "x"
   ]
  },
  {
   "cell_type": "code",
   "execution_count": 90,
   "id": "861c8b0b-0108-4ac2-a7ca-b6d585fc602f",
   "metadata": {},
   "outputs": [
    {
     "data": {
      "text/plain": [
       "'jihgfedcba'"
      ]
     },
     "execution_count": 90,
     "metadata": {},
     "output_type": "execute_result"
    }
   ],
   "source": [
    "x[::-1]"
   ]
  },
  {
   "cell_type": "code",
   "execution_count": 99,
   "id": "c74b067e-cd83-43ee-a8f8-a704ddbd6650",
   "metadata": {},
   "outputs": [
    {
     "data": {
      "text/plain": [
       "'abcdefghij'"
      ]
     },
     "execution_count": 99,
     "metadata": {},
     "output_type": "execute_result"
    }
   ],
   "source": [
    "x"
   ]
  },
  {
   "cell_type": "code",
   "execution_count": null,
   "id": "1d4c42e6-f6f3-4813-8987-d9753eb5630a",
   "metadata": {},
   "outputs": [],
   "source": [
    "a0\n",
    "b1\n",
    "c2\n",
    "d3\n",
    "e4\n",
    "f5\n",
    "g6\n",
    "h7\n",
    "i8\n",
    "j9"
   ]
  },
  {
   "cell_type": "code",
   "execution_count": 100,
   "id": "bf132f87-b3e9-472f-b5c9-61c58519830b",
   "metadata": {},
   "outputs": [
    {
     "data": {
      "text/plain": [
       "'ihgfed'"
      ]
     },
     "execution_count": 100,
     "metadata": {},
     "output_type": "execute_result"
    }
   ],
   "source": [
    "x[8:2:-1]"
   ]
  },
  {
   "cell_type": "code",
   "execution_count": null,
   "id": "e2d89f40-8262-4ac6-8cc7-a03f41739d25",
   "metadata": {},
   "outputs": [],
   "source": [
    "### String , subset, single value, mulitple vlaues, double colon ,\n",
    "### positive index, negative index"
   ]
  },
  {
   "cell_type": "code",
   "execution_count": null,
   "id": "e70b5d2a-32f2-4353-af8e-5e024c4f2f41",
   "metadata": {},
   "outputs": [],
   "source": []
  },
  {
   "cell_type": "code",
   "execution_count": null,
   "id": "d11101bb-7ac7-41b3-ac91-09a99396d036",
   "metadata": {},
   "outputs": [],
   "source": []
  },
  {
   "cell_type": "code",
   "execution_count": 101,
   "id": "5ff54e5a-0521-4932-a993-15f88308bf53",
   "metadata": {},
   "outputs": [],
   "source": [
    "x=\"Data\""
   ]
  },
  {
   "cell_type": "code",
   "execution_count": 102,
   "id": "33b16ad3-40f6-4205-873e-b4dd428a5810",
   "metadata": {},
   "outputs": [
    {
     "data": {
      "text/plain": [
       "'Data'"
      ]
     },
     "execution_count": 102,
     "metadata": {},
     "output_type": "execute_result"
    }
   ],
   "source": [
    "x"
   ]
  },
  {
   "cell_type": "code",
   "execution_count": null,
   "id": "c0e50cfb-09d6-44a5-80b6-99b336cf5567",
   "metadata": {},
   "outputs": [],
   "source": []
  },
  {
   "cell_type": "code",
   "execution_count": 104,
   "id": "778792f6-8d67-4d1a-9c9f-aef8f7e0a379",
   "metadata": {},
   "outputs": [],
   "source": [
    "str1 = \"data science\"\n",
    "str2 = \"data engineering\"\n",
    "str3 = \"edukron\""
   ]
  },
  {
   "cell_type": "code",
   "execution_count": 105,
   "id": "33a1b58a-df04-4779-9179-d6e689eaa6a3",
   "metadata": {},
   "outputs": [
    {
     "name": "stdout",
     "output_type": "stream",
     "text": [
      "12\n"
     ]
    }
   ],
   "source": [
    "print(len(str1))"
   ]
  },
  {
   "cell_type": "code",
   "execution_count": 106,
   "id": "24701078-8482-4309-b817-079e6cf1f19e",
   "metadata": {},
   "outputs": [
    {
     "name": "stdout",
     "output_type": "stream",
     "text": [
      "DATA SCIENCE\n"
     ]
    }
   ],
   "source": [
    "print(str1.upper()) "
   ]
  },
  {
   "cell_type": "code",
   "execution_count": 108,
   "id": "413e4e40-e5f7-41bc-928f-0c73bf6cc42d",
   "metadata": {},
   "outputs": [
    {
     "data": {
      "text/plain": [
       "'data science'"
      ]
     },
     "execution_count": 108,
     "metadata": {},
     "output_type": "execute_result"
    }
   ],
   "source": [
    "str1=\"Data Science\"\n",
    "str1.lower()"
   ]
  },
  {
   "cell_type": "code",
   "execution_count": 114,
   "id": "d45c98ae-61c2-4f2a-9fa1-2e3366086f23",
   "metadata": {},
   "outputs": [
    {
     "data": {
      "text/plain": [
       "True"
      ]
     },
     "execution_count": 114,
     "metadata": {},
     "output_type": "execute_result"
    }
   ],
   "source": [
    "str1=\"data science\"\n",
    "str1.islower()"
   ]
  },
  {
   "cell_type": "code",
   "execution_count": 115,
   "id": "edc95c05-3b1e-45fe-afe5-d635f827dc15",
   "metadata": {},
   "outputs": [
    {
     "data": {
      "text/plain": [
       "False"
      ]
     },
     "execution_count": 115,
     "metadata": {},
     "output_type": "execute_result"
    }
   ],
   "source": [
    "str1=\"DATA\"\n",
    "str1.isupper()"
   ]
  }
 ],
 "metadata": {
  "kernelspec": {
   "display_name": "Python 3 (ipykernel)",
   "language": "python",
   "name": "python3"
  },
  "language_info": {
   "codemirror_mode": {
    "name": "ipython",
    "version": 3
   },
   "file_extension": ".py",
   "mimetype": "text/x-python",
   "name": "python",
   "nbconvert_exporter": "python",
   "pygments_lexer": "ipython3",
   "version": "3.13.1"
  }
 },
 "nbformat": 4,
 "nbformat_minor": 5
}
