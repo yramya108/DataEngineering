{
 "cells": [
  {
   "cell_type": "code",
   "execution_count": 38,
   "id": "782c450c-53e1-4522-8d26-8f7a03c097ff",
   "metadata": {},
   "outputs": [],
   "source": [
    "name = \"Ramya\""
   ]
  },
  {
   "cell_type": "code",
   "execution_count": 22,
   "id": "e9f65592-a227-4aea-bded-c41c7fdf248d",
   "metadata": {},
   "outputs": [
    {
     "data": {
      "text/plain": [
       "'Ramya'"
      ]
     },
     "execution_count": 22,
     "metadata": {},
     "output_type": "execute_result"
    }
   ],
   "source": [
    "name"
   ]
  },
  {
   "cell_type": "code",
   "execution_count": 23,
   "id": "214509d3-5ea5-407b-9240-620ce9579263",
   "metadata": {},
   "outputs": [
    {
     "data": {
      "text/plain": [
       "str"
      ]
     },
     "execution_count": 23,
     "metadata": {},
     "output_type": "execute_result"
    }
   ],
   "source": [
    "type(name)"
   ]
  },
  {
   "cell_type": "code",
   "execution_count": 15,
   "id": "51d9f27e-4e67-4ae8-ac0a-5eb5835c6dcc",
   "metadata": {},
   "outputs": [],
   "source": [
    "x = 1.1"
   ]
  },
  {
   "cell_type": "code",
   "execution_count": 16,
   "id": "aac36893-61f0-4ac7-a56e-7d30baea87a5",
   "metadata": {},
   "outputs": [
    {
     "data": {
      "text/plain": [
       "float"
      ]
     },
     "execution_count": 16,
     "metadata": {},
     "output_type": "execute_result"
    }
   ],
   "source": [
    "type(x)"
   ]
  },
  {
   "cell_type": "code",
   "execution_count": null,
   "id": "199a3b42-10eb-4b72-ab84-0144812a530a",
   "metadata": {},
   "outputs": [],
   "source": [
    "y = true"
   ]
  },
  {
   "cell_type": "code",
   "execution_count": 24,
   "id": "8756e0ca-9412-434e-b441-cb4afb4e9c79",
   "metadata": {},
   "outputs": [
    {
     "name": "stdout",
     "output_type": "stream",
     "text": [
      "Ramya\n"
     ]
    }
   ],
   "source": [
    "print(name)"
   ]
  },
  {
   "cell_type": "code",
   "execution_count": 28,
   "id": "13341e37-c66d-4c08-8243-11149a64ef06",
   "metadata": {},
   "outputs": [
    {
     "name": "stdout",
     "output_type": "stream",
     "text": [
      "['False', 'None', 'True', 'and', 'as', 'assert', 'async', 'await', 'break', 'class', 'continue', 'def', 'del', 'elif', 'else', 'except', 'finally', 'for', 'from', 'global', 'if', 'import', 'in', 'is', 'lambda', 'nonlocal', 'not', 'or', 'pass', 'raise', 'return', 'try', 'while', 'with', 'yield']\n"
     ]
    }
   ],
   "source": [
    "import keyword\n",
    "print(keyword.kwlist)"
   ]
  },
  {
   "cell_type": "code",
   "execution_count": 33,
   "id": "2db31482-369a-4b41-a786-0520a734fbec",
   "metadata": {},
   "outputs": [
    {
     "data": {
      "text/plain": [
       "True"
      ]
     },
     "execution_count": 33,
     "metadata": {},
     "output_type": "execute_result"
    }
   ],
   "source": [
    "bool(True)"
   ]
  },
  {
   "cell_type": "code",
   "execution_count": 35,
   "id": "e3f611c8-12c1-4511-903e-c544b2cef313",
   "metadata": {},
   "outputs": [
    {
     "data": {
      "text/plain": [
       "bool"
      ]
     },
     "execution_count": 35,
     "metadata": {},
     "output_type": "execute_result"
    }
   ],
   "source": [
    "type(True)"
   ]
  },
  {
   "cell_type": "code",
   "execution_count": 49,
   "id": "0bc87f2a-2391-48a6-a51a-e14efe9ed03b",
   "metadata": {},
   "outputs": [],
   "source": [
    "name = '''Data Science'''"
   ]
  },
  {
   "cell_type": "code",
   "execution_count": 50,
   "id": "697bddae-694e-4e0d-84f7-654b525ca4fb",
   "metadata": {},
   "outputs": [
    {
     "data": {
      "text/plain": [
       "'ta'"
      ]
     },
     "execution_count": 50,
     "metadata": {},
     "output_type": "execute_result"
    }
   ],
   "source": [
    "name[2:4]"
   ]
  },
  {
   "cell_type": "code",
   "execution_count": 51,
   "id": "71a6193b-5151-49df-b24a-90a583e48393",
   "metadata": {},
   "outputs": [
    {
     "data": {
      "text/plain": [
       "'Data Scie'"
      ]
     },
     "execution_count": 51,
     "metadata": {},
     "output_type": "execute_result"
    }
   ],
   "source": [
    "name[-12:-3]"
   ]
  },
  {
   "cell_type": "code",
   "execution_count": 53,
   "id": "d35ac32b-aac6-45da-81b8-e9ef8e17ea52",
   "metadata": {},
   "outputs": [],
   "source": [
    "x = 'abcdefghijklmnop'"
   ]
  },
  {
   "cell_type": "code",
   "execution_count": 54,
   "id": "f2e5a69a-710c-407c-8478-752794af4464",
   "metadata": {},
   "outputs": [
    {
     "data": {
      "text/plain": [
       "'abcdefghijklmnop'"
      ]
     },
     "execution_count": 54,
     "metadata": {},
     "output_type": "execute_result"
    }
   ],
   "source": [
    "x[::1]"
   ]
  },
  {
   "cell_type": "code",
   "execution_count": 57,
   "id": "84cc8626-6d95-47e8-8029-3267d0033f0b",
   "metadata": {},
   "outputs": [
    {
     "data": {
      "text/plain": [
       "'abcdef'"
      ]
     },
     "execution_count": 57,
     "metadata": {},
     "output_type": "execute_result"
    }
   ],
   "source": [
    "x[:6:1]"
   ]
  },
  {
   "cell_type": "code",
   "execution_count": 61,
   "id": "acb7ef82-6345-4241-b156-940ef185603b",
   "metadata": {},
   "outputs": [
    {
     "data": {
      "text/plain": [
       "'acegi'"
      ]
     },
     "execution_count": 61,
     "metadata": {},
     "output_type": "execute_result"
    }
   ],
   "source": [
    "x[0:9:2]"
   ]
  },
  {
   "cell_type": "code",
   "execution_count": 63,
   "id": "8937633e-9b5e-41e3-ac61-2e810f710bd1",
   "metadata": {},
   "outputs": [
    {
     "data": {
      "text/plain": [
       "16"
      ]
     },
     "execution_count": 63,
     "metadata": {},
     "output_type": "execute_result"
    }
   ],
   "source": [
    "len(x)"
   ]
  },
  {
   "cell_type": "code",
   "execution_count": 65,
   "id": "4db9d520-daf0-4edf-b3f7-13460429aeaa",
   "metadata": {},
   "outputs": [
    {
     "data": {
      "text/plain": [
       "'ABCDEFGHIJKLMNOP'"
      ]
     },
     "execution_count": 65,
     "metadata": {},
     "output_type": "execute_result"
    }
   ],
   "source": [
    "x.upper()"
   ]
  },
  {
   "cell_type": "code",
   "execution_count": 66,
   "id": "cd91592d-72d8-4309-9a7b-3268dcf8816c",
   "metadata": {},
   "outputs": [
    {
     "data": {
      "text/plain": [
       "'abcdefghijklmnop'"
      ]
     },
     "execution_count": 66,
     "metadata": {},
     "output_type": "execute_result"
    }
   ],
   "source": [
    "x.lower()"
   ]
  },
  {
   "cell_type": "code",
   "execution_count": 68,
   "id": "6e8d9b87-26b7-491c-a41d-b32e6b74d0f5",
   "metadata": {},
   "outputs": [
    {
     "data": {
      "text/plain": [
       "False"
      ]
     },
     "execution_count": 68,
     "metadata": {},
     "output_type": "execute_result"
    }
   ],
   "source": [
    "x.isupper()"
   ]
  },
  {
   "cell_type": "code",
   "execution_count": 69,
   "id": "384f7720-5f5f-498b-b545-4d7cc1b515f3",
   "metadata": {},
   "outputs": [
    {
     "data": {
      "text/plain": [
       "True"
      ]
     },
     "execution_count": 69,
     "metadata": {},
     "output_type": "execute_result"
    }
   ],
   "source": [
    "x.islower()"
   ]
  },
  {
   "cell_type": "code",
   "execution_count": 71,
   "id": "1985491d-6f2d-4a69-b317-893c3a3e2292",
   "metadata": {},
   "outputs": [
    {
     "data": {
      "text/plain": [
       "False"
      ]
     },
     "execution_count": 71,
     "metadata": {},
     "output_type": "execute_result"
    }
   ],
   "source": [
    "x.isnumeric()"
   ]
  },
  {
   "cell_type": "code",
   "execution_count": 72,
   "id": "7b401fbd-3990-4786-a1f3-b95e27acc7f1",
   "metadata": {},
   "outputs": [
    {
     "data": {
      "text/plain": [
       "True"
      ]
     },
     "execution_count": 72,
     "metadata": {},
     "output_type": "execute_result"
    }
   ],
   "source": [
    "x.isalpha()"
   ]
  },
  {
   "cell_type": "code",
   "execution_count": 81,
   "id": "ef5bd961-ad27-494e-bb90-05c6b45078b1",
   "metadata": {},
   "outputs": [],
   "source": [
    "str = ' Data science '"
   ]
  },
  {
   "cell_type": "code",
   "execution_count": 74,
   "id": "29397222-33a8-4441-9675-83b5b29945e6",
   "metadata": {},
   "outputs": [
    {
     "data": {
      "text/plain": [
       "'data science'"
      ]
     },
     "execution_count": 74,
     "metadata": {},
     "output_type": "execute_result"
    }
   ],
   "source": [
    "str"
   ]
  },
  {
   "cell_type": "code",
   "execution_count": 75,
   "id": "107c5f11-df94-4084-834c-fe08bcc3933b",
   "metadata": {},
   "outputs": [
    {
     "data": {
      "text/plain": [
       "'Data science'"
      ]
     },
     "execution_count": 75,
     "metadata": {},
     "output_type": "execute_result"
    }
   ],
   "source": [
    "str.capitalize()"
   ]
  },
  {
   "cell_type": "code",
   "execution_count": 76,
   "id": "6311951b-c18b-43ba-8a82-912301a85ae0",
   "metadata": {},
   "outputs": [
    {
     "data": {
      "text/plain": [
       "'Data Science'"
      ]
     },
     "execution_count": 76,
     "metadata": {},
     "output_type": "execute_result"
    }
   ],
   "source": [
    "str.title()"
   ]
  },
  {
   "cell_type": "code",
   "execution_count": 79,
   "id": "396d2ac5-214b-49c6-8396-12d832f72398",
   "metadata": {},
   "outputs": [
    {
     "data": {
      "text/plain": [
       "'dATA SCIENCE'"
      ]
     },
     "execution_count": 79,
     "metadata": {},
     "output_type": "execute_result"
    }
   ],
   "source": [
    "str.swapcase()"
   ]
  },
  {
   "cell_type": "code",
   "execution_count": 82,
   "id": "02c038d5-acea-4461-8a8f-6b2c9e91c484",
   "metadata": {},
   "outputs": [
    {
     "data": {
      "text/plain": [
       "'Data science'"
      ]
     },
     "execution_count": 82,
     "metadata": {},
     "output_type": "execute_result"
    }
   ],
   "source": [
    "str.strip()"
   ]
  },
  {
   "cell_type": "code",
   "execution_count": 84,
   "id": "737c2e7a-f7c5-4794-9586-f21e8effee98",
   "metadata": {},
   "outputs": [
    {
     "data": {
      "text/plain": [
       "' Dyty science '"
      ]
     },
     "execution_count": 84,
     "metadata": {},
     "output_type": "execute_result"
    }
   ],
   "source": [
    "str.replace('a','y')"
   ]
  },
  {
   "cell_type": "code",
   "execution_count": 86,
   "id": "5ffffc2a-3353-4e77-bde9-03f5366c41fa",
   "metadata": {},
   "outputs": [],
   "source": [
    "string = 'data'"
   ]
  },
  {
   "cell_type": "code",
   "execution_count": 87,
   "id": "99c4ba1c-ec21-453b-a767-dcbdd7756248",
   "metadata": {},
   "outputs": [
    {
     "data": {
      "text/plain": [
       "'***data**'"
      ]
     },
     "execution_count": 87,
     "metadata": {},
     "output_type": "execute_result"
    }
   ],
   "source": [
    "string.center(9,'*')"
   ]
  },
  {
   "cell_type": "code",
   "execution_count": 88,
   "id": "2d2c0e2e-1ed6-4167-b6c4-892c9431f7bc",
   "metadata": {},
   "outputs": [],
   "source": [
    "x = 'data science'"
   ]
  },
  {
   "cell_type": "code",
   "execution_count": 92,
   "id": "868aa166-0cd0-4e9a-a00d-a303f40dcb2d",
   "metadata": {},
   "outputs": [
    {
     "data": {
      "text/plain": [
       "'dA'"
      ]
     },
     "execution_count": 92,
     "metadata": {},
     "output_type": "execute_result"
    }
   ],
   "source": [
    "x[0:2:1].capitalize().swapcase()"
   ]
  },
  {
   "cell_type": "code",
   "execution_count": 96,
   "id": "f548aaa8-74ad-4ff5-af72-ffea1ece1d19",
   "metadata": {},
   "outputs": [
    {
     "data": {
      "text/plain": [
       "'DATA Engineering'"
      ]
     },
     "execution_count": 96,
     "metadata": {},
     "output_type": "execute_result"
    }
   ],
   "source": [
    "x = 'Data Science'\n",
    "y = \"data engineering\"\n",
    "x[0:4:1].upper()+' '+ y[5::1].capitalize()"
   ]
  },
  {
   "cell_type": "code",
   "execution_count": 118,
   "id": "1daf0e69-7cae-4ac8-8c2b-9cd621af7cfe",
   "metadata": {},
   "outputs": [],
   "source": [
    "lst = [[1,2],[3,4],[5,6]]"
   ]
  },
  {
   "cell_type": "code",
   "execution_count": 119,
   "id": "31fc164b-4d43-460c-9778-253b8dd1bc51",
   "metadata": {},
   "outputs": [
    {
     "data": {
      "text/plain": [
       "5"
      ]
     },
     "execution_count": 119,
     "metadata": {},
     "output_type": "execute_result"
    }
   ],
   "source": [
    "lst[2][0]"
   ]
  },
  {
   "cell_type": "code",
   "execution_count": 120,
   "id": "20e9ce88-c573-4287-a359-1404a9d1880e",
   "metadata": {},
   "outputs": [],
   "source": [
    "lst.append(7)"
   ]
  },
  {
   "cell_type": "code",
   "execution_count": 121,
   "id": "a1b96cb9-5649-4613-8fba-3562bc350068",
   "metadata": {},
   "outputs": [
    {
     "data": {
      "text/plain": [
       "[[1, 2], [3, 4], [5, 6], 7]"
      ]
     },
     "execution_count": 121,
     "metadata": {},
     "output_type": "execute_result"
    }
   ],
   "source": [
    "lst"
   ]
  },
  {
   "cell_type": "code",
   "execution_count": 123,
   "id": "a7376748-fd28-44e0-bb5e-115574b05d0e",
   "metadata": {},
   "outputs": [],
   "source": [
    "lst.extend([8,9])"
   ]
  },
  {
   "cell_type": "code",
   "execution_count": 124,
   "id": "da5bab12-cf41-4392-94c9-9aad5777c121",
   "metadata": {},
   "outputs": [
    {
     "data": {
      "text/plain": [
       "[[1, 2], [3, 4], [5, 6], 7, 8, 9]"
      ]
     },
     "execution_count": 124,
     "metadata": {},
     "output_type": "execute_result"
    }
   ],
   "source": [
    "lst"
   ]
  },
  {
   "cell_type": "code",
   "execution_count": null,
   "id": "c76e0006-4840-4ca2-8931-0c6ffc24900e",
   "metadata": {},
   "outputs": [],
   "source": []
  }
 ],
 "metadata": {
  "kernelspec": {
   "display_name": "Python 3 (ipykernel)",
   "language": "python",
   "name": "python3"
  },
  "language_info": {
   "codemirror_mode": {
    "name": "ipython",
    "version": 3
   },
   "file_extension": ".py",
   "mimetype": "text/x-python",
   "name": "python",
   "nbconvert_exporter": "python",
   "pygments_lexer": "ipython3",
   "version": "3.13.1"
  }
 },
 "nbformat": 4,
 "nbformat_minor": 5
}
