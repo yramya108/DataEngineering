{
 "cells": [
  {
   "cell_type": "code",
   "execution_count": 38,
   "id": "782c450c-53e1-4522-8d26-8f7a03c097ff",
   "metadata": {},
   "outputs": [],
   "source": [
    "name = \"Ramya\""
   ]
  },
  {
   "cell_type": "code",
   "execution_count": 22,
   "id": "e9f65592-a227-4aea-bded-c41c7fdf248d",
   "metadata": {},
   "outputs": [
    {
     "data": {
      "text/plain": [
       "'Ramya'"
      ]
     },
     "execution_count": 22,
     "metadata": {},
     "output_type": "execute_result"
    }
   ],
   "source": [
    "name"
   ]
  },
  {
   "cell_type": "code",
   "execution_count": 23,
   "id": "214509d3-5ea5-407b-9240-620ce9579263",
   "metadata": {},
   "outputs": [
    {
     "data": {
      "text/plain": [
       "str"
      ]
     },
     "execution_count": 23,
     "metadata": {},
     "output_type": "execute_result"
    }
   ],
   "source": [
    "type(name)"
   ]
  },
  {
   "cell_type": "code",
   "execution_count": 15,
   "id": "51d9f27e-4e67-4ae8-ac0a-5eb5835c6dcc",
   "metadata": {},
   "outputs": [],
   "source": [
    "x = 1.1"
   ]
  },
  {
   "cell_type": "code",
   "execution_count": 16,
   "id": "aac36893-61f0-4ac7-a56e-7d30baea87a5",
   "metadata": {},
   "outputs": [
    {
     "data": {
      "text/plain": [
       "float"
      ]
     },
     "execution_count": 16,
     "metadata": {},
     "output_type": "execute_result"
    }
   ],
   "source": [
    "type(x)"
   ]
  },
  {
   "cell_type": "code",
   "execution_count": null,
   "id": "199a3b42-10eb-4b72-ab84-0144812a530a",
   "metadata": {},
   "outputs": [],
   "source": [
    "y = true"
   ]
  },
  {
   "cell_type": "code",
   "execution_count": 24,
   "id": "8756e0ca-9412-434e-b441-cb4afb4e9c79",
   "metadata": {},
   "outputs": [
    {
     "name": "stdout",
     "output_type": "stream",
     "text": [
      "Ramya\n"
     ]
    }
   ],
   "source": [
    "print(name)"
   ]
  },
  {
   "cell_type": "code",
   "execution_count": 28,
   "id": "13341e37-c66d-4c08-8243-11149a64ef06",
   "metadata": {},
   "outputs": [
    {
     "name": "stdout",
     "output_type": "stream",
     "text": [
      "['False', 'None', 'True', 'and', 'as', 'assert', 'async', 'await', 'break', 'class', 'continue', 'def', 'del', 'elif', 'else', 'except', 'finally', 'for', 'from', 'global', 'if', 'import', 'in', 'is', 'lambda', 'nonlocal', 'not', 'or', 'pass', 'raise', 'return', 'try', 'while', 'with', 'yield']\n"
     ]
    }
   ],
   "source": [
    "import keyword\n",
    "print(keyword.kwlist)"
   ]
  },
  {
   "cell_type": "code",
   "execution_count": 33,
   "id": "2db31482-369a-4b41-a786-0520a734fbec",
   "metadata": {},
   "outputs": [
    {
     "data": {
      "text/plain": [
       "True"
      ]
     },
     "execution_count": 33,
     "metadata": {},
     "output_type": "execute_result"
    }
   ],
   "source": [
    "bool(True)"
   ]
  },
  {
   "cell_type": "code",
   "execution_count": 35,
   "id": "e3f611c8-12c1-4511-903e-c544b2cef313",
   "metadata": {},
   "outputs": [
    {
     "data": {
      "text/plain": [
       "bool"
      ]
     },
     "execution_count": 35,
     "metadata": {},
     "output_type": "execute_result"
    }
   ],
   "source": [
    "type(True)"
   ]
  },
  {
   "cell_type": "code",
   "execution_count": 49,
   "id": "0bc87f2a-2391-48a6-a51a-e14efe9ed03b",
   "metadata": {},
   "outputs": [],
   "source": [
    "name = '''Data Science'''"
   ]
  },
  {
   "cell_type": "code",
   "execution_count": 50,
   "id": "697bddae-694e-4e0d-84f7-654b525ca4fb",
   "metadata": {},
   "outputs": [
    {
     "data": {
      "text/plain": [
       "'ta'"
      ]
     },
     "execution_count": 50,
     "metadata": {},
     "output_type": "execute_result"
    }
   ],
   "source": [
    "name[2:4]"
   ]
  },
  {
   "cell_type": "code",
   "execution_count": 51,
   "id": "71a6193b-5151-49df-b24a-90a583e48393",
   "metadata": {},
   "outputs": [
    {
     "data": {
      "text/plain": [
       "'Data Scie'"
      ]
     },
     "execution_count": 51,
     "metadata": {},
     "output_type": "execute_result"
    }
   ],
   "source": [
    "name[-12:-3]"
   ]
  },
  {
   "cell_type": "code",
   "execution_count": 53,
   "id": "d35ac32b-aac6-45da-81b8-e9ef8e17ea52",
   "metadata": {},
   "outputs": [],
   "source": [
    "x = 'abcdefghijklmnop'"
   ]
  },
  {
   "cell_type": "code",
   "execution_count": 54,
   "id": "f2e5a69a-710c-407c-8478-752794af4464",
   "metadata": {},
   "outputs": [
    {
     "data": {
      "text/plain": [
       "'abcdefghijklmnop'"
      ]
     },
     "execution_count": 54,
     "metadata": {},
     "output_type": "execute_result"
    }
   ],
   "source": [
    "x[::1]"
   ]
  },
  {
   "cell_type": "code",
   "execution_count": 57,
   "id": "84cc8626-6d95-47e8-8029-3267d0033f0b",
   "metadata": {},
   "outputs": [
    {
     "data": {
      "text/plain": [
       "'abcdef'"
      ]
     },
     "execution_count": 57,
     "metadata": {},
     "output_type": "execute_result"
    }
   ],
   "source": [
    "x[:6:1]"
   ]
  },
  {
   "cell_type": "code",
   "execution_count": 61,
   "id": "acb7ef82-6345-4241-b156-940ef185603b",
   "metadata": {},
   "outputs": [
    {
     "data": {
      "text/plain": [
       "'acegi'"
      ]
     },
     "execution_count": 61,
     "metadata": {},
     "output_type": "execute_result"
    }
   ],
   "source": [
    "x[0:9:2]"
   ]
  },
  {
   "cell_type": "code",
   "execution_count": 63,
   "id": "8937633e-9b5e-41e3-ac61-2e810f710bd1",
   "metadata": {},
   "outputs": [
    {
     "data": {
      "text/plain": [
       "16"
      ]
     },
     "execution_count": 63,
     "metadata": {},
     "output_type": "execute_result"
    }
   ],
   "source": [
    "len(x)"
   ]
  },
  {
   "cell_type": "code",
   "execution_count": 65,
   "id": "4db9d520-daf0-4edf-b3f7-13460429aeaa",
   "metadata": {},
   "outputs": [
    {
     "data": {
      "text/plain": [
       "'ABCDEFGHIJKLMNOP'"
      ]
     },
     "execution_count": 65,
     "metadata": {},
     "output_type": "execute_result"
    }
   ],
   "source": [
    "x.upper()"
   ]
  },
  {
   "cell_type": "code",
   "execution_count": 66,
   "id": "cd91592d-72d8-4309-9a7b-3268dcf8816c",
   "metadata": {},
   "outputs": [
    {
     "data": {
      "text/plain": [
       "'abcdefghijklmnop'"
      ]
     },
     "execution_count": 66,
     "metadata": {},
     "output_type": "execute_result"
    }
   ],
   "source": [
    "x.lower()"
   ]
  },
  {
   "cell_type": "code",
   "execution_count": 68,
   "id": "6e8d9b87-26b7-491c-a41d-b32e6b74d0f5",
   "metadata": {},
   "outputs": [
    {
     "data": {
      "text/plain": [
       "False"
      ]
     },
     "execution_count": 68,
     "metadata": {},
     "output_type": "execute_result"
    }
   ],
   "source": [
    "x.isupper()"
   ]
  },
  {
   "cell_type": "code",
   "execution_count": 69,
   "id": "384f7720-5f5f-498b-b545-4d7cc1b515f3",
   "metadata": {},
   "outputs": [
    {
     "data": {
      "text/plain": [
       "True"
      ]
     },
     "execution_count": 69,
     "metadata": {},
     "output_type": "execute_result"
    }
   ],
   "source": [
    "x.islower()"
   ]
  },
  {
   "cell_type": "code",
   "execution_count": 71,
   "id": "1985491d-6f2d-4a69-b317-893c3a3e2292",
   "metadata": {},
   "outputs": [
    {
     "data": {
      "text/plain": [
       "False"
      ]
     },
     "execution_count": 71,
     "metadata": {},
     "output_type": "execute_result"
    }
   ],
   "source": [
    "x.isnumeric()"
   ]
  },
  {
   "cell_type": "code",
   "execution_count": 72,
   "id": "7b401fbd-3990-4786-a1f3-b95e27acc7f1",
   "metadata": {},
   "outputs": [
    {
     "data": {
      "text/plain": [
       "True"
      ]
     },
     "execution_count": 72,
     "metadata": {},
     "output_type": "execute_result"
    }
   ],
   "source": [
    "x.isalpha()"
   ]
  },
  {
   "cell_type": "code",
   "execution_count": 81,
   "id": "ef5bd961-ad27-494e-bb90-05c6b45078b1",
   "metadata": {},
   "outputs": [],
   "source": [
    "str = ' Data science '"
   ]
  },
  {
   "cell_type": "code",
   "execution_count": 74,
   "id": "29397222-33a8-4441-9675-83b5b29945e6",
   "metadata": {},
   "outputs": [
    {
     "data": {
      "text/plain": [
       "'data science'"
      ]
     },
     "execution_count": 74,
     "metadata": {},
     "output_type": "execute_result"
    }
   ],
   "source": [
    "str"
   ]
  },
  {
   "cell_type": "code",
   "execution_count": 75,
   "id": "107c5f11-df94-4084-834c-fe08bcc3933b",
   "metadata": {},
   "outputs": [
    {
     "data": {
      "text/plain": [
       "'Data science'"
      ]
     },
     "execution_count": 75,
     "metadata": {},
     "output_type": "execute_result"
    }
   ],
   "source": [
    "str.capitalize()"
   ]
  },
  {
   "cell_type": "code",
   "execution_count": 76,
   "id": "6311951b-c18b-43ba-8a82-912301a85ae0",
   "metadata": {},
   "outputs": [
    {
     "data": {
      "text/plain": [
       "'Data Science'"
      ]
     },
     "execution_count": 76,
     "metadata": {},
     "output_type": "execute_result"
    }
   ],
   "source": [
    "str.title()"
   ]
  },
  {
   "cell_type": "code",
   "execution_count": 79,
   "id": "396d2ac5-214b-49c6-8396-12d832f72398",
   "metadata": {},
   "outputs": [
    {
     "data": {
      "text/plain": [
       "'dATA SCIENCE'"
      ]
     },
     "execution_count": 79,
     "metadata": {},
     "output_type": "execute_result"
    }
   ],
   "source": [
    "str.swapcase()"
   ]
  },
  {
   "cell_type": "code",
   "execution_count": 82,
   "id": "02c038d5-acea-4461-8a8f-6b2c9e91c484",
   "metadata": {},
   "outputs": [
    {
     "data": {
      "text/plain": [
       "'Data science'"
      ]
     },
     "execution_count": 82,
     "metadata": {},
     "output_type": "execute_result"
    }
   ],
   "source": [
    "str.strip()"
   ]
  },
  {
   "cell_type": "code",
   "execution_count": 84,
   "id": "737c2e7a-f7c5-4794-9586-f21e8effee98",
   "metadata": {},
   "outputs": [
    {
     "data": {
      "text/plain": [
       "' Dyty science '"
      ]
     },
     "execution_count": 84,
     "metadata": {},
     "output_type": "execute_result"
    }
   ],
   "source": [
    "str.replace('a','y')"
   ]
  },
  {
   "cell_type": "code",
   "execution_count": 86,
   "id": "5ffffc2a-3353-4e77-bde9-03f5366c41fa",
   "metadata": {},
   "outputs": [],
   "source": [
    "string = 'data'"
   ]
  },
  {
   "cell_type": "code",
   "execution_count": 87,
   "id": "99c4ba1c-ec21-453b-a767-dcbdd7756248",
   "metadata": {},
   "outputs": [
    {
     "data": {
      "text/plain": [
       "'***data**'"
      ]
     },
     "execution_count": 87,
     "metadata": {},
     "output_type": "execute_result"
    }
   ],
   "source": [
    "string.center(9,'*')"
   ]
  },
  {
   "cell_type": "code",
   "execution_count": 88,
   "id": "2d2c0e2e-1ed6-4167-b6c4-892c9431f7bc",
   "metadata": {},
   "outputs": [],
   "source": [
    "x = 'data science'"
   ]
  },
  {
   "cell_type": "code",
   "execution_count": 92,
   "id": "868aa166-0cd0-4e9a-a00d-a303f40dcb2d",
   "metadata": {},
   "outputs": [
    {
     "data": {
      "text/plain": [
       "'dA'"
      ]
     },
     "execution_count": 92,
     "metadata": {},
     "output_type": "execute_result"
    }
   ],
   "source": [
    "x[0:2:1].capitalize().swapcase()"
   ]
  },
  {
   "cell_type": "code",
   "execution_count": 96,
   "id": "f548aaa8-74ad-4ff5-af72-ffea1ece1d19",
   "metadata": {},
   "outputs": [
    {
     "data": {
      "text/plain": [
       "'DATA Engineering'"
      ]
     },
     "execution_count": 96,
     "metadata": {},
     "output_type": "execute_result"
    }
   ],
   "source": [
    "x = 'Data Science'\n",
    "y = \"data engineering\"\n",
    "x[0:4:1].upper()+' '+ y[5::1].capitalize()"
   ]
  },
  {
   "cell_type": "code",
   "execution_count": 118,
   "id": "1daf0e69-7cae-4ac8-8c2b-9cd621af7cfe",
   "metadata": {},
   "outputs": [],
   "source": [
    "lst = [[1,2],[3,4],[5,6]]"
   ]
  },
  {
   "cell_type": "code",
   "execution_count": 119,
   "id": "31fc164b-4d43-460c-9778-253b8dd1bc51",
   "metadata": {},
   "outputs": [
    {
     "data": {
      "text/plain": [
       "5"
      ]
     },
     "execution_count": 119,
     "metadata": {},
     "output_type": "execute_result"
    }
   ],
   "source": [
    "lst[2][0]"
   ]
  },
  {
   "cell_type": "code",
   "execution_count": 120,
   "id": "20e9ce88-c573-4287-a359-1404a9d1880e",
   "metadata": {},
   "outputs": [],
   "source": [
    "lst.append(7)"
   ]
  },
  {
   "cell_type": "code",
   "execution_count": 121,
   "id": "a1b96cb9-5649-4613-8fba-3562bc350068",
   "metadata": {},
   "outputs": [
    {
     "data": {
      "text/plain": [
       "[[1, 2], [3, 4], [5, 6], 7]"
      ]
     },
     "execution_count": 121,
     "metadata": {},
     "output_type": "execute_result"
    }
   ],
   "source": [
    "lst"
   ]
  },
  {
   "cell_type": "code",
   "execution_count": 123,
   "id": "a7376748-fd28-44e0-bb5e-115574b05d0e",
   "metadata": {},
   "outputs": [],
   "source": [
    "lst.extend([8,9])"
   ]
  },
  {
   "cell_type": "code",
   "execution_count": 124,
   "id": "da5bab12-cf41-4392-94c9-9aad5777c121",
   "metadata": {},
   "outputs": [
    {
     "data": {
      "text/plain": [
       "[[1, 2], [3, 4], [5, 6], 7, 8, 9]"
      ]
     },
     "execution_count": 124,
     "metadata": {},
     "output_type": "execute_result"
    }
   ],
   "source": [
    "lst"
   ]
  },
  {
   "cell_type": "code",
   "execution_count": 14,
   "id": "c76e0006-4840-4ca2-8931-0c6ffc24900e",
   "metadata": {},
   "outputs": [
    {
     "name": "stdin",
     "output_type": "stream",
     "text": [
      " 6\n"
     ]
    }
   ],
   "source": [
    "num = input()\n"
   ]
  },
  {
   "cell_type": "code",
   "execution_count": 15,
   "id": "9d33a211-3e01-45eb-83a1-9d68512486bf",
   "metadata": {},
   "outputs": [
    {
     "name": "stdout",
     "output_type": "stream",
     "text": [
      "<class 'str'>\n",
      "6 X 1 = 6\n",
      "6 X 2 = 12\n",
      "6 X 3 = 18\n",
      "6 X 4 = 24\n",
      "6 X 5 = 30\n",
      "6 X 6 = 36\n",
      "6 X 7 = 42\n",
      "6 X 8 = 48\n",
      "6 X 9 = 54\n",
      "6 X 10 = 60\n"
     ]
    }
   ],
   "source": [
    "print(type(num))\n",
    "\n",
    "for i in range (1,11):\n",
    "    print(num,\"X\",i,\"=\",i*int(num))"
   ]
  },
  {
   "cell_type": "code",
   "execution_count": 17,
   "id": "337d5f7c-c802-4514-afe8-09cbbe9e48d4",
   "metadata": {},
   "outputs": [
    {
     "name": "stdout",
     "output_type": "stream",
     "text": [
      "24\n"
     ]
    }
   ],
   "source": [
    "# count toaal number of digints\n",
    "num = 123459\n",
    "sum = 0\n",
    "for i in str(num):\n",
    "    sum = sum + int(i)\n",
    "print(sum)"
   ]
  },
  {
   "cell_type": "code",
   "execution_count": 18,
   "id": "09642f1b-8c90-42c7-a4e8-35ee2321d671",
   "metadata": {},
   "outputs": [],
   "source": [
    "#Python program to check if the given string is a palindrome."
   ]
  },
  {
   "cell_type": "code",
   "execution_count": 35,
   "id": "a9f8281c-7aa3-4438-ac92-79080abbe146",
   "metadata": {},
   "outputs": [
    {
     "name": "stdout",
     "output_type": "stream",
     "text": [
      "madam\n",
      "not a palindrome\n"
     ]
    }
   ],
   "source": [
    "reverseStr = \"madam\"\n",
    "reverseStr = reverseStr[::-1]\n",
    "print(reverseStr)\n",
    "if  str == reverseStr:\n",
    "    print(\"palindrome\")\n",
    "else:\n",
    "    print(\"not a palindrome\")\n"
   ]
  },
  {
   "cell_type": "code",
   "execution_count": 32,
   "id": "5e5b77a3-7f2b-4ac5-a31e-09beb51121a6",
   "metadata": {},
   "outputs": [
    {
     "name": "stdin",
     "output_type": "stream",
     "text": [
      " My name is ramya\n"
     ]
    }
   ],
   "source": [
    "#Python program that accepts a word from the user and reverses it.\n",
    "mystr = input()"
   ]
  },
  {
   "cell_type": "code",
   "execution_count": 36,
   "id": "9072bc81-6ec2-4a95-bfa3-bc71e39bfa08",
   "metadata": {},
   "outputs": [
    {
     "name": "stdout",
     "output_type": "stream",
     "text": [
      "aymar si eman yM\n"
     ]
    }
   ],
   "source": [
    "reverseStr = \"\"\n",
    "for i in mystr:\n",
    "    reverseStr = i + reverseStr\n",
    "print(reverseStr)"
   ]
  },
  {
   "cell_type": "code",
   "execution_count": null,
   "id": "86280e4f-1a3d-4013-9ef9-f8c4964aa889",
   "metadata": {},
   "outputs": [],
   "source": [
    "#Python program to check if a given number is an Armstrong number\n",
    "given_number = \"153\"\n",
    "#given_number = str(given_number)\n",
    "length = len(given_number)\n",
    "armstrong = 0\n",
    "for i in given_number:\n",
    "    armstrong = armstrong+ int(i)**length\n",
    "    print(armstrong)\n",
    "print (armstrong)"
   ]
  },
  {
   "cell_type": "code",
   "execution_count": null,
   "id": "c4d46cd8-41a9-475d-b6d1-ed49939ca997",
   "metadata": {},
   "outputs": [],
   "source": []
  },
  {
   "cell_type": "code",
   "execution_count": 7,
   "id": "d5941ad9-a9aa-475f-904c-e7c6d41c3470",
   "metadata": {},
   "outputs": [
    {
     "name": "stdin",
     "output_type": "stream",
     "text": [
      " 5\n"
     ]
    }
   ],
   "source": [
    "#Python program to find the factorial of a given number\n",
    "given_number = input()\n",
    "factorial =1"
   ]
  },
  {
   "cell_type": "code",
   "execution_count": 8,
   "id": "a1fc6a27-fe66-46e2-99b1-e103990cc214",
   "metadata": {},
   "outputs": [
    {
     "name": "stdout",
     "output_type": "stream",
     "text": [
      "120\n"
     ]
    }
   ],
   "source": [
    "#fact = int(fact)\n",
    "for i in range(1,int(given_number)+1):\n",
    "    factorial = factorial * i\n",
    "print(factorial)"
   ]
  },
  {
   "cell_type": "code",
   "execution_count": 26,
   "id": "b3bde717-be6d-4efc-97bd-f39372bed28b",
   "metadata": {},
   "outputs": [
    {
     "name": "stdout",
     "output_type": "stream",
     "text": [
      "Capital letters A-Z: A,B,C,D,E,F,G,H,I,J,K,L,M,N,O,P,Q,R,S,T,U,V,W,X,Y,Z,\n",
      "Small letters a-z: `,a,b,c,d,e,f,g,h,i,j,k,l,m,n,o,p,q,r,s,t,u,v,w,x,y,z,\n",
      "alphabts:A B C D E F G H I J K L M N O P Q R S T U V W X Y Z\n",
      "alphabts:a b c d e f g h i j k l m n o p q r s t u v w x y z\n"
     ]
    }
   ],
   "source": [
    "## print alpthabets\n",
    "print(\"Capital letters A-Z:\",end =\" \" )\n",
    "for i in range(65,91):\n",
    "    print(chr(i),end=\",\")\n",
    "\n",
    "print()\n",
    "print(\"Small letters a-z:\",end =\" \" )\n",
    "for i in range(96,123):\n",
    "    print(chr(i),end=\",\")\n",
    "print()\n",
    "print(\"alphabts:\" + \" \".join(map(chr,range(65,91))))\n",
    "print(\"alphabts:\" + \" \".join(map(chr,range(97,123))))\n"
   ]
  },
  {
   "cell_type": "code",
   "execution_count": 20,
   "id": "d3281bdf-1fba-4e72-a031-969b4e3fef9f",
   "metadata": {},
   "outputs": [
    {
     "name": "stdout",
     "output_type": "stream",
     "text": [
      "['a', 'a', 'm', 'r', 'y']\n",
      "aamry\n"
     ]
    }
   ],
   "source": [
    "orgStr = \"ramya\"\n",
    "\n",
    "sotredChar = sorted(orgStr)\n",
    "print(sotredChar)\n",
    "reversed_string = \"\".join(sotredChar)\n",
    "print(reversed_string)\n"
   ]
  },
  {
   "cell_type": "code",
   "execution_count": 59,
   "id": "ee008570-8b06-4ed7-9a94-3c3cbfe753bb",
   "metadata": {},
   "outputs": [
    {
     "name": "stdout",
     "output_type": "stream",
     "text": [
      "name\n",
      "age\n",
      "city\n"
     ]
    }
   ],
   "source": [
    "my_dict = {\"name\": \"Alice\", \"age\": 30, \"city\": \"New York\"}\n",
    "for i in my_dict:\n",
    "    print(i)"
   ]
  },
  {
   "cell_type": "code",
   "execution_count": 51,
   "id": "d8dda09b-6636-4c2e-afef-08bb09937500",
   "metadata": {},
   "outputs": [
    {
     "data": {
      "text/plain": [
       "'data4 science7'"
      ]
     },
     "execution_count": 51,
     "metadata": {},
     "output_type": "execute_result"
    }
   ],
   "source": [
    "x =\"data science\"\n",
    "\" \".join(list(map(lambda x:x+str(len(x)),x.split())))"
   ]
  },
  {
   "cell_type": "code",
   "execution_count": 43,
   "id": "fe35ec69-ac69-4a90-8dd9-ca484eb2cfd4",
   "metadata": {},
   "outputs": [
    {
     "data": {
      "text/plain": [
       "[<function __main__.<lambda>(x)>, ['data', 'science']]"
      ]
     },
     "execution_count": 43,
     "metadata": {},
     "output_type": "execute_result"
    }
   ],
   "source": [
    "x =\"data science\"\n",
    "lambda x:x[::-1],x.split()"
   ]
  },
  {
   "cell_type": "code",
   "execution_count": 53,
   "id": "232a89d2-7b66-4705-9229-99674481cacb",
   "metadata": {},
   "outputs": [
    {
     "data": {
      "text/plain": [
       "'da sc'"
      ]
     },
     "execution_count": 53,
     "metadata": {},
     "output_type": "execute_result"
    }
   ],
   "source": [
    "x =\"data science\"\n",
    "\" \".join(list(map(lambda x:x[0:2:],x.split())))"
   ]
  },
  {
   "cell_type": "code",
   "execution_count": 55,
   "id": "33320ff3-4673-4d30-8a9c-a99be54b16d8",
   "metadata": {},
   "outputs": [
    {
     "data": {
      "text/plain": [
       "['da', 'sc']"
      ]
     },
     "execution_count": 55,
     "metadata": {},
     "output_type": "execute_result"
    }
   ],
   "source": [
    "x =\"data science\"\n",
    "list(map(lambda x:x[0:2:],x.split()))"
   ]
  },
  {
   "cell_type": "code",
   "execution_count": 56,
   "id": "055b14e5-c844-4168-bc7b-e82eeeda3c16",
   "metadata": {},
   "outputs": [
    {
     "data": {
      "text/plain": [
       "[True, False]"
      ]
     },
     "execution_count": 56,
     "metadata": {},
     "output_type": "execute_result"
    }
   ],
   "source": [
    "x =\"data science\"\n",
    "list(map(lambda x:len(x)%2==0,x.split()))"
   ]
  },
  {
   "cell_type": "code",
   "execution_count": 4,
   "id": "a13e8eea-843c-4dda-af65-7425ec4d9e7d",
   "metadata": {},
   "outputs": [],
   "source": [
    "add = lambda x:x+2"
   ]
  },
  {
   "cell_type": "code",
   "execution_count": 5,
   "id": "5c2537bc-9334-46f2-95ca-ab6401519648",
   "metadata": {},
   "outputs": [
    {
     "name": "stdout",
     "output_type": "stream",
     "text": [
      "3\n",
      "4\n",
      "5\n",
      "6\n",
      "7\n",
      "8\n",
      "9\n",
      "10\n",
      "11\n"
     ]
    }
   ],
   "source": [
    "for i in range(1,10):\n",
    "    print(add(i))"
   ]
  },
  {
   "cell_type": "code",
   "execution_count": 8,
   "id": "fc74efdf-0eb0-45d2-8fd0-f0209a8c7ac4",
   "metadata": {},
   "outputs": [
    {
     "data": {
      "text/plain": [
       "[3, 4, 5, 6, 7, 8, 9, 10, 11]"
      ]
     },
     "execution_count": 8,
     "metadata": {},
     "output_type": "execute_result"
    }
   ],
   "source": [
    "list(map(lambda x:x+2,range(1,10)))"
   ]
  },
  {
   "cell_type": "code",
   "execution_count": 9,
   "id": "a221292f-5be1-414e-af41-e2992769291a",
   "metadata": {},
   "outputs": [
    {
     "data": {
      "text/plain": [
       "[3, 4, 5, 6, 7, 8, 9, 10, 11]"
      ]
     },
     "execution_count": 9,
     "metadata": {},
     "output_type": "execute_result"
    }
   ],
   "source": [
    "list(map(add,range(1,10)))"
   ]
  },
  {
   "cell_type": "code",
   "execution_count": 11,
   "id": "8a1d8a17-c084-4d44-96d7-391d2fcb01c6",
   "metadata": {},
   "outputs": [
    {
     "name": "stdout",
     "output_type": "stream",
     "text": [
      "1\n",
      "4\n",
      "9\n",
      "16\n",
      "25\n",
      "36\n",
      "49\n",
      "64\n",
      "81\n"
     ]
    }
   ],
   "source": [
    "def square(x):\n",
    "    return x**2\n",
    "for i in range(1,10):\n",
    "    print(square(i))"
   ]
  },
  {
   "cell_type": "code",
   "execution_count": 13,
   "id": "ae9933cf-780a-4318-b0e1-e2f6f206d992",
   "metadata": {},
   "outputs": [
    {
     "data": {
      "text/plain": [
       "[1, 4, 9, 16, 25, 36, 49, 64, 81]"
      ]
     },
     "execution_count": 13,
     "metadata": {},
     "output_type": "execute_result"
    }
   ],
   "source": [
    "list(map(lambda x:x**2, range(1,10)))"
   ]
  },
  {
   "cell_type": "code",
   "execution_count": 14,
   "id": "98f29a48-1df9-4f3d-b498-4b6eb8ce7616",
   "metadata": {},
   "outputs": [],
   "source": [
    "x = \"data science machine learning\""
   ]
  },
  {
   "cell_type": "code",
   "execution_count": 15,
   "id": "0adccad4-0eec-4bd8-a9c0-207121f9cb30",
   "metadata": {},
   "outputs": [
    {
     "data": {
      "text/plain": [
       "'data science machine learning'"
      ]
     },
     "execution_count": 15,
     "metadata": {},
     "output_type": "execute_result"
    }
   ],
   "source": [
    "x"
   ]
  },
  {
   "cell_type": "code",
   "execution_count": 16,
   "id": "26f6dea7-a3a0-4078-bf99-0a15987f6fae",
   "metadata": {},
   "outputs": [
    {
     "data": {
      "text/plain": [
       "['atad', 'ecneics', 'enihcam', 'gninrael']"
      ]
     },
     "execution_count": 16,
     "metadata": {},
     "output_type": "execute_result"
    }
   ],
   "source": [
    "list(map(lambda x: x[::-1], x.split()))"
   ]
  },
  {
   "cell_type": "code",
   "execution_count": 17,
   "id": "53492d88-223a-4309-a0b6-8aab71810061",
   "metadata": {},
   "outputs": [
    {
     "data": {
      "text/plain": [
       "['ATAD', 'ECNEICS', 'ENIHCAM', 'GNINRAEL']"
      ]
     },
     "execution_count": 17,
     "metadata": {},
     "output_type": "execute_result"
    }
   ],
   "source": [
    "list(map(lambda x: x[::-1].upper(), x.split()))"
   ]
  },
  {
   "cell_type": "code",
   "execution_count": 19,
   "id": "3cd0ce32-a220-4ccf-b47a-2f6500087084",
   "metadata": {},
   "outputs": [
    {
     "data": {
      "text/plain": [
       "['DA', 'SC', 'MA', 'LE']"
      ]
     },
     "execution_count": 19,
     "metadata": {},
     "output_type": "execute_result"
    }
   ],
   "source": [
    "list(map(lambda x: x[0:2:].upper(), x.split()))"
   ]
  },
  {
   "cell_type": "code",
   "execution_count": 20,
   "id": "3581432f-2410-49b5-a7a5-f16802f6ddc1",
   "metadata": {},
   "outputs": [
    {
     "data": {
      "text/plain": [
       "['data4', 'science7', 'machine7', 'learning8']"
      ]
     },
     "execution_count": 20,
     "metadata": {},
     "output_type": "execute_result"
    }
   ],
   "source": [
    "list(map(lambda x: x+str(len(x)), x.split()))"
   ]
  },
  {
   "cell_type": "code",
   "execution_count": 25,
   "id": "403358f6-45b8-4fa3-ba74-3d7d70c4f927",
   "metadata": {},
   "outputs": [
    {
     "data": {
      "text/plain": [
       "'da sc ma le'"
      ]
     },
     "execution_count": 25,
     "metadata": {},
     "output_type": "execute_result"
    }
   ],
   "source": [
    "' '.join(list(map(lambda x: x[0:2:], x.split())))"
   ]
  },
  {
   "cell_type": "code",
   "execution_count": 28,
   "id": "9275dc06-57fd-4cd4-8ca4-2aef351731c3",
   "metadata": {},
   "outputs": [
    {
     "data": {
      "text/plain": [
       "[1, 0, 1, 0, 1, 0, 1, 0, 1]"
      ]
     },
     "execution_count": 28,
     "metadata": {},
     "output_type": "execute_result"
    }
   ],
   "source": [
    "list(map(lambda x:x%2, range(1,10)))"
   ]
  },
  {
   "cell_type": "code",
   "execution_count": 30,
   "id": "b32a8134-14f2-4bda-a86e-b857157360d3",
   "metadata": {},
   "outputs": [
    {
     "data": {
      "text/plain": [
       "[False, True, False, True, False, True, False, True, False]"
      ]
     },
     "execution_count": 30,
     "metadata": {},
     "output_type": "execute_result"
    }
   ],
   "source": [
    "list(map(lambda x:x%2==0, range(1,10)))"
   ]
  },
  {
   "cell_type": "code",
   "execution_count": 34,
   "id": "d4374dc4-d265-42c0-9ab0-a57a78679d57",
   "metadata": {},
   "outputs": [
    {
     "data": {
      "text/plain": [
       "[1, 3, 5, 7, 9]"
      ]
     },
     "execution_count": 34,
     "metadata": {},
     "output_type": "execute_result"
    }
   ],
   "source": [
    "list(filter(lambda x:x%2, range(1,10)))"
   ]
  },
  {
   "cell_type": "code",
   "execution_count": 35,
   "id": "5030e7b6-4f5d-44fa-9f0e-4b13fd0338e0",
   "metadata": {},
   "outputs": [
    {
     "data": {
      "text/plain": [
       "'data science machine learning'"
      ]
     },
     "execution_count": 35,
     "metadata": {},
     "output_type": "execute_result"
    }
   ],
   "source": [
    "x\n"
   ]
  },
  {
   "cell_type": "code",
   "execution_count": 41,
   "id": "baca4d1c-f9df-47a3-ab92-4573e840ad8d",
   "metadata": {},
   "outputs": [
    {
     "data": {
      "text/plain": [
       "['data', 'learning']"
      ]
     },
     "execution_count": 41,
     "metadata": {},
     "output_type": "execute_result"
    }
   ],
   "source": [
    "list(filter(lambda x : len(x)%2==0, x.split()))"
   ]
  },
  {
   "cell_type": "code",
   "execution_count": 4,
   "id": "c079f291-3ac0-47d9-b990-4473fca1c4b1",
   "metadata": {},
   "outputs": [],
   "source": [
    "x = [10,30,44,21,454,12]"
   ]
  },
  {
   "cell_type": "code",
   "execution_count": 5,
   "id": "6383af54-39cc-4527-961e-ed0afbb33dd0",
   "metadata": {},
   "outputs": [
    {
     "data": {
      "text/plain": [
       "[10, 30, 44, 21, 454, 12]"
      ]
     },
     "execution_count": 5,
     "metadata": {},
     "output_type": "execute_result"
    }
   ],
   "source": [
    "x\n"
   ]
  },
  {
   "cell_type": "code",
   "execution_count": 6,
   "id": "5a919ad2-2c5a-478b-a8d1-bb52cbf282bb",
   "metadata": {},
   "outputs": [
    {
     "name": "stdout",
     "output_type": "stream",
     "text": [
      "30\n",
      "21\n"
     ]
    }
   ],
   "source": [
    "for i in x:\n",
    "    if i>20 and i<40:\n",
    "        print(i)"
   ]
  },
  {
   "cell_type": "code",
   "execution_count": 8,
   "id": "c2c12c83-8ced-44de-88f8-779ea7ee821e",
   "metadata": {},
   "outputs": [
    {
     "data": {
      "text/plain": [
       "[21, 22, 23, 24, 25, 26, 27, 28, 29, 30, 31, 32, 33, 34, 35, 36, 37, 38, 39]"
      ]
     },
     "execution_count": 8,
     "metadata": {},
     "output_type": "execute_result"
    }
   ],
   "source": [
    "list(filter(lambda x : x>20 and x<40, range(15,45)))"
   ]
  },
  {
   "cell_type": "code",
   "execution_count": 13,
   "id": "3923558d-c194-4529-b27d-99cb0b08ac67",
   "metadata": {},
   "outputs": [
    {
     "data": {
      "text/plain": [
       "15"
      ]
     },
     "execution_count": 13,
     "metadata": {},
     "output_type": "execute_result"
    }
   ],
   "source": [
    "from functools import reduce\n",
    "reduce(lambda x,y : x+y , range(1,6))"
   ]
  },
  {
   "cell_type": "code",
   "execution_count": 16,
   "id": "13c0eb73-622f-4621-915d-6808b61c1ee6",
   "metadata": {},
   "outputs": [
    {
     "data": {
      "text/plain": [
       "[10, 30, 44, 21, 454, 12]"
      ]
     },
     "execution_count": 16,
     "metadata": {},
     "output_type": "execute_result"
    }
   ],
   "source": [
    "x"
   ]
  },
  {
   "cell_type": "code",
   "execution_count": 15,
   "id": "cb1f6e18-a12e-41f4-99f7-5eae9f37725c",
   "metadata": {},
   "outputs": [
    {
     "data": {
      "text/plain": [
       "454"
      ]
     },
     "execution_count": 15,
     "metadata": {},
     "output_type": "execute_result"
    }
   ],
   "source": [
    "reduce(lambda a,b: a if a>b else b, x)"
   ]
  },
  {
   "cell_type": "code",
   "execution_count": 20,
   "id": "b1fdb1b3-b7b6-4a5f-b624-011720b66c48",
   "metadata": {},
   "outputs": [
    {
     "data": {
      "text/plain": [
       "'data science machine learning'"
      ]
     },
     "execution_count": 20,
     "metadata": {},
     "output_type": "execute_result"
    }
   ],
   "source": [
    "x = 'data science machine learning'\n",
    "x"
   ]
  },
  {
   "cell_type": "code",
   "execution_count": 24,
   "id": "f678f722-3e02-4d11-884b-e0950bb7678a",
   "metadata": {},
   "outputs": [
    {
     "data": {
      "text/plain": [
       "'data'"
      ]
     },
     "execution_count": 24,
     "metadata": {},
     "output_type": "execute_result"
    }
   ],
   "source": [
    "reduce(lambda a,b: a if  len(a)<len(b) else b, x.split())"
   ]
  },
  {
   "cell_type": "code",
   "execution_count": null,
   "id": "9280440d-7851-4cc4-a405-92288baeb396",
   "metadata": {},
   "outputs": [],
   "source": []
  },
  {
   "cell_type": "code",
   "execution_count": null,
   "id": "712bd994-0034-4bc8-9b97-55aebfb07f47",
   "metadata": {},
   "outputs": [],
   "source": []
  }
 ],
 "metadata": {
  "kernelspec": {
   "display_name": "Python 3 (ipykernel)",
   "language": "python",
   "name": "python3"
  },
  "language_info": {
   "codemirror_mode": {
    "name": "ipython",
    "version": 3
   },
   "file_extension": ".py",
   "mimetype": "text/x-python",
   "name": "python",
   "nbconvert_exporter": "python",
   "pygments_lexer": "ipython3",
   "version": "3.13.1"
  }
 },
 "nbformat": 4,
 "nbformat_minor": 5
}
