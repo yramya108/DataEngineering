{
 "cells": [
  {
   "cell_type": "code",
   "execution_count": 3,
   "id": "85906086-b84d-457f-9751-bacd2e264866",
   "metadata": {},
   "outputs": [],
   "source": [
    "import numpy as np"
   ]
  },
  {
   "cell_type": "code",
   "execution_count": 4,
   "id": "786cb748-93f0-4dc0-aa63-f523e606c800",
   "metadata": {},
   "outputs": [
    {
     "data": {
      "text/plain": [
       "array([[8, 5],\n",
       "       [9, 0]], dtype=int32)"
      ]
     },
     "execution_count": 4,
     "metadata": {},
     "output_type": "execute_result"
    }
   ],
   "source": [
    "x = np.random.randint(0,10,(2,2))\n",
    "x"
   ]
  },
  {
   "cell_type": "code",
   "execution_count": 5,
   "id": "ac73913f-13f9-44cd-ba4d-490196a4b900",
   "metadata": {},
   "outputs": [
    {
     "data": {
      "text/plain": [
       "array([[5, 8],\n",
       "       [2, 6]], dtype=int32)"
      ]
     },
     "execution_count": 5,
     "metadata": {},
     "output_type": "execute_result"
    }
   ],
   "source": [
    "y = np.random.randint(0,10,(2,2))\n",
    "y"
   ]
  },
  {
   "cell_type": "code",
   "execution_count": 6,
   "id": "dab746e0-da63-4e3c-8f33-912e6fb09924",
   "metadata": {},
   "outputs": [
    {
     "data": {
      "text/plain": [
       "array([[13, 13],\n",
       "       [11,  6]], dtype=int32)"
      ]
     },
     "execution_count": 6,
     "metadata": {},
     "output_type": "execute_result"
    }
   ],
   "source": [
    "z = np.add(x,y)\n",
    "z"
   ]
  },
  {
   "cell_type": "code",
   "execution_count": 4,
   "id": "c8f4c9a0-79a8-434e-8414-692a76511a10",
   "metadata": {},
   "outputs": [
    {
     "name": "stdout",
     "output_type": "stream",
     "text": [
      "['data' 'sci' '1' '2' '3']\n"
     ]
    }
   ],
   "source": [
    "x = ['data','sci',1,2,3]\n",
    "y = np.array(x)\n",
    "print(y)"
   ]
  },
  {
   "cell_type": "code",
   "execution_count": 4,
   "id": "ebd6bd39-d55e-4414-984e-4de3ea8b25bf",
   "metadata": {},
   "outputs": [],
   "source": [
    "arr = np.array([[1,2,3],[4,5,6]])"
   ]
  },
  {
   "cell_type": "code",
   "execution_count": 5,
   "id": "1e284a33-c846-4cac-bc6b-78f257d692c4",
   "metadata": {},
   "outputs": [
    {
     "name": "stdout",
     "output_type": "stream",
     "text": [
      "[[1 2 3]\n",
      " [4 5 6]]\n"
     ]
    }
   ],
   "source": [
    "print(arr)"
   ]
  },
  {
   "cell_type": "code",
   "execution_count": 6,
   "id": "fb434eab-1aba-4c79-969c-49295aca5e49",
   "metadata": {},
   "outputs": [
    {
     "name": "stdout",
     "output_type": "stream",
     "text": [
      "(2, 3)\n"
     ]
    }
   ],
   "source": [
    "print(arr.shape)"
   ]
  },
  {
   "cell_type": "code",
   "execution_count": 7,
   "id": "01afda35-65b1-4995-b7f4-7d78698eda82",
   "metadata": {},
   "outputs": [
    {
     "name": "stdout",
     "output_type": "stream",
     "text": [
      "6\n"
     ]
    }
   ],
   "source": [
    "print(arr.size)"
   ]
  },
  {
   "cell_type": "code",
   "execution_count": 11,
   "id": "059960c1-c902-4a50-b029-3a90141d7816",
   "metadata": {},
   "outputs": [
    {
     "name": "stdout",
     "output_type": "stream",
     "text": [
      "[[1 2]\n",
      " [3 4]\n",
      " [5 6]]\n"
     ]
    }
   ],
   "source": [
    "print(arr.reshape([3,2]))"
   ]
  },
  {
   "cell_type": "code",
   "execution_count": 12,
   "id": "66b77509-6b62-47a0-a942-b67417018e62",
   "metadata": {},
   "outputs": [
    {
     "data": {
      "text/plain": [
       "3"
      ]
     },
     "execution_count": 12,
     "metadata": {},
     "output_type": "execute_result"
    }
   ],
   "source": [
    "3"
   ]
  },
  {
   "cell_type": "code",
   "execution_count": 15,
   "id": "8da59dfc-3263-42cd-8747-620218e6bea6",
   "metadata": {},
   "outputs": [
    {
     "name": "stdout",
     "output_type": "stream",
     "text": [
      "[[0. 0. 0. 0.]\n",
      " [0. 0. 0. 0.]\n",
      " [0. 0. 0. 0.]]\n"
     ]
    }
   ],
   "source": [
    "zeros_arr = np.zeros((3,4))\n",
    "print(zeros_arr)"
   ]
  },
  {
   "cell_type": "code",
   "execution_count": 16,
   "id": "0d3fbebe-ca31-4770-b8ef-7c89dfe94452",
   "metadata": {},
   "outputs": [
    {
     "name": "stdout",
     "output_type": "stream",
     "text": [
      "[[1. 1. 1. 1.]\n",
      " [1. 1. 1. 1.]\n",
      " [1. 1. 1. 1.]]\n"
     ]
    }
   ],
   "source": [
    "ones_arr = np.ones((3,4))\n",
    "print(ones_arr)"
   ]
  },
  {
   "cell_type": "code",
   "execution_count": 19,
   "id": "11672d29-f783-42a2-af79-122949528783",
   "metadata": {},
   "outputs": [
    {
     "name": "stdout",
     "output_type": "stream",
     "text": [
      "[[1]\n",
      " [2]\n",
      " [3]]\n",
      "[[2 3 4]\n",
      " [3 4 5]\n",
      " [4 5 6]]\n"
     ]
    }
   ],
   "source": [
    "a = np.array([1,2,3])\n",
    "b = np.array([[1],[2],[3]])\n",
    "print(b)\n",
    "print(a+b)\n"
   ]
  },
  {
   "cell_type": "code",
   "execution_count": 30,
   "id": "fb07236b-ede5-4ba5-b5d1-546708af218e",
   "metadata": {},
   "outputs": [
    {
     "name": "stdout",
     "output_type": "stream",
     "text": [
      "mean: 9.444444444444445\n"
     ]
    }
   ],
   "source": [
    "arr = np.array([1, 2, 3, 33,4, 5,6,10,21])\n",
    "print(\"mean:\", np.mean(arr))"
   ]
  },
  {
   "cell_type": "code",
   "execution_count": 32,
   "id": "3743896b-27bc-4bcc-a8ab-03d14e388513",
   "metadata": {},
   "outputs": [
    {
     "name": "stdout",
     "output_type": "stream",
     "text": [
      "mean: 5.0\n"
     ]
    }
   ],
   "source": [
    "print(\"mean:\", np.median(arr))"
   ]
  },
  {
   "cell_type": "code",
   "execution_count": 33,
   "id": "c83ff7ac-2ceb-43de-a4bc-c0319252cecb",
   "metadata": {},
   "outputs": [
    {
     "name": "stdout",
     "output_type": "stream",
     "text": [
      "std: 10.100727268767566\n"
     ]
    }
   ],
   "source": [
    "print(\"std:\", np.std(arr))"
   ]
  },
  {
   "cell_type": "code",
   "execution_count": 12,
   "id": "55866bf0-8334-4754-893f-ce5812c73256",
   "metadata": {},
   "outputs": [],
   "source": [
    "from numpy import random\n",
    "sales = random.randint(100, size=(10, 5))"
   ]
  },
  {
   "cell_type": "code",
   "execution_count": 13,
   "id": "be03879c-2f35-4303-9a5b-7d0840ffabc6",
   "metadata": {},
   "outputs": [
    {
     "name": "stdout",
     "output_type": "stream",
     "text": [
      "[[70 25 65 17 41]\n",
      " [16 96 18 13 25]\n",
      " [86 23  9 50 96]\n",
      " [69  7 73 60  3]\n",
      " [58 36 99 48 18]\n",
      " [29  0 53 69 77]\n",
      " [ 1 98 45  9 98]\n",
      " [86 41 44 51 12]\n",
      " [60 36  0 89  1]\n",
      " [23 37 21 33 40]]\n"
     ]
    }
   ],
   "source": [
    "print(sales)"
   ]
  },
  {
   "cell_type": "code",
   "execution_count": 14,
   "id": "31a086d0-dbdd-4a73-8d3a-56700442523d",
   "metadata": {},
   "outputs": [
    {
     "name": "stdout",
     "output_type": "stream",
     "text": [
      "[[18 13]\n",
      " [ 9 50]\n",
      " [73 60]]\n"
     ]
    }
   ],
   "source": [
    "print(sales[1:4,2:4])"
   ]
  },
  {
   "cell_type": "code",
   "execution_count": 17,
   "id": "473687f9-ce53-4316-84df-4c1694620531",
   "metadata": {},
   "outputs": [
    {
     "name": "stdout",
     "output_type": "stream",
     "text": [
      "[[98 45  9]\n",
      " [41 44 51]\n",
      " [36  0 89]]\n"
     ]
    }
   ],
   "source": [
    "print(sales[-4:-1,-4:-1])"
   ]
  },
  {
   "cell_type": "code",
   "execution_count": 24,
   "id": "1b3d442d-3d8c-48e2-bcda-d6d5be99dfd6",
   "metadata": {},
   "outputs": [
    {
     "data": {
      "text/plain": [
       "array([[2, 7],\n",
       "       [7, 5]], dtype=int32)"
      ]
     },
     "execution_count": 24,
     "metadata": {},
     "output_type": "execute_result"
    }
   ],
   "source": [
    "x"
   ]
  },
  {
   "cell_type": "code",
   "execution_count": 27,
   "id": "989959e5-06ec-4f34-9e51-47734fa39f08",
   "metadata": {},
   "outputs": [
    {
     "data": {
      "text/plain": [
       "array([[2, 8],\n",
       "       [4, 2]], dtype=int32)"
      ]
     },
     "execution_count": 27,
     "metadata": {},
     "output_type": "execute_result"
    }
   ],
   "source": [
    "y"
   ]
  },
  {
   "cell_type": "code",
   "execution_count": 20,
   "id": "01807d67-96aa-4685-8659-e7e7330f6df9",
   "metadata": {},
   "outputs": [
    {
     "name": "stdout",
     "output_type": "stream",
     "text": [
      "[[ 3 15]\n",
      " [15  5]]\n"
     ]
    }
   ],
   "source": [
    "print(np.add(x,y))"
   ]
  },
  {
   "cell_type": "code",
   "execution_count": 21,
   "id": "7545febb-5b75-4619-b437-71fa5b78dfac",
   "metadata": {},
   "outputs": [
    {
     "name": "stdout",
     "output_type": "stream",
     "text": [
      "[[ 1 -1]\n",
      " [-1  5]]\n"
     ]
    }
   ],
   "source": [
    "print(np.subtract(x,y))"
   ]
  },
  {
   "cell_type": "code",
   "execution_count": 29,
   "id": "ec15c568-c696-4648-a8ce-7a50d41fa1e1",
   "metadata": {},
   "outputs": [
    {
     "name": "stdout",
     "output_type": "stream",
     "text": [
      "[[1.    0.875]\n",
      " [1.75  2.5  ]]\n"
     ]
    }
   ],
   "source": [
    "print(np.divide(x,y))"
   ]
  },
  {
   "cell_type": "code",
   "execution_count": 30,
   "id": "ed077528-7190-4368-9fcd-71d49bb49a51",
   "metadata": {},
   "outputs": [
    {
     "name": "stdout",
     "output_type": "stream",
     "text": [
      "[[1 0]\n",
      " [1 2]]\n"
     ]
    }
   ],
   "source": [
    "print(np.floor_divide(x,y))"
   ]
  },
  {
   "cell_type": "code",
   "execution_count": 31,
   "id": "0ef54786-8a78-4fbe-b813-42a3ea62dc64",
   "metadata": {},
   "outputs": [
    {
     "name": "stdout",
     "output_type": "stream",
     "text": [
      "[[1. 1.]\n",
      " [2. 2.]]\n"
     ]
    }
   ],
   "source": [
    "print(np.round(np.divide(x,y)))"
   ]
  },
  {
   "cell_type": "code",
   "execution_count": 32,
   "id": "268cfe69-d5c3-4e2e-a985-00d58b4de3f2",
   "metadata": {},
   "outputs": [
    {
     "name": "stdout",
     "output_type": "stream",
     "text": [
      "[[1. 1.]\n",
      " [2. 3.]]\n"
     ]
    }
   ],
   "source": [
    "print(np.ceil(np.divide(x,y)))"
   ]
  },
  {
   "cell_type": "code",
   "execution_count": 34,
   "id": "236ab170-1222-454b-8f7c-7426fba3d28e",
   "metadata": {},
   "outputs": [
    {
     "name": "stdout",
     "output_type": "stream",
     "text": [
      "[[2 7]\n",
      " [7 5]]\n"
     ]
    }
   ],
   "source": [
    "print(np.fix(x,y))"
   ]
  },
  {
   "cell_type": "code",
   "execution_count": 37,
   "id": "9c8bc47f-a7c7-4812-8b61-b15821fa747a",
   "metadata": {},
   "outputs": [],
   "source": [
    "x= np.random.randint(0,2,(4,4))"
   ]
  },
  {
   "cell_type": "code",
   "execution_count": 38,
   "id": "69bcf6fb-d0db-4101-b146-3136e00ff1da",
   "metadata": {},
   "outputs": [
    {
     "data": {
      "text/plain": [
       "array([[1, 0, 1, 1],\n",
       "       [1, 0, 1, 0],\n",
       "       [1, 1, 1, 1],\n",
       "       [0, 1, 1, 1]], dtype=int32)"
      ]
     },
     "execution_count": 38,
     "metadata": {},
     "output_type": "execute_result"
    }
   ],
   "source": [
    "x"
   ]
  },
  {
   "cell_type": "code",
   "execution_count": 39,
   "id": "fdc90d22-2de5-4753-bff3-66c8f16e2646",
   "metadata": {},
   "outputs": [
    {
     "data": {
      "text/plain": [
       "array([1, 1, 1, 1], dtype=int32)"
      ]
     },
     "execution_count": 39,
     "metadata": {},
     "output_type": "execute_result"
    }
   ],
   "source": [
    "x.max(axis=0)"
   ]
  },
  {
   "cell_type": "code",
   "execution_count": 41,
   "id": "5393ca1f-62b7-4cca-9f3c-e41e82280e3d",
   "metadata": {},
   "outputs": [
    {
     "data": {
      "text/plain": [
       "array([0, 0, 1, 0], dtype=int32)"
      ]
     },
     "execution_count": 41,
     "metadata": {},
     "output_type": "execute_result"
    }
   ],
   "source": [
    "x.min(axis=1)"
   ]
  },
  {
   "cell_type": "code",
   "execution_count": 42,
   "id": "f5a93bdc-e795-4950-9a24-34c6e4efb28c",
   "metadata": {},
   "outputs": [],
   "source": [
    "x= np.random.randint(0,10,(4,4))"
   ]
  },
  {
   "cell_type": "code",
   "execution_count": 43,
   "id": "a7c048b6-57f9-4368-b7ca-43878eabd7ad",
   "metadata": {},
   "outputs": [
    {
     "data": {
      "text/plain": [
       "array([[0, 1, 4, 8],\n",
       "       [6, 6, 3, 3],\n",
       "       [9, 4, 1, 1],\n",
       "       [3, 8, 7, 5]], dtype=int32)"
      ]
     },
     "execution_count": 43,
     "metadata": {},
     "output_type": "execute_result"
    }
   ],
   "source": [
    "x"
   ]
  },
  {
   "cell_type": "code",
   "execution_count": 44,
   "id": "1eac1b19-ba7e-4ab4-abba-60c15d432933",
   "metadata": {},
   "outputs": [
    {
     "data": {
      "text/plain": [
       "array([8, 6, 9, 8], dtype=int32)"
      ]
     },
     "execution_count": 44,
     "metadata": {},
     "output_type": "execute_result"
    }
   ],
   "source": [
    "x.max(axis=1)"
   ]
  },
  {
   "cell_type": "code",
   "execution_count": 46,
   "id": "17403693-50cf-43ce-95a4-766041c5cb42",
   "metadata": {},
   "outputs": [
    {
     "data": {
      "text/plain": [
       "array([0, 1, 1, 1], dtype=int32)"
      ]
     },
     "execution_count": 46,
     "metadata": {},
     "output_type": "execute_result"
    }
   ],
   "source": [
    "x.min(axis=0)"
   ]
  },
  {
   "cell_type": "code",
   "execution_count": 48,
   "id": "b34a7d37-4cfb-4590-917c-152e2e4aecf5",
   "metadata": {},
   "outputs": [
    {
     "data": {
      "text/plain": [
       "array([3, 0, 0, 1])"
      ]
     },
     "execution_count": 48,
     "metadata": {},
     "output_type": "execute_result"
    }
   ],
   "source": [
    "x.argmax(axis=1)"
   ]
  },
  {
   "cell_type": "code",
   "execution_count": 49,
   "id": "24d63fcb-fd50-4319-a971-c0f6008c0703",
   "metadata": {},
   "outputs": [
    {
     "data": {
      "text/plain": [
       "array([2, 3, 3, 0])"
      ]
     },
     "execution_count": 49,
     "metadata": {},
     "output_type": "execute_result"
    }
   ],
   "source": [
    "x.argm(axis=0)"
   ]
  },
  {
   "cell_type": "code",
   "execution_count": 50,
   "id": "2f3fb4eb-57b2-4f51-8037-b1e3c7a78e0c",
   "metadata": {},
   "outputs": [],
   "source": [
    "data = np.random.randint(0,100,10)"
   ]
  },
  {
   "cell_type": "code",
   "execution_count": 51,
   "id": "3c3f7987-4870-4d45-9f4e-90199fd4a359",
   "metadata": {},
   "outputs": [
    {
     "data": {
      "text/plain": [
       "array([89, 20, 97, 19, 90, 25, 17, 67, 66,  1], dtype=int32)"
      ]
     },
     "execution_count": 51,
     "metadata": {},
     "output_type": "execute_result"
    }
   ],
   "source": [
    "data"
   ]
  },
  {
   "cell_type": "code",
   "execution_count": 52,
   "id": "f0e3861d-0b7d-4641-93e1-bbabb81f0145",
   "metadata": {},
   "outputs": [
    {
     "data": {
      "text/plain": [
       "array([ True, False,  True, False,  True, False, False,  True,  True,\n",
       "       False])"
      ]
     },
     "execution_count": 52,
     "metadata": {},
     "output_type": "execute_result"
    }
   ],
   "source": [
    "data>50"
   ]
  },
  {
   "cell_type": "code",
   "execution_count": 54,
   "id": "ced61999-6b8e-4d90-94b9-a3f07ac645a7",
   "metadata": {},
   "outputs": [
    {
     "data": {
      "text/plain": [
       "array([89, 97, 90, 67, 66], dtype=int32)"
      ]
     },
     "execution_count": 54,
     "metadata": {},
     "output_type": "execute_result"
    }
   ],
   "source": [
    "data[data>50]"
   ]
  },
  {
   "cell_type": "code",
   "execution_count": 55,
   "id": "122d1824-baf5-4848-8f6e-c6843f82bd9b",
   "metadata": {},
   "outputs": [
    {
     "data": {
      "text/plain": [
       "array(['high', 'low', 'high', 'low', 'high', 'low', 'low', 'high', 'high',\n",
       "       'low'], dtype='<U4')"
      ]
     },
     "execution_count": 55,
     "metadata": {},
     "output_type": "execute_result"
    }
   ],
   "source": [
    "np.where(data>50, 'high','low')"
   ]
  },
  {
   "cell_type": "code",
   "execution_count": 56,
   "id": "e786247a-8a1c-4b8a-9dcc-186237fc36c3",
   "metadata": {},
   "outputs": [],
   "source": [
    "data = np.random.randint(0,10,10)"
   ]
  },
  {
   "cell_type": "code",
   "execution_count": 57,
   "id": "9dc8ca4b-4f41-42fc-95c1-6dffa984500d",
   "metadata": {},
   "outputs": [
    {
     "data": {
      "text/plain": [
       "array([9, 4, 1, 9, 9, 3, 9, 9, 8, 8], dtype=int32)"
      ]
     },
     "execution_count": 57,
     "metadata": {},
     "output_type": "execute_result"
    }
   ],
   "source": [
    "data"
   ]
  },
  {
   "cell_type": "code",
   "execution_count": 58,
   "id": "de784ce4-750d-461b-918a-2b5e6ef968bb",
   "metadata": {},
   "outputs": [
    {
     "data": {
      "text/plain": [
       "(10,)"
      ]
     },
     "execution_count": 58,
     "metadata": {},
     "output_type": "execute_result"
    }
   ],
   "source": [
    "data.shape"
   ]
  },
  {
   "cell_type": "code",
   "execution_count": 59,
   "id": "79b0b464-565b-4ddc-beb7-5c9cf4021e95",
   "metadata": {},
   "outputs": [
    {
     "data": {
      "text/plain": [
       "array([[9, 4],\n",
       "       [1, 9],\n",
       "       [9, 3],\n",
       "       [9, 9],\n",
       "       [8, 8]], dtype=int32)"
      ]
     },
     "execution_count": 59,
     "metadata": {},
     "output_type": "execute_result"
    }
   ],
   "source": [
    "data.reshape(5,2)"
   ]
  },
  {
   "cell_type": "code",
   "execution_count": 62,
   "id": "1e1f0966-43e0-4aa4-b4d9-aec02a63df54",
   "metadata": {},
   "outputs": [
    {
     "data": {
      "text/plain": [
       "array([9, 4, 1, 9, 9, 3, 9, 9, 8, 8], dtype=int32)"
      ]
     },
     "execution_count": 62,
     "metadata": {},
     "output_type": "execute_result"
    }
   ],
   "source": [
    "data.ravel()"
   ]
  },
  {
   "cell_type": "code",
   "execution_count": 63,
   "id": "e8f7a03d-1d01-407c-b578-33913b7b9247",
   "metadata": {},
   "outputs": [
    {
     "data": {
      "text/plain": [
       "array([9, 4, 1, 9, 9, 3, 9, 9, 8, 8], dtype=int32)"
      ]
     },
     "execution_count": 63,
     "metadata": {},
     "output_type": "execute_result"
    }
   ],
   "source": [
    "data.flatten()"
   ]
  },
  {
   "cell_type": "code",
   "execution_count": 64,
   "id": "13769c39-36f5-4421-9182-d4f86d9afbc0",
   "metadata": {},
   "outputs": [],
   "source": [
    "sales = np.random.randint(10,100,10)"
   ]
  },
  {
   "cell_type": "code",
   "execution_count": 67,
   "id": "71fcc84c-e07e-4822-8d45-7b7ff2630997",
   "metadata": {},
   "outputs": [
    {
     "data": {
      "text/plain": [
       "array([86, 83, 55, 96, 88], dtype=int32)"
      ]
     },
     "execution_count": 67,
     "metadata": {},
     "output_type": "execute_result"
    }
   ],
   "source": [
    "sales[sales>50]"
   ]
  },
  {
   "cell_type": "code",
   "execution_count": 68,
   "id": "b73dcc38-db91-468b-be00-f584621f4343",
   "metadata": {},
   "outputs": [
    {
     "data": {
      "text/plain": [
       "5"
      ]
     },
     "execution_count": 68,
     "metadata": {},
     "output_type": "execute_result"
    }
   ],
   "source": [
    "len(sales[sales>50])"
   ]
  },
  {
   "cell_type": "code",
   "execution_count": 95,
   "id": "3d8e0144-b800-4f61-8aef-bf41e8ce6aef",
   "metadata": {},
   "outputs": [],
   "source": [
    "sales = np.random.randint(1,100,(10,5))"
   ]
  },
  {
   "cell_type": "code",
   "execution_count": 96,
   "id": "e566bd33-a9b2-437d-940e-082759fcec16",
   "metadata": {},
   "outputs": [
    {
     "data": {
      "text/plain": [
       "array([[72, 25, 53, 67,  5],\n",
       "       [50, 36, 55, 60, 51],\n",
       "       [67, 39, 77, 55,  6],\n",
       "       [52, 80, 96, 98, 19],\n",
       "       [47, 36, 13, 94, 15],\n",
       "       [85, 65,  1, 16, 77],\n",
       "       [55, 31, 52,  6, 17],\n",
       "       [96,  6, 97, 52, 66],\n",
       "       [31, 19, 66, 96, 25],\n",
       "       [35, 13, 48, 42, 40]], dtype=int32)"
      ]
     },
     "execution_count": 96,
     "metadata": {},
     "output_type": "execute_result"
    }
   ],
   "source": [
    "sales"
   ]
  },
  {
   "cell_type": "code",
   "execution_count": 120,
   "id": "8818e65b-48e0-4951-b8e6-bcb9b72739a7",
   "metadata": {},
   "outputs": [
    {
     "data": {
      "text/plain": [
       "array([72, 50, 67, 52, 47, 85, 55, 96, 31, 35], dtype=int32)"
      ]
     },
     "execution_count": 120,
     "metadata": {},
     "output_type": "execute_result"
    }
   ],
   "source": [
    "sales[:,0]"
   ]
  },
  {
   "cell_type": "code",
   "execution_count": 97,
   "id": "b88760eb-69b3-4519-817b-15e15cfc2a74",
   "metadata": {},
   "outputs": [
    {
     "data": {
      "text/plain": [
       "np.int64(222)"
      ]
     },
     "execution_count": 97,
     "metadata": {},
     "output_type": "execute_result"
    }
   ],
   "source": [
    "sales[0,].sum()"
   ]
  },
  {
   "cell_type": "code",
   "execution_count": 98,
   "id": "8fcf77b4-cef2-41c7-ab6f-2b5ce7d4a020",
   "metadata": {},
   "outputs": [
    {
     "data": {
      "text/plain": [
       "array([222, 252, 244, 345, 205, 244, 161, 317, 237, 178])"
      ]
     },
     "execution_count": 98,
     "metadata": {},
     "output_type": "execute_result"
    }
   ],
   "source": [
    "sales.sum(axis=1)"
   ]
  },
  {
   "cell_type": "code",
   "execution_count": 99,
   "id": "ba0c07d5-dc86-432e-850c-7b27b30c1190",
   "metadata": {},
   "outputs": [
    {
     "data": {
      "text/plain": [
       "array([0, 3, 2, 3, 3, 0, 0, 2, 3, 2])"
      ]
     },
     "execution_count": 99,
     "metadata": {},
     "output_type": "execute_result"
    }
   ],
   "source": [
    "sales.argmax(axis=1)"
   ]
  },
  {
   "cell_type": "code",
   "execution_count": 100,
   "id": "b3668c73-96b9-4efa-8747-d1053dbfea19",
   "metadata": {},
   "outputs": [
    {
     "data": {
      "text/plain": [
       "array([72, 50, 67, 52, 47, 85, 55, 96, 31, 35], dtype=int32)"
      ]
     },
     "execution_count": 100,
     "metadata": {},
     "output_type": "execute_result"
    }
   ],
   "source": [
    "sales[:,0]"
   ]
  },
  {
   "cell_type": "code",
   "execution_count": 105,
   "id": "2ec09203-2268-41ec-bd74-46b8b8403606",
   "metadata": {},
   "outputs": [
    {
     "data": {
      "text/plain": [
       "np.int64(8)"
      ]
     },
     "execution_count": 105,
     "metadata": {},
     "output_type": "execute_result"
    }
   ],
   "source": [
    "sales[:,0].argmax()+1"
   ]
  },
  {
   "cell_type": "code",
   "execution_count": 124,
   "id": "697a1dc1-eef4-4571-9b95-b5e6ccbf2ce7",
   "metadata": {},
   "outputs": [
    {
     "data": {
      "text/plain": [
       "array([59. , 35. , 55.8, 58.6, 32.1])"
      ]
     },
     "execution_count": 124,
     "metadata": {},
     "output_type": "execute_result"
    }
   ],
   "source": [
    "sales.mean(axis=0)"
   ]
  },
  {
   "cell_type": "code",
   "execution_count": 125,
   "id": "ebb42fa4-a80f-4260-b549-a3beca73cb7a",
   "metadata": {},
   "outputs": [
    {
     "data": {
      "text/plain": [
       "np.int64(1)"
      ]
     },
     "execution_count": 125,
     "metadata": {},
     "output_type": "execute_result"
    }
   ],
   "source": [
    "sales.mean(axis=0).argmax()+1"
   ]
  },
  {
   "cell_type": "code",
   "execution_count": 191,
   "id": "5a090812-a241-4932-8b0d-8c64ac38cae4",
   "metadata": {},
   "outputs": [],
   "source": [
    "sales = np.random.randint(1,100,(10,5))"
   ]
  },
  {
   "cell_type": "code",
   "execution_count": 192,
   "id": "5f03c3b0-c6fc-4167-8828-714bdeefd450",
   "metadata": {},
   "outputs": [
    {
     "data": {
      "text/plain": [
       "array([[21, 85, 34,  2, 20],\n",
       "       [83,  3, 37, 31, 55],\n",
       "       [11, 96, 54, 11, 98],\n",
       "       [46, 12, 92, 94, 19],\n",
       "       [24, 67, 65, 66, 89],\n",
       "       [56,  8, 98, 52, 56],\n",
       "       [52, 50, 94, 29, 74],\n",
       "       [52, 23, 76, 89, 23],\n",
       "       [39,  4, 11, 97, 63],\n",
       "       [47,  5, 13, 62, 83]], dtype=int32)"
      ]
     },
     "execution_count": 192,
     "metadata": {},
     "output_type": "execute_result"
    }
   ],
   "source": [
    "sales"
   ]
  },
  {
   "cell_type": "code",
   "execution_count": 193,
   "id": "a0a39fdd-c172-425c-8803-876fb1636dd3",
   "metadata": {},
   "outputs": [
    {
     "data": {
      "text/plain": [
       "array([34, 37, 54, 92, 65, 98, 94, 76, 11, 13], dtype=int32)"
      ]
     },
     "execution_count": 193,
     "metadata": {},
     "output_type": "execute_result"
    }
   ],
   "source": [
    "sales[:,2]"
   ]
  },
  {
   "cell_type": "code",
   "execution_count": 142,
   "id": "cb1e33b1-1d06-4ccb-901b-68d9b37e13ea",
   "metadata": {},
   "outputs": [
    {
     "data": {
      "text/plain": [
       "array([ 0.27272727,  0.4       ,  4.33333333,  0.58333333,  3.17241379,\n",
       "       10.55555556,  2.23076923,  0.91549296,  0.56818182,  1.33333333])"
      ]
     },
     "execution_count": 142,
     "metadata": {},
     "output_type": "execute_result"
    }
   ],
   "source": [
    "(sales[:,0]/sales[:,2])"
   ]
  },
  {
   "cell_type": "code",
   "execution_count": 141,
   "id": "212135aa-0788-4127-9e38-20d4983d4e50",
   "metadata": {},
   "outputs": [
    {
     "data": {
      "text/plain": [
       "array([ 0,  0,  4,  0,  3, 10,  2,  0,  0,  1])"
      ]
     },
     "execution_count": 141,
     "metadata": {},
     "output_type": "execute_result"
    }
   ],
   "source": [
    "(sales[:,0]/sales[:,2]).astype(int)"
   ]
  },
  {
   "cell_type": "code",
   "execution_count": 140,
   "id": "91be9c59-5145-491f-9182-4ee7bca89ce5",
   "metadata": {},
   "outputs": [
    {
     "data": {
      "text/plain": [
       "np.int64(6)"
      ]
     },
     "execution_count": 140,
     "metadata": {},
     "output_type": "execute_result"
    }
   ],
   "source": [
    "(sales[:,0]/sales[:,2]).argmax()+1"
   ]
  },
  {
   "cell_type": "code",
   "execution_count": 143,
   "id": "44ebb693-ef39-43ec-bcfa-695614f9776b",
   "metadata": {},
   "outputs": [
    {
     "data": {
      "text/plain": [
       "array([[ 3, 54, 11, 80, 51],\n",
       "       [14, 60, 35, 26, 40],\n",
       "       [91, 77, 21, 87, 89],\n",
       "       [42, 88, 72, 35, 34],\n",
       "       [92, 83, 29, 84, 54],\n",
       "       [95, 28,  9, 26, 27],\n",
       "       [87, 78, 39, 72, 31],\n",
       "       [65, 23, 71, 91, 74],\n",
       "       [25, 20, 44, 34, 37],\n",
       "       [24, 19, 18, 30, 98]], dtype=int32)"
      ]
     },
     "execution_count": 143,
     "metadata": {},
     "output_type": "execute_result"
    }
   ],
   "source": [
    "sales"
   ]
  },
  {
   "cell_type": "code",
   "execution_count": 194,
   "id": "0e5006a8-c5a2-4ef2-a007-978b16712b17",
   "metadata": {},
   "outputs": [],
   "source": [
    "y = np.random.randint(0,2,(10,1))"
   ]
  },
  {
   "cell_type": "code",
   "execution_count": 195,
   "id": "8b53d2a9-2882-4fd6-9cd8-2034453f0c49",
   "metadata": {},
   "outputs": [
    {
     "data": {
      "text/plain": [
       "array([[1],\n",
       "       [1],\n",
       "       [0],\n",
       "       [1],\n",
       "       [1],\n",
       "       [1],\n",
       "       [0],\n",
       "       [1],\n",
       "       [0],\n",
       "       [0]], dtype=int32)"
      ]
     },
     "execution_count": 195,
     "metadata": {},
     "output_type": "execute_result"
    }
   ],
   "source": [
    "y"
   ]
  },
  {
   "cell_type": "code",
   "execution_count": null,
   "id": "7d1ff18c-2689-4a64-97d9-d701d87a3dc2",
   "metadata": {},
   "outputs": [],
   "source": []
  },
  {
   "cell_type": "code",
   "execution_count": null,
   "id": "71383be8-8c97-4202-9513-a4c68a3f07a1",
   "metadata": {},
   "outputs": [],
   "source": []
  },
  {
   "cell_type": "code",
   "execution_count": 196,
   "id": "f8dac0cf-782d-4cf6-b2a1-ca9015737ffc",
   "metadata": {},
   "outputs": [],
   "source": [
    "sales = np.append(sales, y, axis=1)"
   ]
  },
  {
   "cell_type": "code",
   "execution_count": 187,
   "id": "51f56218-7dbd-4522-9705-0647ae741b97",
   "metadata": {},
   "outputs": [],
   "source": []
  },
  {
   "cell_type": "code",
   "execution_count": 197,
   "id": "467ca91e-42de-4163-ad03-d04842ce1962",
   "metadata": {},
   "outputs": [
    {
     "data": {
      "text/plain": [
       "array([[21, 85, 34,  2, 20,  1],\n",
       "       [83,  3, 37, 31, 55,  1],\n",
       "       [11, 96, 54, 11, 98,  0],\n",
       "       [46, 12, 92, 94, 19,  1],\n",
       "       [24, 67, 65, 66, 89,  1],\n",
       "       [56,  8, 98, 52, 56,  1],\n",
       "       [52, 50, 94, 29, 74,  0],\n",
       "       [52, 23, 76, 89, 23,  1],\n",
       "       [39,  4, 11, 97, 63,  0],\n",
       "       [47,  5, 13, 62, 83,  0]], dtype=int32)"
      ]
     },
     "execution_count": 197,
     "metadata": {},
     "output_type": "execute_result"
    }
   ],
   "source": [
    "sales"
   ]
  },
  {
   "cell_type": "code",
   "execution_count": 206,
   "id": "22a40489-d6a8-4758-a8b9-fa90f15ba113",
   "metadata": {},
   "outputs": [
    {
     "data": {
      "text/plain": [
       "array([[83,  3, 37, 31, 55,  1],\n",
       "       [83,  3, 37, 31, 55,  1],\n",
       "       [21, 85, 34,  2, 20,  1],\n",
       "       [83,  3, 37, 31, 55,  1],\n",
       "       [83,  3, 37, 31, 55,  1],\n",
       "       [83,  3, 37, 31, 55,  1],\n",
       "       [21, 85, 34,  2, 20,  1],\n",
       "       [83,  3, 37, 31, 55,  1],\n",
       "       [21, 85, 34,  2, 20,  1],\n",
       "       [21, 85, 34,  2, 20,  1]], dtype=int32)"
      ]
     },
     "execution_count": 206,
     "metadata": {},
     "output_type": "execute_result"
    }
   ],
   "source": [
    "sales[sales[:,-1]]"
   ]
  },
  {
   "cell_type": "code",
   "execution_count": 207,
   "id": "bda24c88-c02a-4bbe-bf5e-6e91d4d5b006",
   "metadata": {},
   "outputs": [
    {
     "data": {
      "text/plain": [
       "array([[83,  3, 37, 31, 55,  1],\n",
       "       [83,  3, 37, 31, 55,  1],\n",
       "       [21, 85, 34,  2, 20,  1],\n",
       "       [83,  3, 37, 31, 55,  1],\n",
       "       [83,  3, 37, 31, 55,  1],\n",
       "       [83,  3, 37, 31, 55,  1],\n",
       "       [21, 85, 34,  2, 20,  1],\n",
       "       [83,  3, 37, 31, 55,  1],\n",
       "       [21, 85, 34,  2, 20,  1],\n",
       "       [21, 85, 34,  2, 20,  1]], dtype=int32)"
      ]
     },
     "execution_count": 207,
     "metadata": {},
     "output_type": "execute_result"
    }
   ],
   "source": [
    "sales[sales[:,-1]]"
   ]
  },
  {
   "cell_type": "code",
   "execution_count": 201,
   "id": "7ac49ad3-a724-4ae0-a3aa-287440845918",
   "metadata": {},
   "outputs": [
    {
     "data": {
      "text/plain": [
       "np.int64(1484)"
      ]
     },
     "execution_count": 201,
     "metadata": {},
     "output_type": "execute_result"
    }
   ],
   "source": [
    "sales[sales[:,-1]==1].sum()"
   ]
  },
  {
   "cell_type": "code",
   "execution_count": 202,
   "id": "227e82c2-e068-4863-b6b1-8b819a8fbf90",
   "metadata": {},
   "outputs": [
    {
     "data": {
      "text/plain": [
       "np.int64(993)"
      ]
     },
     "execution_count": 202,
     "metadata": {},
     "output_type": "execute_result"
    }
   ],
   "source": [
    "sales[sales[:,-1]==0].sum()"
   ]
  },
  {
   "cell_type": "code",
   "execution_count": 204,
   "id": "cc12514f-0359-4ad8-b8b3-aa3a6c1f8b6d",
   "metadata": {},
   "outputs": [
    {
     "name": "stdout",
     "output_type": "stream",
     "text": [
      "sales with drive through\n"
     ]
    }
   ],
   "source": [
    "if sales[sales[:,-1]==1].sum() > sales[sales[:,-1]==0].sum():\n",
    "    print('sales with drive through')\n",
    "else:\n",
    "    print('with out drive through')"
   ]
  },
  {
   "cell_type": "code",
   "execution_count": 208,
   "id": "b4d4792b-2fd0-4730-8308-5e5eed1f6b9c",
   "metadata": {},
   "outputs": [
    {
     "data": {
      "text/plain": [
       "array([[2.03711596e-312, 2.33419537e-313, 4.84184333e-322,\n",
       "        1.06099790e-312],\n",
       "       [6.15378780e-313, 3.65608578e-322, 8.48798318e-314,\n",
       "        2.05833592e-312],\n",
       "       [3.11261357e-322, 1.06099790e-313, 1.31563739e-312,\n",
       "        4.10074486e-322]])"
      ]
     },
     "execution_count": 208,
     "metadata": {},
     "output_type": "execute_result"
    }
   ],
   "source": [
    "empty = np.empty((3,4))\n",
    "empty"
   ]
  },
  {
   "cell_type": "code",
   "execution_count": 210,
   "id": "462dd1f3-57a4-432d-88e9-a4b5c3633691",
   "metadata": {},
   "outputs": [
    {
     "data": {
      "text/plain": [
       "array([[6, 6, 6],\n",
       "       [6, 6, 6],\n",
       "       [6, 6, 6]])"
      ]
     },
     "execution_count": 210,
     "metadata": {},
     "output_type": "execute_result"
    }
   ],
   "source": [
    "full_array = np.full((3, 3), 6)\n",
    "full_array"
   ]
  },
  {
   "cell_type": "code",
   "execution_count": 213,
   "id": "3847406e-b893-4694-9948-2a823829cc67",
   "metadata": {},
   "outputs": [
    {
     "name": "stdout",
     "output_type": "stream",
     "text": [
      "[[0. 0. 0.]\n",
      " [0. 0. 0.]\n",
      " [0. 0. 0.]]\n",
      "[[1. 1. 1.]\n",
      " [1. 1. 1.]\n",
      " [1. 1. 1.]]\n"
     ]
    }
   ],
   "source": [
    "print(np.zeros((3,3)))\n",
    "print(np.ones((3,3)))"
   ]
  },
  {
   "cell_type": "code",
   "execution_count": 214,
   "id": "5dabaa8a-d684-42a4-b89c-6481f05e9c00",
   "metadata": {},
   "outputs": [
    {
     "data": {
      "text/plain": [
       "array([[4, 8, 7],\n",
       "       [3, 7, 3],\n",
       "       [4, 7, 9]], dtype=int32)"
      ]
     },
     "execution_count": 214,
     "metadata": {},
     "output_type": "execute_result"
    }
   ],
   "source": [
    "tolist = np.random.randint(1,10,(3,3))\n",
    "tolist"
   ]
  },
  {
   "cell_type": "code",
   "execution_count": 215,
   "id": "eefe7ef1-ae33-4bd3-ad1e-95adb6d682c3",
   "metadata": {},
   "outputs": [
    {
     "data": {
      "text/plain": [
       "[[4, 8, 7], [3, 7, 3], [4, 7, 9]]"
      ]
     },
     "execution_count": 215,
     "metadata": {},
     "output_type": "execute_result"
    }
   ],
   "source": [
    "tolist.tolist()"
   ]
  },
  {
   "cell_type": "code",
   "execution_count": 234,
   "id": "722c723b-9816-4b4b-9481-526257d68242",
   "metadata": {},
   "outputs": [
    {
     "data": {
      "text/plain": [
       "array([[10.5, 22.5,  3.8],\n",
       "       [41. ,  nan,  nan]])"
      ]
     },
     "execution_count": 234,
     "metadata": {},
     "output_type": "execute_result"
    }
   ],
   "source": [
    "n_arr = np.array([[10.5, 22.5, 3.8],[41, np.nan, np.nan]])\n",
    "#n_arr = np.array([[10.5, 22.5, 3.8],[41, np.nan, np.nan]])\n",
    "n_arr"
   ]
  },
  {
   "cell_type": "code",
   "execution_count": 235,
   "id": "f8be6ad7-783c-4103-bd84-40434e7eb279",
   "metadata": {},
   "outputs": [
    {
     "name": "stdout",
     "output_type": "stream",
     "text": [
      "[[10.5 22.5  3.8]]\n"
     ]
    }
   ],
   "source": [
    "cleaned_arr = n_arr[~np.isnan(n_arr).any(axis=1)]\n",
    "#n_arr\n",
    "\n",
    "print(n_arr[~np.isnan(n_arr).any(axis=1),:])"
   ]
  },
  {
   "cell_type": "code",
   "execution_count": 231,
   "id": "36715f38-9ddd-4528-aab0-019051ded566",
   "metadata": {},
   "outputs": [
    {
     "name": "stdout",
     "output_type": "stream",
     "text": [
      "[[10.5]\n",
      " [41. ]]\n"
     ]
    }
   ],
   "source": [
    "print(n_arr[:, ~np.isnan(n_arr).any(axis=0)]) "
   ]
  },
  {
   "cell_type": "code",
   "execution_count": 236,
   "id": "bf099b8f-b74a-406f-a525-5330607d71c7",
   "metadata": {},
   "outputs": [
    {
     "data": {
      "text/plain": [
       "array([[5, 7, 7, 1],\n",
       "       [7, 5, 5, 5],\n",
       "       [3, 7, 8, 2]], dtype=int32)"
      ]
     },
     "execution_count": 236,
     "metadata": {},
     "output_type": "execute_result"
    }
   ],
   "source": [
    "shape_arr = np.random.randint(0,10,(3,4))\n",
    "shape_arr"
   ]
  },
  {
   "cell_type": "code",
   "execution_count": 237,
   "id": "9f2a564d-bfff-41bd-95f8-f3bc98fd6328",
   "metadata": {},
   "outputs": [
    {
     "name": "stdout",
     "output_type": "stream",
     "text": [
      "(3, 4)\n"
     ]
    }
   ],
   "source": [
    "print(shape_arr.shape)"
   ]
  },
  {
   "cell_type": "code",
   "execution_count": 241,
   "id": "ae4caee2-398b-4dd3-a364-ffcbfcc61e43",
   "metadata": {},
   "outputs": [
    {
     "name": "stdout",
     "output_type": "stream",
     "text": [
      "(3, 4)\n"
     ]
    }
   ],
   "source": [
    "print(np.squeeze(shape_arr).shape)"
   ]
  },
  {
   "cell_type": "code",
   "execution_count": 7,
   "id": "f5e62a44-5352-4de0-a63a-765ba5d4a854",
   "metadata": {},
   "outputs": [
    {
     "name": "stdout",
     "output_type": "stream",
     "text": [
      "[0 2 4 6 8]\n"
     ]
    }
   ],
   "source": [
    "print(np.arange(0,10,2))"
   ]
  },
  {
   "cell_type": "code",
   "execution_count": 26,
   "id": "c13742b3-4073-438e-8b17-560144c7da0a",
   "metadata": {},
   "outputs": [],
   "source": [
    "x = np.arange(9).reshape(1,3,3)\n",
    "y = np.arange(9).reshape(3,3)"
   ]
  },
  {
   "cell_type": "code",
   "execution_count": 30,
   "id": "91f45f2b-4ee9-4b9d-81b1-002e830b06a7",
   "metadata": {},
   "outputs": [
    {
     "data": {
      "text/plain": [
       "array([[[0, 1, 2],\n",
       "        [3, 4, 5],\n",
       "        [6, 7, 8]]])"
      ]
     },
     "execution_count": 30,
     "metadata": {},
     "output_type": "execute_result"
    }
   ],
   "source": [
    "x\n",
    "#y"
   ]
  },
  {
   "cell_type": "code",
   "execution_count": 36,
   "id": "24d65b0a-60e7-41a4-925d-f8a7ba79a0cd",
   "metadata": {},
   "outputs": [
    {
     "ename": "ValueError",
     "evalue": "cannot select an axis to squeeze out which has size not equal to one",
     "output_type": "error",
     "traceback": [
      "\u001b[1;31m---------------------------------------------------------------------------\u001b[0m",
      "\u001b[1;31mValueError\u001b[0m                                Traceback (most recent call last)",
      "Cell \u001b[1;32mIn[36], line 2\u001b[0m\n\u001b[0;32m      1\u001b[0m in_arr \u001b[38;5;241m=\u001b[39m np\u001b[38;5;241m.\u001b[39marange(\u001b[38;5;241m12\u001b[39m)\u001b[38;5;241m.\u001b[39mreshape(\u001b[38;5;241m2\u001b[39m, \u001b[38;5;241m3\u001b[39m, \u001b[38;5;241m2\u001b[39m) \n\u001b[1;32m----> 2\u001b[0m out_arr \u001b[38;5;241m=\u001b[39m \u001b[43mnp\u001b[49m\u001b[38;5;241;43m.\u001b[39;49m\u001b[43msqueeze\u001b[49m\u001b[43m(\u001b[49m\u001b[43min_arr\u001b[49m\u001b[43m,\u001b[49m\u001b[43m \u001b[49m\u001b[43maxis\u001b[49m\u001b[43m \u001b[49m\u001b[38;5;241;43m=\u001b[39;49m\u001b[43m \u001b[49m\u001b[38;5;241;43m1\u001b[39;49m\u001b[43m)\u001b[49m \n",
      "File \u001b[1;32m~\\AppData\\Roaming\\Python\\Python313\\site-packages\\numpy\\_core\\fromnumeric.py:1688\u001b[0m, in \u001b[0;36msqueeze\u001b[1;34m(a, axis)\u001b[0m\n\u001b[0;32m   1686\u001b[0m     \u001b[38;5;28;01mreturn\u001b[39;00m squeeze()\n\u001b[0;32m   1687\u001b[0m \u001b[38;5;28;01melse\u001b[39;00m:\n\u001b[1;32m-> 1688\u001b[0m     \u001b[38;5;28;01mreturn\u001b[39;00m \u001b[43msqueeze\u001b[49m\u001b[43m(\u001b[49m\u001b[43maxis\u001b[49m\u001b[38;5;241;43m=\u001b[39;49m\u001b[43maxis\u001b[49m\u001b[43m)\u001b[49m\n",
      "\u001b[1;31mValueError\u001b[0m: cannot select an axis to squeeze out which has size not equal to one"
     ]
    }
   ],
   "source": [
    "in_arr = np.arange(12).reshape(2, 3, 2) \n",
    "+"
   ]
  },
  {
   "cell_type": "code",
   "execution_count": 41,
   "id": "4d713390-d73d-4b40-9961-daf4122605f8",
   "metadata": {},
   "outputs": [
    {
     "data": {
      "text/plain": [
       "array([[9, 4, 9, 4],\n",
       "       [9, 4, 9, 4],\n",
       "       [4, 5, 9, 7],\n",
       "       [2, 9, 4, 3]])"
      ]
     },
     "execution_count": 41,
     "metadata": {},
     "output_type": "execute_result"
    }
   ],
   "source": [
    "arr = np.array([[9, 4, 9, 4],  \n",
    "                   [9, 4, 9, 4], \n",
    "                   [4, 4, 9, 7], \n",
    "                   [4, 9, 4, 3]]) \n",
    "arr"
   ]
  },
  {
   "cell_type": "code",
   "execution_count": 43,
   "id": "bf27096f-881d-4dc2-8191-52393bfae4ca",
   "metadata": {},
   "outputs": [
    {
     "data": {
      "text/plain": [
       "'array([[9, 4, 9, 4],\\n       [9, 4, 9, 4],\\n       [4, 5, 9, 7],\\n       [2, 9, 4, 3]])'"
      ]
     },
     "execution_count": 43,
     "metadata": {},
     "output_type": "execute_result"
    }
   ],
   "source": [
    "repr(arr).count(\"9, 4\") "
   ]
  },
  {
   "cell_type": "code",
   "execution_count": 66,
   "id": "180470c0-a424-476a-b58b-ab6020f7d6d7",
   "metadata": {},
   "outputs": [
    {
     "ename": "ValueError",
     "evalue": "object too deep for desired array",
     "output_type": "error",
     "traceback": [
      "\u001b[1;31m---------------------------------------------------------------------------\u001b[0m",
      "\u001b[1;31mValueError\u001b[0m                                Traceback (most recent call last)",
      "Cell \u001b[1;32mIn[66], line 2\u001b[0m\n\u001b[0;32m      1\u001b[0m arr\u001b[38;5;241m.\u001b[39mflatten()\n\u001b[1;32m----> 2\u001b[0m \u001b[43mnp\u001b[49m\u001b[38;5;241;43m.\u001b[39;49m\u001b[43mbincount\u001b[49m\u001b[43m(\u001b[49m\u001b[43marr\u001b[49m\u001b[43m)\u001b[49m\u001b[38;5;241m.\u001b[39margmax()\n",
      "\u001b[1;31mValueError\u001b[0m: object too deep for desired array"
     ]
    }
   ],
   "source": [
    "arr.flatten()\n",
    "np.bincount(arr).argmax()"
   ]
  },
  {
   "cell_type": "code",
   "execution_count": 51,
   "id": "38b9a423-b0e4-4d50-9ed9-1a9be0688064",
   "metadata": {},
   "outputs": [
    {
     "name": "stdout",
     "output_type": "stream",
     "text": [
      "ele:6\n"
     ]
    }
   ],
   "source": [
    "ele = 4\n",
    "count = 0\n",
    "for i in arr.flatten():\n",
    "    if i == 4:\n",
    "        count += 1\n",
    "print(\"ele:\"+ str(count))"
   ]
  },
  {
   "cell_type": "code",
   "execution_count": 52,
   "id": "f7386a1e-0949-41e5-b306-bd18282603d5",
   "metadata": {},
   "outputs": [],
   "source": [
    "c = np.count_nonzero(arr == 4)"
   ]
  },
  {
   "cell_type": "code",
   "execution_count": 53,
   "id": "be13b977-1d8b-49cb-b93c-e33af95cc69b",
   "metadata": {},
   "outputs": [
    {
     "data": {
      "text/plain": [
       "6"
      ]
     },
     "execution_count": 53,
     "metadata": {},
     "output_type": "execute_result"
    }
   ],
   "source": [
    "c"
   ]
  },
  {
   "cell_type": "code",
   "execution_count": 56,
   "id": "03241848-a1c2-448f-94da-fda10e56bfe5",
   "metadata": {},
   "outputs": [],
   "source": [
    "count = (arr == 4)"
   ]
  },
  {
   "cell_type": "code",
   "execution_count": 63,
   "id": "5900a4ae-f199-451c-8dcb-639ef73ef784",
   "metadata": {},
   "outputs": [],
   "source": [
    "count = arr.tolist().count(4)"
   ]
  },
  {
   "cell_type": "code",
   "execution_count": 64,
   "id": "da4bc269-8a47-4e6d-9f1e-107ee0e2a21f",
   "metadata": {},
   "outputs": [
    {
     "data": {
      "text/plain": [
       "0"
      ]
     },
     "execution_count": 64,
     "metadata": {},
     "output_type": "execute_result"
    }
   ],
   "source": [
    "count"
   ]
  },
  {
   "cell_type": "code",
   "execution_count": 76,
   "id": "45920081-a659-4813-84ad-364f2feccd29",
   "metadata": {},
   "outputs": [
    {
     "data": {
      "text/plain": [
       "array([[1., 1.],\n",
       "       [1., 1.]])"
      ]
     },
     "execution_count": 76,
     "metadata": {},
     "output_type": "execute_result"
    }
   ],
   "source": [
    "array = np.ones((2, 2)) \n",
    "array"
   ]
  },
  {
   "cell_type": "code",
   "execution_count": 77,
   "id": "62a953f2-b084-4b4e-8186-dc69e14f7181",
   "metadata": {},
   "outputs": [
    {
     "data": {
      "text/plain": [
       "array([[2., 2., 2., 2.],\n",
       "       [2., 1., 1., 2.],\n",
       "       [2., 1., 1., 2.],\n",
       "       [2., 2., 2., 2.]])"
      ]
     },
     "execution_count": 77,
     "metadata": {},
     "output_type": "execute_result"
    }
   ],
   "source": [
    "#array = np.pad(array, pad_width=1, mode='constant', constant_value=0)\n",
    "array = np.pad(array, pad_width=1, mode='constant', constant_values=2)\n",
    "array"
   ]
  },
  {
   "cell_type": "code",
   "execution_count": 78,
   "id": "6f44979a-41b6-495c-bdc1-31e2bcf82a9e",
   "metadata": {},
   "outputs": [
    {
     "data": {
      "text/plain": [
       "array([[9, 8],\n",
       "       [9, 7]], dtype=int32)"
      ]
     },
     "execution_count": 78,
     "metadata": {},
     "output_type": "execute_result"
    }
   ],
   "source": [
    "arr = np.random.randint(1,10,(2,2))\n",
    "arr"
   ]
  },
  {
   "cell_type": "code",
   "execution_count": 79,
   "id": "1b712934-5f6b-4be9-9b5f-31cf5d649c66",
   "metadata": {},
   "outputs": [],
   "source": [
    "y = np.flip(arr)"
   ]
  },
  {
   "cell_type": "code",
   "execution_count": 80,
   "id": "b3ac636a-f301-4e9f-96b2-0142f34b8a76",
   "metadata": {},
   "outputs": [
    {
     "data": {
      "text/plain": [
       "array([[7, 9],\n",
       "       [8, 9]], dtype=int32)"
      ]
     },
     "execution_count": 80,
     "metadata": {},
     "output_type": "execute_result"
    }
   ],
   "source": [
    "y"
   ]
  },
  {
   "cell_type": "code",
   "execution_count": 84,
   "id": "9c11ecd9-1faf-4869-ad47-276556c08e25",
   "metadata": {},
   "outputs": [
    {
     "data": {
      "text/plain": [
       "array([[4, 9, 5, 6],\n",
       "       [7, 1, 2, 9],\n",
       "       [2, 5, 2, 2]], dtype=int32)"
      ]
     },
     "execution_count": 84,
     "metadata": {},
     "output_type": "execute_result"
    }
   ],
   "source": [
    "arr = np.random.randint(1,10,(3,4))\n",
    "arr"
   ]
  },
  {
   "cell_type": "code",
   "execution_count": 85,
   "id": "b19f68cd-47ca-4461-9c0b-caa6b42f42ed",
   "metadata": {},
   "outputs": [
    {
     "data": {
      "text/plain": [
       "array([[4, 9, 5],\n",
       "       [6, 7, 1],\n",
       "       [2, 9, 2],\n",
       "       [5, 2, 2]], dtype=int32)"
      ]
     },
     "execution_count": 85,
     "metadata": {},
     "output_type": "execute_result"
    }
   ],
   "source": [
    "arr.reshape(4,3)"
   ]
  },
  {
   "cell_type": "code",
   "execution_count": 87,
   "id": "a1fb269d-b49d-4b62-b498-07dc246437a1",
   "metadata": {},
   "outputs": [
    {
     "data": {
      "text/plain": [
       "(3, 4)"
      ]
     },
     "execution_count": 87,
     "metadata": {},
     "output_type": "execute_result"
    }
   ],
   "source": [
    "np.shape(arr)"
   ]
  },
  {
   "cell_type": "code",
   "execution_count": 98,
   "id": "c7dee9a4-4851-45c9-b091-b68009123ea5",
   "metadata": {},
   "outputs": [
    {
     "data": {
      "text/plain": [
       "array([[9, 4, 3, 8],\n",
       "       [6, 9, 6, 7],\n",
       "       [4, 5, 5, 2]], dtype=int32)"
      ]
     },
     "execution_count": 98,
     "metadata": {},
     "output_type": "execute_result"
    }
   ],
   "source": [
    "arr = np.random.randint(1,10,(3,4))\n",
    "arr"
   ]
  },
  {
   "cell_type": "code",
   "execution_count": 99,
   "id": "eb35f2d9-c025-4ba6-b5f3-aca3046913c2",
   "metadata": {},
   "outputs": [
    {
     "data": {
      "text/plain": [
       "array([9, 4, 3, 8, 6, 9, 6, 7, 4, 5, 5, 2], dtype=int32)"
      ]
     },
     "execution_count": 99,
     "metadata": {},
     "output_type": "execute_result"
    }
   ],
   "source": [
    "y=arr.ravel()\n",
    "y"
   ]
  },
  {
   "cell_type": "code",
   "execution_count": 102,
   "id": "a8484a0b-5543-4f3c-91ae-2f1d20796002",
   "metadata": {},
   "outputs": [
    {
     "data": {
      "text/plain": [
       "array([9, 4, 3, 8, 6, 9, 6, 7, 4, 5, 5, 2], dtype=int32)"
      ]
     },
     "execution_count": 102,
     "metadata": {},
     "output_type": "execute_result"
    }
   ],
   "source": [
    "x= arr.flatten()\n",
    "x"
   ]
  },
  {
   "cell_type": "code",
   "execution_count": 105,
   "id": "f17533ee-be92-4719-b3f4-510e6fb1f2a3",
   "metadata": {},
   "outputs": [
    {
     "data": {
      "text/plain": [
       "array([200,   4,   3,   8,   6,   9,   6,   7,   4,   5,   5,   2],\n",
       "      dtype=int32)"
      ]
     },
     "execution_count": 105,
     "metadata": {},
     "output_type": "execute_result"
    }
   ],
   "source": [
    "x[0] = 200\n",
    "x"
   ]
  },
  {
   "cell_type": "code",
   "execution_count": 107,
   "id": "28ae939a-5c01-4d46-8453-632fa1910f44",
   "metadata": {},
   "outputs": [
    {
     "data": {
      "text/plain": [
       "array([[9, 4, 3, 8],\n",
       "       [6, 9, 6, 7],\n",
       "       [4, 5, 5, 2]], dtype=int32)"
      ]
     },
     "execution_count": 107,
     "metadata": {},
     "output_type": "execute_result"
    }
   ],
   "source": [
    "arr"
   ]
  },
  {
   "cell_type": "code",
   "execution_count": 104,
   "id": "839203ba-23e5-4d61-8598-6a94c6751bb8",
   "metadata": {},
   "outputs": [
    {
     "data": {
      "text/plain": [
       "array([9, 4, 3, 8, 6, 9, 6, 7, 4, 5, 5, 2], dtype=int32)"
      ]
     },
     "execution_count": 104,
     "metadata": {},
     "output_type": "execute_result"
    }
   ],
   "source": [
    "y"
   ]
  },
  {
   "cell_type": "code",
   "execution_count": 108,
   "id": "9476ed84-a685-4ca2-bed5-efa5a9824f05",
   "metadata": {},
   "outputs": [
    {
     "data": {
      "text/plain": [
       "array([[1, 2, 3, 4],\n",
       "       [3, 1, 4, 2]])"
      ]
     },
     "execution_count": 108,
     "metadata": {},
     "output_type": "execute_result"
    }
   ],
   "source": [
    "a = np.array([(1,2,3,4),(3,1,4,2)])\n",
    "a"
   ]
  },
  {
   "cell_type": "code",
   "execution_count": 109,
   "id": "4a659e20-90af-4683-b0a7-1ea3915438bc",
   "metadata": {},
   "outputs": [
    {
     "data": {
      "text/plain": [
       "array([1, 2, 3, 4, 3, 1, 4, 2])"
      ]
     },
     "execution_count": 109,
     "metadata": {},
     "output_type": "execute_result"
    }
   ],
   "source": [
    "ra = np.ravel(a)\n",
    "ra"
   ]
  },
  {
   "cell_type": "code",
   "execution_count": 110,
   "id": "a02ff575-d4b5-4a13-b8b2-10fe536012bb",
   "metadata": {},
   "outputs": [],
   "source": [
    "ra[3] = 44"
   ]
  },
  {
   "cell_type": "code",
   "execution_count": 111,
   "id": "22b292e2-4f6c-4f42-a065-3e230b0581b5",
   "metadata": {},
   "outputs": [
    {
     "data": {
      "text/plain": [
       "array([ 1,  2,  3, 44,  3,  1,  4,  2])"
      ]
     },
     "execution_count": 111,
     "metadata": {},
     "output_type": "execute_result"
    }
   ],
   "source": [
    "ra"
   ]
  },
  {
   "cell_type": "code",
   "execution_count": 112,
   "id": "33267e88-d294-4059-b859-abd5e215d560",
   "metadata": {},
   "outputs": [
    {
     "data": {
      "text/plain": [
       "array([[ 1,  2,  3, 44],\n",
       "       [ 3,  1,  4,  2]])"
      ]
     },
     "execution_count": 112,
     "metadata": {},
     "output_type": "execute_result"
    }
   ],
   "source": [
    "a"
   ]
  },
  {
   "cell_type": "code",
   "execution_count": 113,
   "id": "551d0ecd-01d7-4e66-9b0d-f915c855c3b4",
   "metadata": {},
   "outputs": [
    {
     "data": {
      "text/plain": [
       "array([[1, 2, 3, 4],\n",
       "       [3, 1, 4, 2]])"
      ]
     },
     "execution_count": 113,
     "metadata": {},
     "output_type": "execute_result"
    }
   ],
   "source": [
    "a = np.array([(1,2,3,4),(3,1,4,2)])\n",
    "a"
   ]
  },
  {
   "cell_type": "code",
   "execution_count": 114,
   "id": "1e96d37d-9bed-43a8-9e4d-8c1712098021",
   "metadata": {},
   "outputs": [
    {
     "data": {
      "text/plain": [
       "array([1, 2, 3, 4, 3, 1, 4, 2])"
      ]
     },
     "execution_count": 114,
     "metadata": {},
     "output_type": "execute_result"
    }
   ],
   "source": [
    "c = a.flatten()\n",
    "c"
   ]
  },
  {
   "cell_type": "code",
   "execution_count": 115,
   "id": "e5fc9e71-d7d9-4caa-a3c2-c20dfa6967b3",
   "metadata": {},
   "outputs": [
    {
     "data": {
      "text/plain": [
       "array([ 1,  2,  3, 40,  3,  1,  4,  2])"
      ]
     },
     "execution_count": 115,
     "metadata": {},
     "output_type": "execute_result"
    }
   ],
   "source": [
    "c[3] = 40\n",
    "c"
   ]
  },
  {
   "cell_type": "code",
   "execution_count": 116,
   "id": "fbf8b033-c43d-40b8-b6b7-fd0add2ca880",
   "metadata": {},
   "outputs": [
    {
     "data": {
      "text/plain": [
       "array([[1, 2, 3, 4],\n",
       "       [3, 1, 4, 2]])"
      ]
     },
     "execution_count": 116,
     "metadata": {},
     "output_type": "execute_result"
    }
   ],
   "source": [
    "a"
   ]
  },
  {
   "cell_type": "code",
   "execution_count": null,
   "id": "2d8d3b68-57fa-4a60-8f1c-8dfe26fa2a10",
   "metadata": {},
   "outputs": [],
   "source": []
  }
 ],
 "metadata": {
  "kernelspec": {
   "display_name": "Python 3 (ipykernel)",
   "language": "python",
   "name": "python3"
  },
  "language_info": {
   "codemirror_mode": {
    "name": "ipython",
    "version": 3
   },
   "file_extension": ".py",
   "mimetype": "text/x-python",
   "name": "python",
   "nbconvert_exporter": "python",
   "pygments_lexer": "ipython3",
   "version": "3.13.1"
  }
 },
 "nbformat": 4,
 "nbformat_minor": 5
}
