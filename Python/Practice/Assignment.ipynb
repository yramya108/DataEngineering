{
 "cells": [
  {
   "cell_type": "code",
   "execution_count": 2,
   "id": "99a70abc-f138-419b-8092-f2659d588bdc",
   "metadata": {},
   "outputs": [],
   "source": [
    "retail_inventory = {\n",
    "    \"Electronics\": {\n",
    "        \"Laptop\": [55000, 30, \"Dell\"],\n",
    "        \"Mobile\": [25000, 50, \"Samsung\"],\n",
    "        \"Tablet\": [18000, 20, \"Lenovo\"],\n",
    "        \"Smart Watch\": [7999, 40, \"Noise\"]\n",
    "    },\n",
    "    \"Apparel\": {\n",
    "        \"T-Shirt\": [499, 100, \"H&M\"],\n",
    "        \"Jeans\": [1199, 60, \"Levi's\"],\n",
    "        \"Jacket\": [2499, 25, \"Puma\"]\n",
    "    },\n",
    "    \"Home Appliances\": {\n",
    "        \"Microwave\": [8500, 15, \"LG\"],\n",
    "        \"Vacuum Cleaner\": [7000, 10, \"Philips\"],\n",
    "        \"Refrigerator\": [30000, 8, \"Samsung\"]\n",
    "    }\n",
    "}"
   ]
  },
  {
   "cell_type": "code",
   "execution_count": 3,
   "id": "df826af4-f3f3-409c-8ed4-5ec5fb815d54",
   "metadata": {},
   "outputs": [
    {
     "data": {
      "text/plain": [
       "dict_keys(['Electronics', 'Apparel', 'Home Appliances'])"
      ]
     },
     "execution_count": 3,
     "metadata": {},
     "output_type": "execute_result"
    }
   ],
   "source": [
    "retail_inventory.keys()"
   ]
  },
  {
   "cell_type": "code",
   "execution_count": 5,
   "id": "3293e65f-268b-47ae-820c-ec249b77e038",
   "metadata": {},
   "outputs": [
    {
     "data": {
      "text/plain": [
       "dict_values([{'Laptop': [55000, 30, 'Dell'], 'Mobile': [25000, 50, 'Samsung'], 'Tablet': [18000, 20, 'Lenovo'], 'Smart Watch': [7999, 40, 'Noise']}, {'T-Shirt': [499, 100, 'H&M'], 'Jeans': [1199, 60, \"Levi's\"], 'Jacket': [2499, 25, 'Puma']}, {'Microwave': [8500, 15, 'LG'], 'Vacuum Cleaner': [7000, 10, 'Philips'], 'Refrigerator': [30000, 8, 'Samsung']}])"
      ]
     },
     "execution_count": 5,
     "metadata": {},
     "output_type": "execute_result"
    }
   ],
   "source": [
    "retail_inventory.values()"
   ]
  },
  {
   "cell_type": "code",
   "execution_count": 8,
   "id": "2e2350a9-b7db-437d-be74-ceeba2102280",
   "metadata": {},
   "outputs": [
    {
     "data": {
      "text/plain": [
       "{'Laptop': [55000, 30, 'Dell'],\n",
       " 'Mobile': [25000, 50, 'Samsung'],\n",
       " 'Tablet': [18000, 20, 'Lenovo'],\n",
       " 'Smart Watch': [7999, 40, 'Noise']}"
      ]
     },
     "execution_count": 8,
     "metadata": {},
     "output_type": "execute_result"
    }
   ],
   "source": [
    "retail_inventory.get(\"Electronics\")"
   ]
  },
  {
   "cell_type": "code",
   "execution_count": 18,
   "id": "a30704a8-7a6e-4f89-bd19-efd07d04cef8",
   "metadata": {},
   "outputs": [
    {
     "name": "stdout",
     "output_type": "stream",
     "text": [
      "False\n"
     ]
    }
   ],
   "source": [
    "if \"Microwave\" in retail_inventory:\n",
    "    print(True)\n",
    "else:\n",
    "    print (False)"
   ]
  },
  {
   "cell_type": "code",
   "execution_count": 21,
   "id": "b905a829-54f0-40c8-9796-d75b005b94ac",
   "metadata": {},
   "outputs": [],
   "source": [
    "retail_inventory_copy  =  retail_inventory.copy()"
   ]
  },
  {
   "cell_type": "code",
   "execution_count": 22,
   "id": "8c24bf8e-579e-463b-91ee-202ba7b4d362",
   "metadata": {},
   "outputs": [
    {
     "name": "stdout",
     "output_type": "stream",
     "text": [
      "{'Electronics': {'Laptop': [55000, 30, 'Dell'], 'Mobile': [25000, 50, 'Samsung'], 'Tablet': [18000, 20, 'Lenovo'], 'Smart Watch': [7999, 40, 'Noise']}, 'Apparel': {'T-Shirt': [499, 100, 'H&M'], 'Jeans': [1199, 60, \"Levi's\"], 'Jacket': [2499, 25, 'Puma']}, 'Home Appliances': {'Microwave': [8500, 15, 'LG'], 'Vacuum Cleaner': [7000, 10, 'Philips'], 'Refrigerator': [30000, 8, 'Samsung']}}\n"
     ]
    }
   ],
   "source": [
    "print (retail_inventory_copy)"
   ]
  },
  {
   "cell_type": "code",
   "execution_count": 23,
   "id": "414b24e6-fbeb-4e66-8a9c-c148f1af67fa",
   "metadata": {},
   "outputs": [
    {
     "data": {
      "text/plain": [
       "{'T-Shirt': [499, 100, 'H&M'],\n",
       " 'Jeans': [1199, 60, \"Levi's\"],\n",
       " 'Jacket': [2499, 25, 'Puma']}"
      ]
     },
     "execution_count": 23,
     "metadata": {},
     "output_type": "execute_result"
    }
   ],
   "source": [
    "retail_inventory_copy.pop(\"Apparel\")"
   ]
  },
  {
   "cell_type": "code",
   "execution_count": 24,
   "id": "8ffb94b8-dd7d-40b8-8c7e-5261dff7fe14",
   "metadata": {},
   "outputs": [
    {
     "name": "stdout",
     "output_type": "stream",
     "text": [
      "{'Electronics': {'Laptop': [55000, 30, 'Dell'], 'Mobile': [25000, 50, 'Samsung'], 'Tablet': [18000, 20, 'Lenovo'], 'Smart Watch': [7999, 40, 'Noise']}, 'Home Appliances': {'Microwave': [8500, 15, 'LG'], 'Vacuum Cleaner': [7000, 10, 'Philips'], 'Refrigerator': [30000, 8, 'Samsung']}}\n"
     ]
    }
   ],
   "source": [
    "print (retail_inventory_copy)"
   ]
  },
  {
   "cell_type": "code",
   "execution_count": 25,
   "id": "3bf83262-3817-49de-9e42-22b99bd4c424",
   "metadata": {},
   "outputs": [],
   "source": [
    "retail_inventory_copy.clear()"
   ]
  },
  {
   "cell_type": "code",
   "execution_count": 27,
   "id": "c332e55f-af9f-49d7-9078-d6409f49ed88",
   "metadata": {},
   "outputs": [
    {
     "name": "stdout",
     "output_type": "stream",
     "text": [
      "{}\n"
     ]
    }
   ],
   "source": [
    "print (retail_inventory_copy)"
   ]
  },
  {
   "cell_type": "code",
   "execution_count": 28,
   "id": "d6d2e868-cba3-4737-93dc-1fd97f4a9048",
   "metadata": {},
   "outputs": [],
   "source": [
    "retail_inventory_copy  =  retail_inventory.copy()"
   ]
  },
  {
   "cell_type": "code",
   "execution_count": 33,
   "id": "cfa86099-ada9-468c-b87a-e27fb263a925",
   "metadata": {},
   "outputs": [],
   "source": [
    "retail_inventory_copy.update({\"Oven\":\"Philips\"})"
   ]
  },
  {
   "cell_type": "code",
   "execution_count": 34,
   "id": "36d7bc06-30df-495f-ba11-4ab715dacc2a",
   "metadata": {},
   "outputs": [
    {
     "name": "stdout",
     "output_type": "stream",
     "text": [
      "{'Electronics': {'Laptop': [55000, 30, 'Dell'], 'Mobile': [25000, 50, 'Samsung'], 'Tablet': [18000, 20, 'Lenovo'], 'Smart Watch': [7999, 40, 'Noise']}, 'Apparel': {'T-Shirt': [499, 100, 'H&M'], 'Jeans': [1199, 60, \"Levi's\"], 'Jacket': [2499, 25, 'Puma']}, 'Home Appliances': {'Microwave': [8500, 15, 'LG'], 'Vacuum Cleaner': [7000, 10, 'Philips'], 'Refrigerator': [30000, 8, 'Samsung']}, 'Oven': 'Philips'}\n"
     ]
    }
   ],
   "source": [
    "print (retail_inventory_copy)"
   ]
  },
  {
   "cell_type": "code",
   "execution_count": 35,
   "id": "66ff2f15-efc3-4ea6-b786-551409d940f2",
   "metadata": {},
   "outputs": [
    {
     "ename": "SyntaxError",
     "evalue": "invalid syntax (427624398.py, line 1)",
     "output_type": "error",
     "traceback": [
      "\u001b[1;36m  Cell \u001b[1;32mIn[35], line 1\u001b[1;36m\u001b[0m\n\u001b[1;33m    for i in range(len(retail_inventory_copy):\u001b[0m\n\u001b[1;37m                                             ^\u001b[0m\n\u001b[1;31mSyntaxError\u001b[0m\u001b[1;31m:\u001b[0m invalid syntax\n"
     ]
    }
   ],
   "source": [
    "for i in range(len(retail_inventory_copy):\n",
    "    retail_inventory_copy"
   ]
  },
  {
   "cell_type": "code",
   "execution_count": 36,
   "id": "6b93e3aa-e204-4028-b86f-452a8a968c5a",
   "metadata": {},
   "outputs": [
    {
     "data": {
      "text/plain": [
       "'C:\\\\Users\\\\eyamram\\\\OneDrive - Ericsson\\\\Documents\\\\Ramya study\\\\EduKron\\\\Python'"
      ]
     },
     "execution_count": 36,
     "metadata": {},
     "output_type": "execute_result"
    }
   ],
   "source": [
    "pwd"
   ]
  },
  {
   "cell_type": "code",
   "execution_count": 38,
   "id": "341589c5-37ad-47af-8b0e-750bd8af9815",
   "metadata": {},
   "outputs": [],
   "source": [
    "retail_inventory_copy.clear()"
   ]
  },
  {
   "cell_type": "code",
   "execution_count": 39,
   "id": "4d9f7d44-6e4d-45af-8a6b-25e08555bea8",
   "metadata": {},
   "outputs": [
    {
     "name": "stdout",
     "output_type": "stream",
     "text": [
      "{}\n"
     ]
    }
   ],
   "source": [
    "print (retail_inventory_copy)"
   ]
  },
  {
   "cell_type": "code",
   "execution_count": 40,
   "id": "14c1e6b8-5040-4918-8213-46bdbe0aeead",
   "metadata": {},
   "outputs": [],
   "source": [
    "retail_inventory_copy  =  retail_inventory.copy()"
   ]
  },
  {
   "cell_type": "code",
   "execution_count": 41,
   "id": "6e2bdea8-71a4-4aae-b9ba-eae76745641c",
   "metadata": {},
   "outputs": [
    {
     "name": "stdout",
     "output_type": "stream",
     "text": [
      "{'Electronics': {'Laptop': [55000, 30, 'Dell'], 'Mobile': [25000, 50, 'Samsung'], 'Tablet': [18000, 20, 'Lenovo'], 'Smart Watch': [7999, 40, 'Noise']}, 'Apparel': {'T-Shirt': [499, 100, 'H&M'], 'Jeans': [1199, 60, \"Levi's\"], 'Jacket': [2499, 25, 'Puma']}, 'Home Appliances': {'Microwave': [8500, 15, 'LG'], 'Vacuum Cleaner': [7000, 10, 'Philips'], 'Refrigerator': [30000, 8, 'Samsung']}}\n"
     ]
    }
   ],
   "source": [
    "print (retail_inventory_copy)"
   ]
  },
  {
   "cell_type": "code",
   "execution_count": 42,
   "id": "d519a497-b41e-4a62-8a62-e9fa5c336ae0",
   "metadata": {},
   "outputs": [
    {
     "data": {
      "text/plain": [
       "dict_items([('Electronics', {'Laptop': [55000, 30, 'Dell'], 'Mobile': [25000, 50, 'Samsung'], 'Tablet': [18000, 20, 'Lenovo'], 'Smart Watch': [7999, 40, 'Noise']}), ('Apparel', {'T-Shirt': [499, 100, 'H&M'], 'Jeans': [1199, 60, \"Levi's\"], 'Jacket': [2499, 25, 'Puma']}), ('Home Appliances', {'Microwave': [8500, 15, 'LG'], 'Vacuum Cleaner': [7000, 10, 'Philips'], 'Refrigerator': [30000, 8, 'Samsung']})])"
      ]
     },
     "execution_count": 42,
     "metadata": {},
     "output_type": "execute_result"
    }
   ],
   "source": [
    "retail_inventory_copy.items()"
   ]
  },
  {
   "cell_type": "code",
   "execution_count": 47,
   "id": "2477e315-134d-45be-a239-98f43da420a9",
   "metadata": {},
   "outputs": [
    {
     "name": "stdout",
     "output_type": "stream",
     "text": [
      "{'Microwave': [8500, 15, 'LG'], 'Vacuum Cleaner': [7000, 10, 'Philips'], 'Refrigerator': [30000, 8, 'Samsung']}\n"
     ]
    }
   ],
   "source": [
    "copyData = retail_inventory_copy.copy()['Home Appliances']\n",
    "print(copyData)"
   ]
  },
  {
   "cell_type": "code",
   "execution_count": 48,
   "id": "47a2ac49-9606-4f73-b086-862b79b8c453",
   "metadata": {},
   "outputs": [
    {
     "data": {
      "text/plain": [
       "{'Electronics': {'Laptop': [55000, 30, 'Dell'],\n",
       "  'Mobile': [25000, 50, 'Samsung'],\n",
       "  'Tablet': [18000, 20, 'Lenovo'],\n",
       "  'Smart Watch': [7999, 40, 'Noise']},\n",
       " 'Apparel': {'T-Shirt': [499, 100, 'H&M'],\n",
       "  'Jeans': [1199, 60, \"Levi's\"],\n",
       "  'Jacket': [2499, 25, 'Puma']},\n",
       " 'Home Appliances': {'Microwave': [8500, 15, 'LG'],\n",
       "  'Vacuum Cleaner': [7000, 10, 'Philips'],\n",
       "  'Refrigerator': [30000, 8, 'Samsung']}}"
      ]
     },
     "execution_count": 48,
     "metadata": {},
     "output_type": "execute_result"
    }
   ],
   "source": [
    "retail_inventory"
   ]
  },
  {
   "cell_type": "code",
   "execution_count": 52,
   "id": "7daca3dd-f35b-49b5-ad40-8575136de35f",
   "metadata": {},
   "outputs": [
    {
     "name": "stdout",
     "output_type": "stream",
     "text": [
      "{'cricket': 'Dhoni', 'Foot Ball': 'Federer', 'Chess': 'Vishwanathan'}\n"
     ]
    }
   ],
   "source": [
    "newDict = {'cricket':'Dhoni',\n",
    "            'Foot Ball': 'Federer',\n",
    "            'Chess': 'Vishwanathan'}\n",
    "print(newDict)"
   ]
  },
  {
   "cell_type": "code",
   "execution_count": 53,
   "id": "8ee2aca1-5b59-4351-8d6a-234fa6924f54",
   "metadata": {},
   "outputs": [],
   "source": [
    "retail_inventory.update(newDict)"
   ]
  },
  {
   "cell_type": "code",
   "execution_count": 54,
   "id": "34b4ba5b-730e-439a-954b-5d17bc2e2ee5",
   "metadata": {},
   "outputs": [
    {
     "data": {
      "text/plain": [
       "{'Electronics': {'Laptop': [55000, 30, 'Dell'],\n",
       "  'Mobile': [25000, 50, 'Samsung'],\n",
       "  'Tablet': [18000, 20, 'Lenovo'],\n",
       "  'Smart Watch': [7999, 40, 'Noise']},\n",
       " 'Apparel': {'T-Shirt': [499, 100, 'H&M'],\n",
       "  'Jeans': [1199, 60, \"Levi's\"],\n",
       "  'Jacket': [2499, 25, 'Puma']},\n",
       " 'Home Appliances': {'Microwave': [8500, 15, 'LG'],\n",
       "  'Vacuum Cleaner': [7000, 10, 'Philips'],\n",
       "  'Refrigerator': [30000, 8, 'Samsung']},\n",
       " 'cricket': 'Dhoni',\n",
       " 'Foot Ball': 'Federer',\n",
       " 'Chess': 'Vishwanathan'}"
      ]
     },
     "execution_count": 54,
     "metadata": {},
     "output_type": "execute_result"
    }
   ],
   "source": [
    "retail_inventory"
   ]
  },
  {
   "cell_type": "code",
   "execution_count": null,
   "id": "d198865b-ba70-43d0-9b46-6692079fc4ff",
   "metadata": {},
   "outputs": [],
   "source": []
  }
 ],
 "metadata": {
  "kernelspec": {
   "display_name": "Python 3 (ipykernel)",
   "language": "python",
   "name": "python3"
  },
  "language_info": {
   "codemirror_mode": {
    "name": "ipython",
    "version": 3
   },
   "file_extension": ".py",
   "mimetype": "text/x-python",
   "name": "python",
   "nbconvert_exporter": "python",
   "pygments_lexer": "ipython3",
   "version": "3.13.1"
  }
 },
 "nbformat": 4,
 "nbformat_minor": 5
}
